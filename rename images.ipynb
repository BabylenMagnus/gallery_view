{
 "cells": [
  {
   "cell_type": "code",
   "execution_count": 1,
   "id": "initial_id",
   "metadata": {
    "collapsed": true,
    "ExecuteTime": {
     "end_time": "2024-02-26T17:54:33.963512800Z",
     "start_time": "2024-02-26T17:54:32.964752800Z"
    }
   },
   "outputs": [],
   "source": [
    "import pandas as pd\n",
    "import os\n",
    "from PIL import Image\n",
    "\n",
    "from tqdm import tqdm"
   ]
  },
  {
   "cell_type": "code",
   "outputs": [
    {
     "data": {
      "text/plain": "('data/2_21_without_image.csv', 'C:\\\\Users\\\\user\\\\Downloads\\\\images\\\\images')"
     },
     "execution_count": 2,
     "metadata": {},
     "output_type": "execute_result"
    }
   ],
   "source": [
    "INPUT_CSV = r\"data/2_21_without_image.csv\"\n",
    "INPUT_EXCEL = r\"C:\\Users\\user\\Downloads\\Without img.xlsx\"\n",
    "INPUT_IMAGES = r\"C:\\Users\\user\\Downloads\\images\\images\"\n",
    "OUTPUT_IMAGES = r\"OUTPUT/2_21_output\"\n",
    "INPUT_CSV, INPUT_IMAGES"
   ],
   "metadata": {
    "collapsed": false,
    "ExecuteTime": {
     "end_time": "2024-02-26T17:54:33.991513500Z",
     "start_time": "2024-02-26T17:54:33.960509200Z"
    }
   },
   "id": "bc37a2ebf89ad5e0",
   "execution_count": 2
  },
  {
   "cell_type": "code",
   "outputs": [
    {
     "data": {
      "text/plain": "        id                               external_id            provider  \\\n0     2394          e40d7d1867e24f1bb4bc81fced4af27e       bigtimegaming   \n1      529  b79e72b50cf211e1ba00cabb5ca54b38356131a9           blueprint   \n2     2648  f32e946f5e04fd941cc7ca50ce45c9360981a780              caleta   \n3     2654  bbbb115d41cf05749814ab606acdd2a99631055f              wazdan   \n4     2657  496f119595d1cf050790b51b435496951f296f9a  tripleprofitsgames   \n...    ...                                       ...                 ...   \n7197  4215          dbf56e972b384b70b994f1ad81aabe2e         playngoasia   \n7198  4219          671de66a49ff4c0ea34ec6fa03f2bf08         playngoasia   \n7199  4225          b02b780eb78e424aa40358e2860fa782         playngoasia   \n7200  4228          eee3a51458ca473eaaf502ff585746d0         playngoasia   \n7201  4233          e705330ea10b46e58f52b20375001a78         playngoasia   \n\n                        name  \\\n0         Dragon Born Mobile   \n1         Master of Atlantis   \n2            Halloween Lotto   \n3      Sizzling Bells Mobile   \n4            Dinosaur Island   \n...                      ...   \n7197             Super Wheel   \n7198        Temple of Wealth   \n7199    The Shimmering Woods   \n7200         Tome of Madness   \n7201  Viking Runecraft Bingo   \n\n                                             Unnamed: 4  \n0     https://altacdn.com/bf/img/games/92939-dragon-...  \n1     https://altacdn.com/bf/img/games/104843-atlant...  \n2     https://altacdn.com/bf/img/games/91031-hallowe...  \n3     https://altacdn.com/bf/img/games/92219-sizzlin...  \n4     https://altacdn.com/bf/img/games/90582-dinosau...  \n...                                                 ...  \n7197                                                NaN  \n7198                                                NaN  \n7199                                                NaN  \n7200                                                NaN  \n7201                                                NaN  \n\n[7202 rows x 5 columns]",
      "text/html": "<div>\n<style scoped>\n    .dataframe tbody tr th:only-of-type {\n        vertical-align: middle;\n    }\n\n    .dataframe tbody tr th {\n        vertical-align: top;\n    }\n\n    .dataframe thead th {\n        text-align: right;\n    }\n</style>\n<table border=\"1\" class=\"dataframe\">\n  <thead>\n    <tr style=\"text-align: right;\">\n      <th></th>\n      <th>id</th>\n      <th>external_id</th>\n      <th>provider</th>\n      <th>name</th>\n      <th>Unnamed: 4</th>\n    </tr>\n  </thead>\n  <tbody>\n    <tr>\n      <th>0</th>\n      <td>2394</td>\n      <td>e40d7d1867e24f1bb4bc81fced4af27e</td>\n      <td>bigtimegaming</td>\n      <td>Dragon Born Mobile</td>\n      <td>https://altacdn.com/bf/img/games/92939-dragon-...</td>\n    </tr>\n    <tr>\n      <th>1</th>\n      <td>529</td>\n      <td>b79e72b50cf211e1ba00cabb5ca54b38356131a9</td>\n      <td>blueprint</td>\n      <td>Master of Atlantis</td>\n      <td>https://altacdn.com/bf/img/games/104843-atlant...</td>\n    </tr>\n    <tr>\n      <th>2</th>\n      <td>2648</td>\n      <td>f32e946f5e04fd941cc7ca50ce45c9360981a780</td>\n      <td>caleta</td>\n      <td>Halloween Lotto</td>\n      <td>https://altacdn.com/bf/img/games/91031-hallowe...</td>\n    </tr>\n    <tr>\n      <th>3</th>\n      <td>2654</td>\n      <td>bbbb115d41cf05749814ab606acdd2a99631055f</td>\n      <td>wazdan</td>\n      <td>Sizzling Bells Mobile</td>\n      <td>https://altacdn.com/bf/img/games/92219-sizzlin...</td>\n    </tr>\n    <tr>\n      <th>4</th>\n      <td>2657</td>\n      <td>496f119595d1cf050790b51b435496951f296f9a</td>\n      <td>tripleprofitsgames</td>\n      <td>Dinosaur Island</td>\n      <td>https://altacdn.com/bf/img/games/90582-dinosau...</td>\n    </tr>\n    <tr>\n      <th>...</th>\n      <td>...</td>\n      <td>...</td>\n      <td>...</td>\n      <td>...</td>\n      <td>...</td>\n    </tr>\n    <tr>\n      <th>7197</th>\n      <td>4215</td>\n      <td>dbf56e972b384b70b994f1ad81aabe2e</td>\n      <td>playngoasia</td>\n      <td>Super Wheel</td>\n      <td>NaN</td>\n    </tr>\n    <tr>\n      <th>7198</th>\n      <td>4219</td>\n      <td>671de66a49ff4c0ea34ec6fa03f2bf08</td>\n      <td>playngoasia</td>\n      <td>Temple of Wealth</td>\n      <td>NaN</td>\n    </tr>\n    <tr>\n      <th>7199</th>\n      <td>4225</td>\n      <td>b02b780eb78e424aa40358e2860fa782</td>\n      <td>playngoasia</td>\n      <td>The Shimmering Woods</td>\n      <td>NaN</td>\n    </tr>\n    <tr>\n      <th>7200</th>\n      <td>4228</td>\n      <td>eee3a51458ca473eaaf502ff585746d0</td>\n      <td>playngoasia</td>\n      <td>Tome of Madness</td>\n      <td>NaN</td>\n    </tr>\n    <tr>\n      <th>7201</th>\n      <td>4233</td>\n      <td>e705330ea10b46e58f52b20375001a78</td>\n      <td>playngoasia</td>\n      <td>Viking Runecraft Bingo</td>\n      <td>NaN</td>\n    </tr>\n  </tbody>\n</table>\n<p>7202 rows × 5 columns</p>\n</div>"
     },
     "execution_count": 3,
     "metadata": {},
     "output_type": "execute_result"
    }
   ],
   "source": [
    "xl = pd.ExcelFile(INPUT_EXCEL)\n",
    "data = xl.parse(xl.sheet_names[1])\n",
    "data"
   ],
   "metadata": {
    "collapsed": false,
    "ExecuteTime": {
     "end_time": "2024-02-26T17:54:36.438650100Z",
     "start_time": "2024-02-26T17:54:33.978516500Z"
    }
   },
   "id": "fb9f8e94737095a",
   "execution_count": 3
  },
  {
   "cell_type": "code",
   "outputs": [],
   "source": [
    "# data.to_csv(INPUT_CSV, index=False)"
   ],
   "metadata": {
    "collapsed": false,
    "ExecuteTime": {
     "end_time": "2024-02-23T03:42:06.391490800Z",
     "start_time": "2024-02-23T03:42:06.344871Z"
    }
   },
   "id": "9796c93900465b2f",
   "execution_count": 4
  },
  {
   "cell_type": "code",
   "outputs": [
    {
     "data": {
      "text/plain": "        ID                                      Hash            Provider  \\\n0     2394          e40d7d1867e24f1bb4bc81fced4af27e       bigtimegaming   \n1      529  b79e72b50cf211e1ba00cabb5ca54b38356131a9           blueprint   \n2     2648  f32e946f5e04fd941cc7ca50ce45c9360981a780              caleta   \n3     2654  bbbb115d41cf05749814ab606acdd2a99631055f              wazdan   \n4     2657  496f119595d1cf050790b51b435496951f296f9a  tripleprofitsgames   \n...    ...                                       ...                 ...   \n7197  4215          dbf56e972b384b70b994f1ad81aabe2e         playngoasia   \n7198  4219          671de66a49ff4c0ea34ec6fa03f2bf08         playngoasia   \n7199  4225          b02b780eb78e424aa40358e2860fa782         playngoasia   \n7200  4228          eee3a51458ca473eaaf502ff585746d0         playngoasia   \n7201  4233          e705330ea10b46e58f52b20375001a78         playngoasia   \n\n                        Name  \\\n0         Dragon Born Mobile   \n1         Master of Atlantis   \n2            Halloween Lotto   \n3      Sizzling Bells Mobile   \n4            Dinosaur Island   \n...                      ...   \n7197             Super Wheel   \n7198        Temple of Wealth   \n7199    The Shimmering Woods   \n7200         Tome of Madness   \n7201  Viking Runecraft Bingo   \n\n                                                  Other  \n0     https://altacdn.com/bf/img/games/92939-dragon-...  \n1     https://altacdn.com/bf/img/games/104843-atlant...  \n2     https://altacdn.com/bf/img/games/91031-hallowe...  \n3     https://altacdn.com/bf/img/games/92219-sizzlin...  \n4     https://altacdn.com/bf/img/games/90582-dinosau...  \n...                                                 ...  \n7197                                                NaN  \n7198                                                NaN  \n7199                                                NaN  \n7200                                                NaN  \n7201                                                NaN  \n\n[7202 rows x 5 columns]",
      "text/html": "<div>\n<style scoped>\n    .dataframe tbody tr th:only-of-type {\n        vertical-align: middle;\n    }\n\n    .dataframe tbody tr th {\n        vertical-align: top;\n    }\n\n    .dataframe thead th {\n        text-align: right;\n    }\n</style>\n<table border=\"1\" class=\"dataframe\">\n  <thead>\n    <tr style=\"text-align: right;\">\n      <th></th>\n      <th>ID</th>\n      <th>Hash</th>\n      <th>Provider</th>\n      <th>Name</th>\n      <th>Other</th>\n    </tr>\n  </thead>\n  <tbody>\n    <tr>\n      <th>0</th>\n      <td>2394</td>\n      <td>e40d7d1867e24f1bb4bc81fced4af27e</td>\n      <td>bigtimegaming</td>\n      <td>Dragon Born Mobile</td>\n      <td>https://altacdn.com/bf/img/games/92939-dragon-...</td>\n    </tr>\n    <tr>\n      <th>1</th>\n      <td>529</td>\n      <td>b79e72b50cf211e1ba00cabb5ca54b38356131a9</td>\n      <td>blueprint</td>\n      <td>Master of Atlantis</td>\n      <td>https://altacdn.com/bf/img/games/104843-atlant...</td>\n    </tr>\n    <tr>\n      <th>2</th>\n      <td>2648</td>\n      <td>f32e946f5e04fd941cc7ca50ce45c9360981a780</td>\n      <td>caleta</td>\n      <td>Halloween Lotto</td>\n      <td>https://altacdn.com/bf/img/games/91031-hallowe...</td>\n    </tr>\n    <tr>\n      <th>3</th>\n      <td>2654</td>\n      <td>bbbb115d41cf05749814ab606acdd2a99631055f</td>\n      <td>wazdan</td>\n      <td>Sizzling Bells Mobile</td>\n      <td>https://altacdn.com/bf/img/games/92219-sizzlin...</td>\n    </tr>\n    <tr>\n      <th>4</th>\n      <td>2657</td>\n      <td>496f119595d1cf050790b51b435496951f296f9a</td>\n      <td>tripleprofitsgames</td>\n      <td>Dinosaur Island</td>\n      <td>https://altacdn.com/bf/img/games/90582-dinosau...</td>\n    </tr>\n    <tr>\n      <th>...</th>\n      <td>...</td>\n      <td>...</td>\n      <td>...</td>\n      <td>...</td>\n      <td>...</td>\n    </tr>\n    <tr>\n      <th>7197</th>\n      <td>4215</td>\n      <td>dbf56e972b384b70b994f1ad81aabe2e</td>\n      <td>playngoasia</td>\n      <td>Super Wheel</td>\n      <td>NaN</td>\n    </tr>\n    <tr>\n      <th>7198</th>\n      <td>4219</td>\n      <td>671de66a49ff4c0ea34ec6fa03f2bf08</td>\n      <td>playngoasia</td>\n      <td>Temple of Wealth</td>\n      <td>NaN</td>\n    </tr>\n    <tr>\n      <th>7199</th>\n      <td>4225</td>\n      <td>b02b780eb78e424aa40358e2860fa782</td>\n      <td>playngoasia</td>\n      <td>The Shimmering Woods</td>\n      <td>NaN</td>\n    </tr>\n    <tr>\n      <th>7200</th>\n      <td>4228</td>\n      <td>eee3a51458ca473eaaf502ff585746d0</td>\n      <td>playngoasia</td>\n      <td>Tome of Madness</td>\n      <td>NaN</td>\n    </tr>\n    <tr>\n      <th>7201</th>\n      <td>4233</td>\n      <td>e705330ea10b46e58f52b20375001a78</td>\n      <td>playngoasia</td>\n      <td>Viking Runecraft Bingo</td>\n      <td>NaN</td>\n    </tr>\n  </tbody>\n</table>\n<p>7202 rows × 5 columns</p>\n</div>"
     },
     "execution_count": 4,
     "metadata": {},
     "output_type": "execute_result"
    }
   ],
   "source": [
    "data = pd.read_csv(INPUT_CSV)\n",
    "data"
   ],
   "metadata": {
    "collapsed": false,
    "ExecuteTime": {
     "end_time": "2024-02-26T17:54:36.557724400Z",
     "start_time": "2024-02-26T17:54:36.430657500Z"
    }
   },
   "id": "5b51e3b1ea465e25",
   "execution_count": 4
  },
  {
   "cell_type": "code",
   "outputs": [
    {
     "data": {
      "text/plain": "'Fairy Dust Mobile'"
     },
     "execution_count": 13,
     "metadata": {},
     "output_type": "execute_result"
    }
   ],
   "source": [
    "data[data[\"ID\"] == \"54940267a83140bf9d45697ddceac72a\"][\"Name\"].values[0]"
   ],
   "metadata": {
    "collapsed": false,
    "ExecuteTime": {
     "end_time": "2024-02-23T03:43:23.633711200Z",
     "start_time": "2024-02-23T03:43:23.582156700Z"
    }
   },
   "id": "a4694825ab49c08a",
   "execution_count": 13
  },
  {
   "cell_type": "code",
   "outputs": [],
   "source": [
    "rename = lambda x: x.replace(\"™\", \"\").replace(\"’\", \"\").replace(\"´\", \"\").replace(\"–\", \"\").replace(\"‘\", \"\").replace(\"é\", \"e\").strip() # 3033"
   ],
   "metadata": {
    "collapsed": false,
    "ExecuteTime": {
     "end_time": "2024-02-21T09:55:52.715102700Z",
     "start_time": "2024-02-21T09:55:52.596330300Z"
    }
   },
   "id": "a7363fcf0614e971",
   "execution_count": 11
  },
  {
   "cell_type": "code",
   "outputs": [],
   "source": [
    "name2hash = {}\n",
    "for i in range(len(data)):\n",
    "    i = data.iloc[i]\n",
    "    name = rename(i[\"Name\"].lower().replace(\"mobile\", \"\"))\n",
    "    if name in name2hash:\n",
    "        if isinstance(name2hash[name], list):\n",
    "            name2hash[name].append(i[\"ID\"])\n",
    "        else:\n",
    "            name2hash[name] = [name2hash[name]] + [i[\"ID\"]]\n",
    "    else:\n",
    "        name2hash[name] = i[\"ID\"].lower()"
   ],
   "metadata": {
    "collapsed": false,
    "ExecuteTime": {
     "end_time": "2024-02-21T10:05:06.830548Z",
     "start_time": "2024-02-21T10:05:06.078064400Z"
    }
   },
   "id": "c2c9f6a2a5ed4855",
   "execution_count": 21
  },
  {
   "cell_type": "code",
   "outputs": [
    {
     "data": {
      "text/plain": "5152"
     },
     "execution_count": 22,
     "metadata": {},
     "output_type": "execute_result"
    }
   ],
   "source": [
    "len(list(name2hash.keys()))"
   ],
   "metadata": {
    "collapsed": false,
    "ExecuteTime": {
     "end_time": "2024-02-21T10:05:06.851110100Z",
     "start_time": "2024-02-21T10:05:06.832546900Z"
    }
   },
   "id": "697efbde44499f6",
   "execution_count": 22
  },
  {
   "cell_type": "code",
   "outputs": [
    {
     "data": {
      "text/plain": "7202"
     },
     "execution_count": 23,
     "metadata": {},
     "output_type": "execute_result"
    }
   ],
   "source": [
    "len(data)"
   ],
   "metadata": {
    "collapsed": false,
    "ExecuteTime": {
     "end_time": "2024-02-21T10:05:07.475737700Z",
     "start_time": "2024-02-21T10:05:07.452737400Z"
    }
   },
   "id": "ff5c131bbf7d2c69",
   "execution_count": 23
  },
  {
   "cell_type": "code",
   "outputs": [
    {
     "data": {
      "text/plain": "(3033, 11413)"
     },
     "execution_count": 24,
     "metadata": {},
     "output_type": "execute_result"
    }
   ],
   "source": [
    "naming = [rename(x[:-4].lower()) for x in os.listdir(INPUT_IMAGES)]\n",
    "\n",
    "plus = []\n",
    "minus = []\n",
    "\n",
    "for i in naming:\n",
    "    if i[-1] == 'x2':\n",
    "        continue\n",
    "    \n",
    "    if i in name2hash:\n",
    "        plus += [i]\n",
    "    else:\n",
    "        minus += [i]\n",
    "\n",
    "len(plus), len(minus)"
   ],
   "metadata": {
    "collapsed": false,
    "ExecuteTime": {
     "end_time": "2024-02-21T10:05:12.976308400Z",
     "start_time": "2024-02-21T10:05:12.899677100Z"
    }
   },
   "id": "3bb8f393c355cce9",
   "execution_count": 24
  },
  {
   "cell_type": "code",
   "outputs": [
    {
     "name": "stderr",
     "output_type": "stream",
     "text": [
      "100%|██████████| 14446/14446 [04:27<00:00, 53.95it/s] \n"
     ]
    }
   ],
   "source": [
    "for name in tqdm(os.listdir(INPUT_IMAGES)):\n",
    "    i = rename(name[:-4].lower())\n",
    "    if i[-1] == 'x2':\n",
    "        i = i[:-2]\n",
    "\n",
    "    if i in name2hash:\n",
    "        img_path = os.path.join(INPUT_IMAGES, name)\n",
    "        img = Image.open(img_path)\n",
    "        w, h = img.size\n",
    "        if isinstance(name2hash[i], list):\n",
    "            for j in name2hash[i]:\n",
    "                out_path = os.path.join(OUTPUT_IMAGES, j) + \".png\"   \n",
    "                img.save(out_path)\n",
    "        else:\n",
    "            out_path = os.path.join(OUTPUT_IMAGES, name2hash[i]) + \".png\"\n",
    "            img.save(out_path)\n",
    "            # if h > w and os.path.exists(out_path):\n",
    "            #     print(\"vert   = \", name)\n",
    "            #     img.save(out_path)\n",
    "                # continue\n",
    "            # if os.path.exists(out_path):\n",
    "            #     print(name)\n",
    "                # continue\n",
    "            # img.save(out_path)"
   ],
   "metadata": {
    "collapsed": false,
    "ExecuteTime": {
     "end_time": "2024-02-21T10:09:41.912982Z",
     "start_time": "2024-02-21T10:05:14.071559700Z"
    }
   },
   "id": "a5aadee81aca8dd6",
   "execution_count": 25
  },
  {
   "cell_type": "code",
   "outputs": [
    {
     "data": {
      "text/plain": "[['b35f10daefd748c7b6ac097e7ec89998', '1238addbd3c9411984cff074c4ace225'],\n '77c6a519899b467985f725eda6aa0f99']"
     },
     "execution_count": 20,
     "metadata": {},
     "output_type": "execute_result"
    }
   ],
   "source": [
    "name2hash[i]"
   ],
   "metadata": {
    "collapsed": false,
    "ExecuteTime": {
     "end_time": "2024-02-21T10:01:55.276731600Z",
     "start_time": "2024-02-21T10:01:55.245730800Z"
    }
   },
   "id": "31e5f4d1b981398d",
   "execution_count": 20
  },
  {
   "cell_type": "code",
   "outputs": [],
   "source": [
    "OUTPUT_IMAGES_VERT = \"OUTPUT/2_21_vert\""
   ],
   "metadata": {
    "collapsed": false,
    "ExecuteTime": {
     "end_time": "2024-02-21T07:56:33.238202300Z",
     "start_time": "2024-02-21T07:56:33.219203500Z"
    }
   },
   "id": "c6e5720ec9340fc",
   "execution_count": 33
  },
  {
   "cell_type": "code",
   "outputs": [
    {
     "name": "stderr",
     "output_type": "stream",
     "text": [
      " 19%|█▉        | 2739/14446 [00:25<01:59, 98.15it/s] "
     ]
    },
    {
     "name": "stdout",
     "output_type": "stream",
     "text": [
      "Casino Hold’emx2.jpg\n"
     ]
    },
    {
     "name": "stderr",
     "output_type": "stream",
     "text": [
      "100%|██████████| 14446/14446 [02:16<00:00, 106.00it/s]\n"
     ]
    }
   ],
   "source": [
    "for name in tqdm(os.listdir(INPUT_IMAGES)):\n",
    "    i = rename(name[:-4].lower())\n",
    "    if i in name2hash:\n",
    "        continue\n",
    "    \n",
    "    img_path = os.path.join(INPUT_IMAGES, name)\n",
    "    img = Image.open(img_path)\n",
    "    w, h = img.size\n",
    "    if h > w:\n",
    "        out_path = os.path.join(OUTPUT_IMAGES_VERT, rename(name))\n",
    "        if os.path.exists(out_path):\n",
    "            print(name)\n",
    "        img.save(out_path)"
   ],
   "metadata": {
    "collapsed": false,
    "ExecuteTime": {
     "end_time": "2024-02-21T07:58:51.086003400Z",
     "start_time": "2024-02-21T07:56:34.535386300Z"
    }
   },
   "id": "d711b5071047478a",
   "execution_count": 34
  },
  {
   "cell_type": "markdown",
   "source": [
    "## Вопросы\n",
    "Всего оригинальных картинок:\n",
    "Сматченных картинок:\n",
    "Не сматченных, но есть вертикальный экземпляр"
   ],
   "metadata": {
    "collapsed": false
   },
   "id": "91357dd919b2375a"
  },
  {
   "cell_type": "code",
   "outputs": [],
   "source": [
    "Privé Lounge 1x2"
   ],
   "metadata": {
    "collapsed": false
   },
   "id": "5128278ae708786b"
  },
  {
   "cell_type": "markdown",
   "source": [
    "## Проблемы\n",
    "\n",
    "- в картинках нету слова Mobile, но в Excell он встречается сотни раз, матчить такие случаи?\n",
    "- 5400 картинок нету в Excell\n",
    " \n"
   ],
   "metadata": {
    "collapsed": false
   },
   "id": "368253db4b369a68"
  },
  {
   "cell_type": "code",
   "outputs": [
    {
     "data": {
      "text/plain": "(450, 338)"
     },
     "execution_count": 22,
     "metadata": {},
     "output_type": "execute_result"
    }
   ],
   "source": [
    "img.size"
   ],
   "metadata": {
    "collapsed": false,
    "ExecuteTime": {
     "end_time": "2024-02-21T03:08:38.230981300Z",
     "start_time": "2024-02-21T03:08:38.193980200Z"
    }
   },
   "id": "61899fcc7510d68d",
   "execution_count": 22
  },
  {
   "cell_type": "code",
   "outputs": [
    {
     "data": {
      "text/plain": "['12 coins™ grand gold edition',\n '12 coins™ grand gold editionx2',\n '12 coins™ halloween edition',\n '12 coins™',\n '12 coins™x2',\n '15 coins™',\n '15 coins™x2',\n '16 coins™ halloween edition',\n '16 coins™',\n '16 coins™x2',\n '9 coins™ easter edition',\n '9 coins™ extremely light',\n '9 coins™ grand diamond edition',\n '9 coins™ grand platinum edition',\n '9 coins™ grand platinum editionx2',\n '9 tigers™',\n '9 tigers™x2',\n 'aloha spirit xtralock™',\n 'aloha spirit xtralock™x2',\n 'big bass - hold & spinner™',\n 'burning sun™ easter edition',\n 'burning sun™ extremely light',\n 'burning sun™ extremely lightx2',\n 'burning sun™',\n 'burning sun™x2',\n 'choco reels™ easter',\n 'choco reels™ easterx2',\n 'cube mania deluxe™',\n 'cube mania deluxe™x2',\n 'cube mania™',\n 'cube mania™x2',\n 'dragons lucky 8™',\n 'dragons lucky 8™x2',\n 'dwarfs fortune™ easter',\n 'dwarfs fortune™ easterx2',\n 'el patron™',\n 'el patron™x2',\n 'get the gold infinireels™',\n 'good luck clusterbuster™',\n 'hot slot™- 777 cash out extremely light',\n 'hot slot™- 777 cash out extremely lightx2',\n 'hot slot™- 777 cash out halloween edition',\n 'hot slot™- 777 cash out',\n 'hot slot™- 777 cash outx2',\n 'hot slot™- 777 coins extremely light',\n 'hot slot™- 777 coins halloween edition',\n 'hot slot™- 777 crown xmas',\n 'hot slot™- 777 crown xmasx2',\n 'hot slot™- 777 stars easter edition',\n 'hot slot™- 777 stars easter editionx2',\n 'hot slot™- great book of magic',\n 'hot slot™- great book of magicx2',\n 'hot slot™- magic bombs easter edition',\n 'hot slot™- magic bombs xmas',\n 'hot slot™- magic bombs xmasx2',\n 'hot slot™- magic bombs',\n 'hot slot™- magic bombsx2',\n 'hot slot™- mystery jackpot joker',\n 'hot slot™- mystery jackpot jokerx2',\n 'jack and the beanstalk™ remastered',\n 'jelly mania xtrastreak™',\n 'jelly mania xtrastreak™x2',\n 'jelly reels™ xmas',\n 'lone rider xtraways™',\n 'lone rider xtraways™x2',\n 'los muertos™ 2',\n 'lucky reels™',\n 'lucky reels™x2',\n 'lucky ticket 81™',\n 'lucky ticket 81™x2',\n 'magic powers megaways™',\n 'magic spins™ xmas',\n 'mighty wild™- panther halloween edition',\n 'mighty wild™- panther',\n 'mighty wild™- pantherx2',\n 'mystery kingdom™- mystery bells halloween edition',\n 'mystery kingdom™- mystery bells',\n 'mystery kingdom™- mystery bellsx2',\n 'mystic bear xtrahold™',\n 'mystic bear xtrahold™x2',\n 'notre-dame tales gigablox™',\n 'notre-dame tales gigablox™x2',\n 'pho sho™',\n 'power of gods™- medusa easter',\n 'power of gods™- medusa halloween edition',\n 'power of gods™- medusa',\n 'power of gods™- medusax2',\n 'power of gods™- valhalla',\n 'power of gods™- valhallax2',\n 'power of sun™- svarog easter edition',\n 'power of sun™- svarog halloween edition',\n 'power of sun™- svarog',\n 'power of sun™- svarogx2',\n 'rabbit garden™',\n \"rock n' ways xtraways™\",\n \"rock n' ways xtraways™x2\",\n 'royal rumble xtragacha™',\n 'royal rumble xtragacha™x2',\n 'sizzling eggs™ halloween edition',\n 'sizzling kingdom™- bison xmas',\n 'sizzling kingdom™- bison xmasx2',\n 'sizzling kingdom™- bison',\n 'sizzling kingdom™- bisonx2',\n 'viking honour xtrawild™',\n 'viking honour xtrawild™x2',\n 'wild turkey™ megaways™',\n 'wild turkey™ megaways™x2']"
     },
     "execution_count": 32,
     "metadata": {},
     "output_type": "execute_result"
    }
   ],
   "source": [
    "[x for x in minus if \"™\" in x]"
   ],
   "metadata": {
    "collapsed": false,
    "ExecuteTime": {
     "end_time": "2024-02-21T03:20:51.884652200Z",
     "start_time": "2024-02-21T03:20:51.864653300Z"
    }
   },
   "id": "c97bf331c5a2c3bb",
   "execution_count": 32
  },
  {
   "cell_type": "code",
   "outputs": [],
   "source": [
    "Book Of Wolves – Full Moonx2"
   ],
   "metadata": {
    "collapsed": false
   },
   "id": "960be4d0fdc46855"
  }
 ],
 "metadata": {
  "kernelspec": {
   "display_name": "Python 3",
   "language": "python",
   "name": "python3"
  },
  "language_info": {
   "codemirror_mode": {
    "name": "ipython",
    "version": 2
   },
   "file_extension": ".py",
   "mimetype": "text/x-python",
   "name": "python",
   "nbconvert_exporter": "python",
   "pygments_lexer": "ipython2",
   "version": "2.7.6"
  }
 },
 "nbformat": 4,
 "nbformat_minor": 5
}
