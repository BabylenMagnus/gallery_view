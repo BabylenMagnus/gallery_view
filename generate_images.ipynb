{
 "cells": [
  {
   "cell_type": "code",
   "execution_count": 1,
   "id": "initial_id",
   "metadata": {
    "collapsed": true,
    "ExecuteTime": {
     "end_time": "2023-11-03T04:39:06.077096949Z",
     "start_time": "2023-11-03T04:38:56.673118736Z"
    }
   },
   "outputs": [],
   "source": [
    "import gradio as gr\n",
    "\n",
    "import numpy as np\n",
    "from PIL import Image, ImageDraw, ImageFont\n",
    "\n",
    "import easyocr\n",
    "\n",
    "import os\n",
    "import io\n",
    "import requests\n",
    "import base64\n",
    "import cv2\n",
    "\n",
    "from datetime import datetime\n",
    "from uuid import uuid4\n",
    "\n",
    "from utils import outpainting_with_value, MODELS, VAES, SIZES, BASE_NEGATIV_PROMPT, generate_image_txt2img, get_samplers\n",
    "\n",
    "import glob\n",
    "\n",
    "import random"
   ]
  },
  {
   "cell_type": "code",
   "execution_count": 38,
   "outputs": [],
   "source": [
    "positive_prompts = [\n",
    "    (\n",
    "        [\"white girl in casino\", \"portrait  girl at a casino\", \"girl at a casino\"], [0.3, 0.1, 0.5], 0.7\n",
    "    ),\n",
    "    (\n",
    "        [\"smiling woman looking into the camera\", \"smiling woman\", \"smiling\"], [0.1, 0.1, 0.3], 0.5\n",
    "    ),\n",
    "    (\"casino\", 0.3),\n",
    "    (\"<lora:casino:0.6>\", 0.2),\n",
    "    (\"<lora:add_detail:1>\", 0.05),\n",
    "    (\"<lora:more_details:0.8>\", 0.05),\n",
    "    (\"<lora:BeautifulDetailedEyes:0.5>\", 0.05),\n",
    "    (\"<lora:polyhedron_all_eyes:0.4>\", 0.05),\n",
    "    (\n",
    "        [\"black corset\", \"red leotard\", \"jacket\", \"red striped sweater\"], [0.1, 0.1, 0.2, 0.1], 0.4\n",
    "    ),\n",
    "    (\n",
    "        [\"pink hair\", \"short hair\", \"orange hair\"], [0.1, 0.2, 0.4], 0.2\n",
    "    ),\n",
    "   (\n",
    "        [\"light pink eyes\", \"green eyes\"], [0.1, 0.3], 0.2\n",
    "    ),\n",
    "    (\n",
    "        [\"realistic\", \"ultra realistic\"], [0.3, 0.4], 0.5\n",
    "    ),\n",
    "    (\"depth of field insanely detailed\", 0.1),\n",
    "    (\"detailed face\", 0.1),\n",
    "    (\"octane rendered\", 0.05),\n",
    "    (\"masterpiece\", 0.05),\n",
    "    (\"high quality\", 0.05),\n",
    "    (\"beautiful\", 0.05),\n",
    "    (\"unreal engine\", 0.05),\n",
    "    (\"shiny skin\", 0.05),\n",
    "    (\"surrounded by glowing\", 0.05),\n",
    "    (\"real life\", 0.05),\n",
    "    (\"detailed background\", 0.2),\n",
    "    (\"photoshoot\", 0.05),\n",
    "    (\"amazing\", 0.05),\n",
    "    (\"Nikon D850 film stock photograph Kodak Portra 400 camera f1.6 lens\", 0.05),\n",
    "    (\"amazing fine detail\", 0.05),\n",
    "    (\"close-up\", 0.05),\n",
    "    (\"round cute face\", 0.05),\n",
    "    (\"trending on artstation\", 0.05),\n",
    "    (\n",
    "        [\"sitting on roulette table\", \"a pinup of a girl sitting on roulette\"], [0.3, 0.1], 0.1\n",
    "    ),\n",
    "    (\"white cuffs\", 0.05),\n",
    "    (\"bow tie\", 0.2),\n",
    "    (\"photo-realistic\", 0.1),\n",
    "    (\"best quality\", 0.2),\n",
    "    (\"gambling\", 0.05),\n",
    "    (\"roulette wheel spins\", 0.05),\n",
    "    (\"cinestill 800 tungsten\", 0.05),\n",
    "    (\"indoor\", 0.05),\n",
    "    (\"looking at viewer\", 0.4),\n",
    "    (\"front\", 0.05),\n",
    "    (\"ultra-detailed\", 0.05),\n",
    "    (\"professional lighting\", 0.05),\n",
    "    (\"roulette\", 0.05),\n",
    "    (\"slot machine\", 0.05),\n",
    "    (\"in the casino\", 0.05),\n",
    "    (\"roulette table\", 0.05),\n",
    "    (\"leaning forward\", 0.1),\n",
    "    (\"indoors\", 0.05),\n",
    "    (\"in casino\", 0.05),\n",
    "    (\"stack of coin\", 0.05),\n",
    "    (\"spread legs\", 0.05),\n",
    "    (\"nose blush\", 0.05),\n",
    "    (\"looking up\", 0.05),\n",
    "    (\"from above\", 0.05),\n",
    "    (\"braid\", 0.05),\n",
    "    (\"earrings\", 0.01),\n",
    "    (\"glossy luster playboy bunny\", 0.05),\n",
    "    (\"oversized breast cup\", 0.05),\n",
    "    (\"bare legs\", 0.05),\n",
    "    (\"Pin-up pose\", 0.05),\n",
    "    (\"pin up\", 0.05),\n",
    "    (\"pinup pose\", 0.05),\n",
    "    (\"sexy slut poses\", 0.1),\n",
    "    (\"latex bdsm suit\", 0.1),\n",
    "    (\"latex\", 0.1),\n",
    "    (\"looking into the camera\", 0.1),\n",
    "    (\n",
    "        [\"8k\", \"4k\", \"16k\"], [0.2, 0.2, 0.2], 0.4\n",
    "    )\n",
    "]\n",
    "\n",
    "negative_prompts = [\n",
    "    (\"EasyNegative\", 0.3),\n",
    "    (\"worst quality\", 0.1),\n",
    "    (\"BadDream\", 0.5),\n",
    "    (\"UnrealisticDream\", 0.5),\n",
    "    (\"bad anatomy\", 0.1),\n",
    "    (\"deformed hands\", 0.1),\n",
    "    (\"ugly\", 0.1),\n",
    "]\n",
    "\n",
    "def create_prompt(probabilities=positive_prompts):\n",
    "    out_prompt = []\n",
    "    for prob in probabilities:\n",
    "        if isinstance(prob[0], str):\n",
    "            if prob[1] > random.random():\n",
    "                out_prompt.append(prob[0])\n",
    "        else:\n",
    "            # вариант со вложенностью\n",
    "            if prob[2] > random.random():\n",
    "                out_prompt.append(random.choices(prob[0], weights=prob[1], k=1)[0])\n",
    "    return \", \".join(out_prompt)"
   ],
   "metadata": {
    "collapsed": false,
    "ExecuteTime": {
     "end_time": "2023-11-03T05:04:50.651851183Z",
     "start_time": "2023-11-03T05:04:50.616445147Z"
    }
   },
   "id": "e759ee930a209fb4"
  },
  {
   "cell_type": "code",
   "execution_count": 39,
   "outputs": [
    {
     "data": {
      "text/plain": "'casino, realistic, best quality'"
     },
     "execution_count": 39,
     "metadata": {},
     "output_type": "execute_result"
    }
   ],
   "source": [
    "create_prompt()"
   ],
   "metadata": {
    "collapsed": false,
    "ExecuteTime": {
     "end_time": "2023-11-03T05:04:51.197199143Z",
     "start_time": "2023-11-03T05:04:51.174172164Z"
    }
   },
   "id": "c291275730e51f76"
  },
  {
   "cell_type": "code",
   "execution_count": 40,
   "outputs": [],
   "source": [
    "RESULT_DIR = r\"IMGS_1_11\"\n",
    "RESULTS = os.listdir(RESULT_DIR)\n",
    "OUT_DIR = r\"WITHOUT_TEXT\""
   ],
   "metadata": {
    "collapsed": false,
    "ExecuteTime": {
     "end_time": "2023-11-03T05:04:51.459433791Z",
     "start_time": "2023-11-03T05:04:51.419625449Z"
    }
   },
   "id": "f90d8fbff02e231f"
  },
  {
   "cell_type": "code",
   "execution_count": 41,
   "outputs": [],
   "source": [
    "model = \"deliberate_v3.safetensors [aadddd3d75]\"\n",
    "vae = \"vaeFtMse840000Ema_v100.pt\"\n",
    "size = \"Стандарт 408×544\"\n",
    "prompt = \"casino, blackjack\"\n",
    "sampler = \"DPM++ 2M Karras\"\n",
    "steps = 40\n",
    "cfg_scale = 7\n",
    "denoising_strength = 0.75\n",
    "batch_size = 15"
   ],
   "metadata": {
    "collapsed": false,
    "ExecuteTime": {
     "end_time": "2023-11-03T05:04:51.653320556Z",
     "start_time": "2023-11-03T05:04:51.633400084Z"
    }
   },
   "id": "36342f5a460b1825"
  },
  {
   "cell_type": "code",
   "execution_count": 42,
   "outputs": [
    {
     "data": {
      "text/plain": "['None',\n 'difconsistencyRAWVAE_v10.pt',\n 'klF8Anime2_klF8Anime2VAE.pt',\n 'vaeFtMse840000Ema_v100.pt',\n 'color101VAE_v1.safetensors',\n 'toneRangeCompressor_trcvae.safetensors',\n 'anythingKlF8Anime2VaeFtMse840000_klF8Anime2.safetensors']"
     },
     "execution_count": 42,
     "metadata": {},
     "output_type": "execute_result"
    }
   ],
   "source": [
    "VAES"
   ],
   "metadata": {
    "collapsed": false,
    "ExecuteTime": {
     "end_time": "2023-11-03T05:04:51.852456344Z",
     "start_time": "2023-11-03T05:04:51.801503748Z"
    }
   },
   "id": "be1d62b93a986455"
  },
  {
   "cell_type": "code",
   "execution_count": 43,
   "outputs": [
    {
     "data": {
      "text/plain": "['DPM++ 2M Karras',\n 'DPM++ SDE Karras',\n 'DPM++ 2M SDE Exponential',\n 'DPM++ 2M SDE Karras',\n 'Euler a',\n 'Euler',\n 'LMS',\n 'Heun',\n 'DPM2',\n 'DPM2 a',\n 'DPM++ 2S a',\n 'DPM++ 2M',\n 'DPM++ SDE',\n 'DPM++ 2M SDE',\n 'DPM++ 2M SDE Heun',\n 'DPM++ 2M SDE Heun Karras',\n 'DPM++ 2M SDE Heun Exponential',\n 'DPM++ 3M SDE',\n 'DPM++ 3M SDE Karras',\n 'DPM++ 3M SDE Exponential',\n 'DPM fast',\n 'DPM adaptive',\n 'LMS Karras',\n 'DPM2 Karras',\n 'DPM2 a Karras',\n 'DPM++ 2S a Karras',\n 'Restart',\n 'DDIM',\n 'PLMS',\n 'UniPC']"
     },
     "execution_count": 43,
     "metadata": {},
     "output_type": "execute_result"
    }
   ],
   "source": [
    "get_samplers()"
   ],
   "metadata": {
    "collapsed": false,
    "ExecuteTime": {
     "end_time": "2023-11-03T05:04:52.327957170Z",
     "start_time": "2023-11-03T05:04:52.313084260Z"
    }
   },
   "id": "3fc6d502ca8a599f"
  },
  {
   "cell_type": "code",
   "execution_count": 44,
   "outputs": [],
   "source": [
    "A111_url = \"http://127.0.0.1:7860\"\n",
    "def log_img(imgs):\n",
    "    for img in imgs:\n",
    "        img.save(os.path.join(\"log\", datetime.now().strftime(\"%d%m_%H_%M%S\") + f\"{str(uuid4())[:5]}.png\"))"
   ],
   "metadata": {
    "collapsed": false,
    "ExecuteTime": {
     "end_time": "2023-11-03T05:04:52.607029668Z",
     "start_time": "2023-11-03T05:04:52.568845289Z"
    }
   },
   "id": "81bde1a203bdcf42"
  },
  {
   "cell_type": "code",
   "execution_count": 45,
   "outputs": [],
   "source": [
    "def generate_image_txt2img(\n",
    "        model, vae_name, prompt, negative_prompt, sampler, steps, cfg_scale, denoising_strength, batch_size=1\n",
    "):\n",
    "    payload = {\n",
    "        \"prompt\": prompt,\n",
    "        \"negative_prompt\": negative_prompt,\n",
    "        \"steps\": steps,\n",
    "        \"batch_size\": batch_size,\n",
    "        \"override_settings\": {\n",
    "            \"sd_model_checkpoint\": model,\n",
    "            \"sd_vae\": vae_name\n",
    "        },\n",
    "        \"width\": 408,\n",
    "        \"height\": 544,\n",
    "        \"sampler_index\": sampler,\n",
    "        \"cfg_scale\": cfg_scale,\n",
    "        \"denoising_strength\": denoising_strength\n",
    "    }\n",
    "\n",
    "    response = requests.post(f'{A111_url}/sdapi/v1/txt2img', json=payload)\n",
    "    imgs = [Image.open(io.BytesIO(base64.b64decode(i))) for i in response.json()[\"images\"]]\n",
    "    log_img(imgs)\n",
    "    return imgs"
   ],
   "metadata": {
    "collapsed": false,
    "ExecuteTime": {
     "end_time": "2023-11-03T05:04:52.925149122Z",
     "start_time": "2023-11-03T05:04:52.887956505Z"
    }
   },
   "id": "cc8edf286fdfc0ac"
  },
  {
   "cell_type": "code",
   "execution_count": null,
   "outputs": [
    {
     "name": "stdout",
     "output_type": "stream",
     "text": [
      "girl at a casino, casino, <lora:BeautifulDetailedEyes:0.5>, jacket, realistic, detailed face, unreal engine, shiny skin, 16k\n",
      "<lora:BeautifulDetailedEyes:0.5>, red striped sweater, green eyes, bow tie, best quality, gambling, leaning forward, spread legs, looking up, looking into the camera\n",
      "white girl in casino, smiling, beautiful, best quality, looking at viewer, 8k\n",
      "girl at a casino, smiling, orange hair, light pink eyes, ultra realistic, surrounded by glowing, detailed background, bow tie, photo-realistic, best quality, indoor, looking into the camera\n",
      "girl at a casino, smiling woman, casino, pink hair, sitting on roulette table, best quality, cinestill 800 tungsten, front, glossy luster playboy bunny, 8k\n",
      "portrait  girl at a casino, smiling woman, casino, jacket, green eyes, realistic, sitting on roulette table\n",
      "girl at a casino, <lora:casino:0.6>, ultra realistic, close-up, best quality, looking at viewer, professional lighting, pinup pose\n",
      "girl at a casino, smiling, casino, realistic, amazing fine detail, latex bdsm suit, 16k\n",
      "white girl in casino, Nikon D850 film stock photograph Kodak Portra 400 camera f1.6 lens, roulette wheel spins, slot machine, 8k\n",
      "smiling, ultra realistic, sitting on roulette table, looking at viewer, sexy slut poses\n",
      "white girl in casino, casino, red leotard, ultra realistic, detailed background, bow tie, earrings, pinup pose, looking into the camera\n",
      "white girl in casino, smiling woman looking into the camera, <lora:casino:0.6>, shiny skin, photo-realistic, looking at viewer\n",
      "smiling, casino, realistic, roulette table, 4k\n",
      "<lora:casino:0.6>, jacket, green eyes, realistic, amazing, bow tie, sexy slut poses, latex, 16k\n",
      "girl at a casino, smiling woman looking into the camera, jacket, green eyes, realistic, a pinup of a girl sitting on roulette, roulette table\n",
      "girl at a casino, realistic, amazing fine detail, ultra-detailed, earrings\n",
      "girl at a casino, smiling woman, <lora:casino:0.6>, <lora:BeautifulDetailedEyes:0.5>, ultra realistic, photoshoot, latex, 16k\n",
      "smiling woman looking into the camera, casino, <lora:BeautifulDetailedEyes:0.5>, red leotard, looking at viewer, spread legs, oversized breast cup, 16k\n",
      "girl at a casino, smiling woman looking into the camera, ultra realistic\n",
      "girl at a casino, jacket, orange hair, 4k\n",
      "white girl in casino, smiling, <lora:casino:0.6>, <lora:add_detail:1>, red leotard, ultra realistic, high quality, looking at viewer, from above\n",
      "white girl in casino, smiling woman looking into the camera, <lora:more_details:0.8>, octane rendered, detailed background, front, stack of coin, latex bdsm suit, latex\n",
      "white girl in casino, casino, orange hair, latex bdsm suit, 4k\n",
      "white girl in casino, ultra realistic, depth of field insanely detailed, detailed face, unreal engine, looking at viewer, in the casino, stack of coin, spread legs, 16k\n",
      "casino, jacket, ultra realistic, sitting on roulette table, from above, 8k\n",
      "girl at a casino, red leotard, short hair, ultra realistic, detailed face, Nikon D850 film stock photograph Kodak Portra 400 camera f1.6 lens, white cuffs, bow tie, 4k\n",
      "girl at a casino, green eyes, beautiful, photoshoot, looking at viewer, pinup pose, latex\n",
      "girl at a casino, smiling woman looking into the camera, <lora:add_detail:1>, orange hair, bow tie, best quality, braid, Pin-up pose, latex, 4k\n",
      "girl at a casino, smiling, <lora:casino:0.6>, ultra realistic, ultra-detailed, pinup pose, latex\n",
      "white girl in casino, smiling woman, realistic, depth of field insanely detailed, Nikon D850 film stock photograph Kodak Portra 400 camera f1.6 lens, earrings, looking into the camera, 8k\n"
     ]
    }
   ],
   "source": [
    "while True:\n",
    "    for model in [\n",
    "        \"babes_20.safetensors [d319cb2188]\", \"westmixV1PhotoRealistic_v10.safetensors [4870599b7e]\",\n",
    "        \"neverendingDreamNED_v122BakedVae.safetensors [ecefb796ff]\", \"dreamshaper_8.safetensors [879db523c3]\",\n",
    "        \"epicrealism_naturalSinRC1VAE.safetensors [84d76a0328]\", \"deliberate_v3.safetensors [aadddd3d75]\",\n",
    "        \"westmixV1PhotoRealistic_v10.safetensors [4870599b7e]\", \"westmixV1PhotoRealistic_v10.safetensors [4870599b7e]\"\n",
    "    ]:\n",
    "        for vae in [\"None\", \"color101VAE_v1.safetensors\", \"vaeFtMse840000Ema_v100.pt\"]:\n",
    "            for cfg_scale in [7, 5, 8.5]:\n",
    "                prompt = create_prompt(positive_prompts)\n",
    "                neg_prompt = create_prompt(negative_prompts)\n",
    "                result_image = generate_image_txt2img(\n",
    "                    model, vae, prompt, neg_prompt, sampler, steps, cfg_scale, denoising_strength, batch_size\n",
    "                )\n",
    "                print(prompt)"
   ],
   "metadata": {
    "collapsed": false,
    "is_executing": true,
    "ExecuteTime": {
     "start_time": "2023-11-03T05:04:53.854043395Z"
    }
   },
   "id": "8c59d6bb39c1cf81"
  },
  {
   "cell_type": "code",
   "execution_count": null,
   "outputs": [],
   "source": [],
   "metadata": {
    "collapsed": false
   },
   "id": "60752ba6bdf973f2"
  },
  {
   "cell_type": "code",
   "execution_count": null,
   "outputs": [],
   "source": [],
   "metadata": {
    "collapsed": false
   },
   "id": "c20a12fb81e7f343"
  },
  {
   "cell_type": "code",
   "execution_count": null,
   "outputs": [],
   "source": [],
   "metadata": {
    "collapsed": false
   },
   "id": "301adfe1d1ccdd69"
  },
  {
   "cell_type": "code",
   "execution_count": null,
   "outputs": [],
   "source": [],
   "metadata": {
    "collapsed": false
   },
   "id": "f341c11d3426469c"
  },
  {
   "cell_type": "code",
   "execution_count": null,
   "outputs": [],
   "source": [],
   "metadata": {
    "collapsed": false
   },
   "id": "740fd133a00bd87"
  }
 ],
 "metadata": {
  "kernelspec": {
   "display_name": "Python 3",
   "language": "python",
   "name": "python3"
  },
  "language_info": {
   "codemirror_mode": {
    "name": "ipython",
    "version": 2
   },
   "file_extension": ".py",
   "mimetype": "text/x-python",
   "name": "python",
   "nbconvert_exporter": "python",
   "pygments_lexer": "ipython2",
   "version": "2.7.6"
  }
 },
 "nbformat": 4,
 "nbformat_minor": 5
}
