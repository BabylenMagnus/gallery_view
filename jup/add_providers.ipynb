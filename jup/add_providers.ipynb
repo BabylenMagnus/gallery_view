{
 "cells": [
  {
   "cell_type": "code",
   "execution_count": 15,
   "id": "initial_id",
   "metadata": {
    "collapsed": true,
    "ExecuteTime": {
     "end_time": "2023-09-21T10:58:25.214356915Z",
     "start_time": "2023-09-21T10:58:25.196828384Z"
    }
   },
   "outputs": [],
   "source": [
    "import os\n",
    "import pandas as pd\n",
    "import numpy as np\n",
    "import cv2\n",
    "\n",
    "import gradio as gr\n",
    "from PIL import Image, ImageDraw, ImageFont\n",
    "import glob\n",
    "import json\n"
   ]
  },
  {
   "cell_type": "code",
   "execution_count": 16,
   "outputs": [],
   "source": [
    "file = r'/home/jjjj/Documents/gallery_view/all_provs.xlsx'\n",
    "\n",
    "# Загружаем spreadsheet в объект pandas\n",
    "xl = pd.ExcelFile(file)\n",
    "\n",
    "providers = {}\n",
    "\n",
    "for i in xl.sheet_names[1:]:\n",
    "    df = xl.parse(i)\n",
    "    name_id = []\n",
    "\n",
    "    for j in range(len(df)):\n",
    "        j = df.loc[j]\n",
    "        \n",
    "        try:\n",
    "            name_id.append(str(j[\"Name\"]))\n",
    "        except:\n",
    "            name_id.append(str(j[\"Game Name\"]))\n",
    "\n",
    "    providers[i] = name_id"
   ],
   "metadata": {
    "collapsed": false,
    "ExecuteTime": {
     "end_time": "2023-09-21T10:58:27.964224724Z",
     "start_time": "2023-09-21T10:58:25.439846030Z"
    }
   },
   "id": "c949b4ff901c806f"
  },
  {
   "cell_type": "code",
   "execution_count": 17,
   "outputs": [],
   "source": [
    "for i in providers:\n",
    "    providers[i] = [x.lower() for x in providers[i]]"
   ],
   "metadata": {
    "collapsed": false,
    "ExecuteTime": {
     "end_time": "2023-09-21T10:58:27.972000835Z",
     "start_time": "2023-09-21T10:58:27.967460575Z"
    }
   },
   "id": "645dbf05467d8382"
  },
  {
   "cell_type": "code",
   "execution_count": 18,
   "outputs": [
    {
     "data": {
      "text/plain": "dict_keys(['Avatarux', 'BFGames', 'Backseat gaming', 'Belatra', 'Betgames.TV', 'Betradar', 'Betsoft', 'Bgaming', 'Big Time Gaming', 'Big time gaming1', 'Blueprint', 'Booming Games', 'CT Interactive', 'Caleta', 'ConceptGaming', 'DLV', 'Elbet', 'Elk studios', 'Elysium', 'Endorphina', 'Espressogames', 'EurasianGaming', 'Evoplay', 'Fantasma games', 'Gamanza', 'GameArt Dice', 'Gameart', 'Gamebeat', 'Games Global', 'Gamomat', 'Gamzix', 'Golden Hero', 'Habanero', 'Hacksaw gaming', 'HoGaming', 'Jade rabbit', 'KAGaming', 'LeapGaming', 'Lotto Instant Win', 'MPlay', 'MacawGaming', 'Mascot', 'Massive Studios', 'Microgaming', 'NetGaming', 'Netent', 'Nolimit city', 'Nucleus', 'OneTouch', 'Onetouch1', 'PG Soft', 'Platipus', \"Play'n GO\", 'PlayngoAsia', 'Playson', 'Popiplay', 'Pragmatic Play', 'PragmaticPlay', 'PragmaticPlayLive', 'Print Studios', 'Push Gaming', 'QuickSpin', 'RTG Slots ', 'Red Tiger', 'RedRake', 'Relax (SB and others)', 'Relax Gaming', 'Revolver Gaming', 'Slotmill', 'SmartSoft', 'Spadegaming', 'Spinomenal', 'Stake originals', 'Super Spade Games', 'Superlotto', 'ThreeOaks', 'Thunderkick', 'TomHorn', 'Triple Cherry', 'TripleProfitsGames', 'Truelab', 'VibraGaming', 'Vivo Gaming', 'Wazdan', 'XPG', 'Yggdrasil', 'ZeusPlay'])"
     },
     "execution_count": 18,
     "metadata": {},
     "output_type": "execute_result"
    }
   ],
   "source": [
    "providers.keys()"
   ],
   "metadata": {
    "collapsed": false,
    "ExecuteTime": {
     "end_time": "2023-09-21T10:58:27.980251493Z",
     "start_time": "2023-09-21T10:58:27.972445566Z"
    }
   },
   "id": "859905a921dfdb0b"
  },
  {
   "cell_type": "code",
   "execution_count": 19,
   "outputs": [
    {
     "data": {
      "text/plain": "['blue samurai', 'scarab spin', 'tome of life']"
     },
     "execution_count": 19,
     "metadata": {},
     "output_type": "execute_result"
    }
   ],
   "source": [
    "providers[\"Stake originals\"]"
   ],
   "metadata": {
    "collapsed": false,
    "ExecuteTime": {
     "end_time": "2023-09-21T10:58:28.014106940Z",
     "start_time": "2023-09-21T10:58:27.983323284Z"
    }
   },
   "id": "c242f68df2bfd79f"
  },
  {
   "cell_type": "code",
   "execution_count": 24,
   "outputs": [],
   "source": [
    "WITHOUT_PROV_PATH = \"/home/jjjj/Pictures/7_09_without_prov\"\n",
    "OUT_PATH = \"/home/jjjj/Documents/gallery_view/Spribe\""
   ],
   "metadata": {
    "collapsed": false,
    "ExecuteTime": {
     "end_time": "2023-09-21T10:59:04.493427231Z",
     "start_time": "2023-09-21T10:59:04.434328960Z"
    }
   },
   "id": "2c62e69051dc7472"
  },
  {
   "cell_type": "code",
   "execution_count": 21,
   "outputs": [],
   "source": [
    "FONT_PATH = \"/home/jjjj/Documents/gallery_view/fonts/RedHatText-VariableFont_wght.ttf\"\n",
    "TOP = 490"
   ],
   "metadata": {
    "collapsed": false,
    "ExecuteTime": {
     "end_time": "2023-09-21T10:58:28.053822143Z",
     "start_time": "2023-09-21T10:58:28.037584965Z"
    }
   },
   "id": "4fb5249597a4bf5a"
  },
  {
   "cell_type": "code",
   "execution_count": 22,
   "outputs": [],
   "source": [
    "new_providers = {}\n",
    "new_providers[\"Spribe\"] = providers[\"Stake originals\"]\n",
    "providers = new_providers"
   ],
   "metadata": {
    "collapsed": false,
    "ExecuteTime": {
     "end_time": "2023-09-21T10:58:28.054101892Z",
     "start_time": "2023-09-21T10:58:28.037750298Z"
    }
   },
   "id": "77913b321f30a015"
  },
  {
   "cell_type": "code",
   "execution_count": 25,
   "outputs": [],
   "source": [
    "bad_list = []\n",
    "\n",
    "for img_path in os.listdir(WITHOUT_PROV_PATH):\n",
    "    text = None\n",
    "    name = img_path[:-5].strip().lower()\n",
    "    \n",
    "    for i in providers:\n",
    "        if name in providers[i]:\n",
    "            text = i\n",
    "            break\n",
    "    if text is None:\n",
    "        bad_list.append(img_path)\n",
    "        continue\n",
    "\n",
    "    img = Image.open(os.path.join(WITHOUT_PROV_PATH, img_path))\n",
    "    img = img.convert(\"RGB\")\n",
    "    \n",
    "    image = Image.new('RGB', img.size, \"white\")\n",
    "    draw = ImageDraw.Draw(image)\n",
    "    font = ImageFont.truetype(FONT_PATH, 34)\n",
    "\n",
    "    _, _, w, h = draw.textbbox(\n",
    "        (0, 0), text, font=font\n",
    "    )\n",
    "\n",
    "    draw = ImageDraw.Draw(img)\n",
    "    draw.text(((img.size[0] - w) / 2, TOP), text, font=font, fill=\"white\")\n",
    "    \n",
    "    img.save(os.path.join(OUT_PATH, img_path))"
   ],
   "metadata": {
    "collapsed": false,
    "ExecuteTime": {
     "end_time": "2023-09-21T10:59:06.341517409Z",
     "start_time": "2023-09-21T10:59:06.115066353Z"
    }
   },
   "id": "2e3cdf4d1f141835"
  },
  {
   "cell_type": "code",
   "execution_count": 48,
   "outputs": [],
   "source": [],
   "metadata": {
    "collapsed": false,
    "ExecuteTime": {
     "end_time": "2023-09-10T20:37:28.453798878Z",
     "start_time": "2023-09-10T20:37:28.453484323Z"
    }
   },
   "id": "dcbaf22cf4f12142"
  },
  {
   "cell_type": "code",
   "execution_count": 49,
   "outputs": [
    {
     "data": {
      "text/plain": "3"
     },
     "execution_count": 49,
     "metadata": {},
     "output_type": "execute_result"
    }
   ],
   "source": [
    "len(bad_list)"
   ],
   "metadata": {
    "collapsed": false,
    "ExecuteTime": {
     "end_time": "2023-09-10T20:37:28.454187334Z",
     "start_time": "2023-09-10T20:37:28.453624017Z"
    }
   },
   "id": "f307e9fb0ae8c683"
  },
  {
   "cell_type": "code",
   "execution_count": 50,
   "outputs": [
    {
     "data": {
      "text/plain": "['Dynamite Fruits0.png', 'bboxes.json', '1 Reel Fruits0.png']"
     },
     "execution_count": 50,
     "metadata": {},
     "output_type": "execute_result"
    }
   ],
   "source": [
    "bad_list"
   ],
   "metadata": {
    "collapsed": false,
    "ExecuteTime": {
     "end_time": "2023-09-10T20:37:28.454367966Z",
     "start_time": "2023-09-10T20:37:28.453682488Z"
    }
   },
   "id": "c986fe8495bb3a6a"
  },
  {
   "cell_type": "code",
   "execution_count": null,
   "outputs": [],
   "source": [],
   "metadata": {
    "collapsed": false
   },
   "id": "b1b9a544ba52d590"
  }
 ],
 "metadata": {
  "kernelspec": {
   "display_name": "Python 3",
   "language": "python",
   "name": "python3"
  },
  "language_info": {
   "codemirror_mode": {
    "name": "ipython",
    "version": 2
   },
   "file_extension": ".py",
   "mimetype": "text/x-python",
   "name": "python",
   "nbconvert_exporter": "python",
   "pygments_lexer": "ipython2",
   "version": "2.7.6"
  }
 },
 "nbformat": 4,
 "nbformat_minor": 5
}
