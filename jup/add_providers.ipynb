{
 "cells": [
  {
   "cell_type": "code",
   "execution_count": 43,
   "id": "initial_id",
   "metadata": {
    "collapsed": true,
    "ExecuteTime": {
     "end_time": "2023-09-10T20:33:36.182229452Z",
     "start_time": "2023-09-10T20:33:36.120520071Z"
    }
   },
   "outputs": [],
   "source": [
    "import os\n",
    "import pandas as pd\n",
    "import numpy as np\n",
    "import cv2\n",
    "\n",
    "import gradio as gr\n",
    "from PIL import Image, ImageDraw, ImageFont\n",
    "import glob\n",
    "import json\n"
   ]
  },
  {
   "cell_type": "code",
   "execution_count": 44,
   "outputs": [],
   "source": [
    "file = r'/home/jjjj/Documents/gallery_view/all_provs.xlsx'\n",
    "\n",
    "# Загружаем spreadsheet в объект pandas\n",
    "xl = pd.ExcelFile(file)\n",
    "\n",
    "providers = {}\n",
    "\n",
    "for i in xl.sheet_names[1:]:\n",
    "    df = xl.parse(i)\n",
    "    name_id = []\n",
    "\n",
    "    for j in range(len(df)):\n",
    "        j = df.loc[j]\n",
    "        \n",
    "        try:\n",
    "            name_id.append(str(j[\"Name\"]))\n",
    "        except:\n",
    "            name_id.append(str(j[\"Game Name\"]))\n",
    "\n",
    "    providers[i] = name_id"
   ],
   "metadata": {
    "collapsed": false,
    "ExecuteTime": {
     "end_time": "2023-09-10T20:33:39.262785009Z",
     "start_time": "2023-09-10T20:33:36.694438279Z"
    }
   },
   "id": "c949b4ff901c806f"
  },
  {
   "cell_type": "code",
   "execution_count": 45,
   "outputs": [],
   "source": [
    "for i in providers:\n",
    "    providers[i] = [x.lower() for x in providers[i]]"
   ],
   "metadata": {
    "collapsed": false,
    "ExecuteTime": {
     "end_time": "2023-09-10T20:33:39.293673969Z",
     "start_time": "2023-09-10T20:33:39.270124477Z"
    }
   },
   "id": "645dbf05467d8382"
  },
  {
   "cell_type": "code",
   "execution_count": 46,
   "outputs": [],
   "source": [
    "WITHOUT_PROV_PATH = \"/home/jjjj/Pictures/7_09_without_prov\"\n",
    "OUT_PATH = \"/home/jjjj/Pictures/WITH_PROV_07_09\""
   ],
   "metadata": {
    "collapsed": false,
    "ExecuteTime": {
     "end_time": "2023-09-10T20:33:39.294057105Z",
     "start_time": "2023-09-10T20:33:39.277077913Z"
    }
   },
   "id": "2c62e69051dc7472"
  },
  {
   "cell_type": "code",
   "execution_count": 47,
   "outputs": [],
   "source": [
    "FONT_PATH = \"/home/jjjj/Documents/gallery_view/fonts/RedHatText-VariableFont_wght.ttf\"\n",
    "TOP = 490"
   ],
   "metadata": {
    "collapsed": false,
    "ExecuteTime": {
     "end_time": "2023-09-10T20:33:39.311134492Z",
     "start_time": "2023-09-10T20:33:39.285657269Z"
    }
   },
   "id": "4fb5249597a4bf5a"
  },
  {
   "cell_type": "code",
   "execution_count": 48,
   "outputs": [],
   "source": [
    "bad_list = []\n",
    "\n",
    "for img_path in os.listdir(WITHOUT_PROV_PATH):\n",
    "    text = None\n",
    "    name = img_path[:-5].strip().lower()\n",
    "    \n",
    "    for i in providers:\n",
    "        if name in providers[i]:\n",
    "            text = i\n",
    "            break\n",
    "    if text is None:\n",
    "        bad_list.append(img_path)\n",
    "        continue\n",
    "\n",
    "    img = Image.open(os.path.join(WITHOUT_PROV_PATH, img_path))\n",
    "    img = img.convert(\"RGB\")\n",
    "    \n",
    "    image = Image.new('RGB', img.size, \"white\")\n",
    "    draw = ImageDraw.Draw(image)\n",
    "    font = ImageFont.truetype(FONT_PATH, 34)\n",
    "\n",
    "    _, _, w, h = draw.textbbox(\n",
    "        (0, 0), text, font=font\n",
    "    )\n",
    "\n",
    "    draw = ImageDraw.Draw(img)\n",
    "    draw.text(((img.size[0] - w) / 2, TOP), text, font=font, fill=\"white\")\n",
    "    \n",
    "    img.save(os.path.join(OUT_PATH, img_path))"
   ],
   "metadata": {
    "collapsed": false,
    "ExecuteTime": {
     "end_time": "2023-09-10T20:37:28.412915835Z",
     "start_time": "2023-09-10T20:33:39.807999482Z"
    }
   },
   "id": "2e3cdf4d1f141835"
  },
  {
   "cell_type": "code",
   "execution_count": 48,
   "outputs": [],
   "source": [],
   "metadata": {
    "collapsed": false,
    "ExecuteTime": {
     "end_time": "2023-09-10T20:37:28.453798878Z",
     "start_time": "2023-09-10T20:37:28.453484323Z"
    }
   },
   "id": "dcbaf22cf4f12142"
  },
  {
   "cell_type": "code",
   "execution_count": 49,
   "outputs": [
    {
     "data": {
      "text/plain": "3"
     },
     "execution_count": 49,
     "metadata": {},
     "output_type": "execute_result"
    }
   ],
   "source": [
    "len(bad_list)"
   ],
   "metadata": {
    "collapsed": false,
    "ExecuteTime": {
     "end_time": "2023-09-10T20:37:28.454187334Z",
     "start_time": "2023-09-10T20:37:28.453624017Z"
    }
   },
   "id": "f307e9fb0ae8c683"
  },
  {
   "cell_type": "code",
   "execution_count": 50,
   "outputs": [
    {
     "data": {
      "text/plain": "['Dynamite Fruits0.png', 'bboxes.json', '1 Reel Fruits0.png']"
     },
     "execution_count": 50,
     "metadata": {},
     "output_type": "execute_result"
    }
   ],
   "source": [
    "bad_list"
   ],
   "metadata": {
    "collapsed": false,
    "ExecuteTime": {
     "end_time": "2023-09-10T20:37:28.454367966Z",
     "start_time": "2023-09-10T20:37:28.453682488Z"
    }
   },
   "id": "c986fe8495bb3a6a"
  },
  {
   "cell_type": "code",
   "execution_count": null,
   "outputs": [],
   "source": [],
   "metadata": {
    "collapsed": false
   },
   "id": "b1b9a544ba52d590"
  }
 ],
 "metadata": {
  "kernelspec": {
   "display_name": "Python 3",
   "language": "python",
   "name": "python3"
  },
  "language_info": {
   "codemirror_mode": {
    "name": "ipython",
    "version": 2
   },
   "file_extension": ".py",
   "mimetype": "text/x-python",
   "name": "python",
   "nbconvert_exporter": "python",
   "pygments_lexer": "ipython2",
   "version": "2.7.6"
  }
 },
 "nbformat": 4,
 "nbformat_minor": 5
}
