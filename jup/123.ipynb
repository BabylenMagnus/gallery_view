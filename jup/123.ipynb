{
 "cells": [
  {
   "cell_type": "code",
   "execution_count": 1,
   "id": "initial_id",
   "metadata": {
    "collapsed": true,
    "ExecuteTime": {
     "end_time": "2023-09-10T20:32:45.682355784Z",
     "start_time": "2023-09-10T20:32:45.397449548Z"
    }
   },
   "outputs": [],
   "source": [
    "import pandas as pd\n",
    "\n",
    "import os\n",
    "import shutil\n",
    "import glob\n",
    "\n",
    "import json\n",
    "\n",
    "import numpy as np\n",
    "from PIL import Image\n",
    "\n",
    "import re"
   ]
  },
  {
   "cell_type": "code",
   "execution_count": 2,
   "outputs": [],
   "source": [
    "OUT_EXCEL = \"other.xlsx\"\n",
    "other_img = \"/home/jjjj/Pictures/gallery_view/out_imgs/OTHER\"\n",
    "bboxes_json = \"/home/jjjj/Pictures/without/bboxes.json\" "
   ],
   "metadata": {
    "collapsed": false,
    "ExecuteTime": {
     "end_time": "2023-09-10T20:32:45.701887501Z",
     "start_time": "2023-09-10T20:32:45.686575665Z"
    }
   },
   "id": "4b85a26e465a6f8a"
  },
  {
   "cell_type": "code",
   "execution_count": 3,
   "outputs": [],
   "source": [
    "with open(bboxes_json, \"r\") as t:\n",
    "    \n",
    "    bboxes = json.load(t)"
   ],
   "metadata": {
    "collapsed": false,
    "ExecuteTime": {
     "end_time": "2023-09-10T20:32:45.724619066Z",
     "start_time": "2023-09-10T20:32:45.694021375Z"
    }
   },
   "id": "3c42817c9fcec77f"
  },
  {
   "cell_type": "code",
   "execution_count": 4,
   "outputs": [],
   "source": [
    "naming = \"\"\"0netouch (OneTouch)\n",
    "30aks gaming (ThreeOaks)\n",
    "Plav'n 60 (Play'n GO будет называться)\n",
    "0 netouch (Onetouch)\n",
    "Play'n g0  (Play'n GO будет называться)\n",
    "60lden hero (Golden Hero)\n",
    "Red iger (Red Tiger)\n",
    "Pragmatc play (Pragmatic Play)\n",
    "Avatar ux (Avatarux)\n",
    "Prnt studios (Print Studios)\n",
    "Bgamyng (Bgaming)\n",
    "G0lden hero (Golden Hero)\n",
    "Games gl0bal (Games Global)\n",
    "Gamo mat (Gamomat)\n",
    "Bg time gaming (Big time gaming)\n",
    "Play'n 60 (Play'n GO )\n",
    "Plav'n g0 (Play'n GO )\n",
    "Btg time gaming (Big time gaming ) \n",
    "Playngo (Play'n GO )\n",
    "Games gl0 bal (Games Global) \n",
    "0 uickspin (QuickSpin)\n",
    "Relax gamng (Relax Gaming)\n",
    "0uickspin (QuickSpin)\n",
    "Ppragmatic play (Pragmatic Play)\n",
    "Redtiger (Red Tiger)\n",
    "Games gobal (Games Global)\n",
    "Blg time gaming (Big Time Gaming)\n",
    "Push gamng (Push Gaming)\n",
    "Bggaming (Bgaming)\n",
    "0 netouch; (OneTouch)\n",
    "Games glbal (Games Global)\n",
    "Massve studios (Massive Studios) \n",
    "Netente (Netent)\n",
    "Blg tume gaming (Big Time Gaming)\n",
    "Games g1obal (Games Global)\n",
    "Gamess global (Games Global) \n",
    "Red tigeer (Red Tiger)\n",
    "Endrphina (Endorphina)\"\"\""
   ],
   "metadata": {
    "collapsed": false,
    "ExecuteTime": {
     "end_time": "2023-09-10T20:32:45.724833502Z",
     "start_time": "2023-09-10T20:32:45.715126380Z"
    }
   },
   "id": "7909f5c80c1b3f13"
  },
  {
   "cell_type": "code",
   "execution_count": 5,
   "outputs": [
    {
     "data": {
      "text/plain": "{'0netouch': 'OneTouch',\n '30aks gaming': 'ThreeOaks',\n \"Plav'n 60\": \"Play'n GO\",\n '0 netouch': 'Onetouch',\n \"Play'n g0\": \"Play'n GO\",\n '60lden hero': 'Golden Hero',\n 'Red iger': 'Red Tiger',\n 'Pragmatc play': 'Pragmatic Play',\n 'Avatar ux': 'Avatarux',\n 'Prnt studios': 'Print Studios',\n 'Bgamyng': 'Bgaming',\n 'G0lden hero': 'Golden Hero',\n 'Games gl0bal': 'Games Global',\n 'Gamo mat': 'Gamomat',\n 'Bg time gaming': 'Big time gaming',\n \"Play'n 60\": \"Play'n GO\",\n \"Plav'n g0\": \"Play'n GO\",\n 'Btg time gaming': 'Big time gaming',\n 'Playngo': \"Play'n GO\",\n 'Games gl0 bal': 'Games Global',\n '0 uickspin': 'QuickSpin',\n 'Relax gamng': 'Relax Gaming',\n '0uickspin': 'QuickSpin',\n 'Ppragmatic play': 'Pragmatic Play',\n 'Redtiger': 'Red Tiger',\n 'Games gobal': 'Games Global',\n 'Blg time gaming': 'Big Time Gaming',\n 'Push gamng': 'Push Gaming',\n 'Bggaming': 'Bgaming',\n '0 netouch;': 'OneTouch',\n 'Games glbal': 'Games Global',\n 'Massve studios': 'Massive Studios',\n 'Netente': 'Netent',\n 'Blg tume gaming': 'Big Time Gaming',\n 'Games g1obal': 'Games Global',\n 'Gamess global': 'Games Global',\n 'Red tigeer': 'Red Tiger',\n 'Endrphina': 'Endorphina'}"
     },
     "execution_count": 5,
     "metadata": {},
     "output_type": "execute_result"
    }
   ],
   "source": [
    "new_naming = {i.split(\" (\")[0].strip(): \"\".join(re.findall(\"[a-zA-Z ']\", i.split(\" (\")[1])).strip() for i in naming.split(\"\\n\")}\n",
    "new_naming"
   ],
   "metadata": {
    "collapsed": false,
    "ExecuteTime": {
     "end_time": "2023-09-10T20:32:45.858315753Z",
     "start_time": "2023-09-10T20:32:45.837394565Z"
    }
   },
   "id": "8226af3806005785"
  },
  {
   "cell_type": "code",
   "execution_count": 6,
   "outputs": [],
   "source": [
    "new_naming[\"Belatra Games\"] = \"Belatra\"\n",
    "new_naming[\"Big time gaming\"] = \"Big Time Gaming\"\n",
    "new_naming[\"Booming games\"] = \"Booming Games\"\n",
    "new_naming[\"Gameart1\"] = \"Gameart\"\n",
    "new_naming[\"GameArt\"] = \"Gameart\"\n",
    "new_naming[\"Games g10bal\"] = \"Games Global\"\n",
    "new_naming[\"Games global1\"] = \"Games Global\"\n",
    "new_naming[\"Games global\"] = \"Games Global\"\n",
    "new_naming[\"Golden hero\"] = \"Golden Hero\"\n",
    "new_naming[\"Massive studios\"] = \"Massive Studios\"\n",
    "new_naming[\"No Limit City\"] = \"Nolimit city\"\n",
    "new_naming[\"Onetouch\"] = \"OneTouch\"\n",
    "new_naming[\"Pragmatic play\"] = \"Pragmatic Play\"\n",
    "new_naming[\"Print studios\"] = \"Print Studios\"\n",
    "new_naming[\"Push gaming\"] = \"Push Gaming\"\n",
    "new_naming[\"Quickspin\"] = \"QuickSpin\"\n",
    "new_naming[\"Red tger\"] = \"Red Tiger\"\n",
    "new_naming[\"Red tiger\"] = \"Red Tiger\"\n",
    "new_naming[\"Relax gaming\"] = \"Relax Gaming\"\n",
    "new_naming[\"Stake originals\"] = \"Stake originals\"\n",
    "new_naming[\"Stake orignals\"] = \"Stake originals\"\n",
    "\n",
    "new_naming[\"Big time gaming\"] = \"Big Time Gaming\""
   ],
   "metadata": {
    "collapsed": false,
    "ExecuteTime": {
     "end_time": "2023-09-10T20:32:46.295670163Z",
     "start_time": "2023-09-10T20:32:46.282058357Z"
    }
   },
   "id": "a0db55756ebe8f31"
  },
  {
   "cell_type": "markdown",
   "source": [
    "\""
   ],
   "metadata": {
    "collapsed": false
   },
   "id": "179ae2fbf198c93"
  },
  {
   "cell_type": "code",
   "execution_count": 7,
   "outputs": [
    {
     "name": "stdout",
     "output_type": "stream",
     "text": [
      "['Providers List', 'AmigoGaming', 'Belatra Games', 'Betgames.TV', 'Betradar', 'Betsoft', 'BFGames', 'Bgaming', 'Blueprint', 'Booming Games', 'Caleta', 'ConceptGaming', 'CT Interactive', 'DLV', 'Elbet', 'Elysium', 'Endorphina', 'Espressogames', 'EurasianGaming', 'Evoplay', 'GameArt', 'GameArt Dice', 'Gamanza', 'Gamebeat', 'Gamzix', 'Golden Hero', 'Habanero', 'HoGaming', 'KAGaming', 'LeapGaming', 'Lotto Instant Win', 'MacawGaming', 'Mascot', 'Microgaming', 'MPlay', 'NetGaming', 'No Limit City', 'Nucleus', 'PG Soft', 'Platipus', 'PlayngoAsia', 'Playson', 'PragmaticPlay', 'PragmaticPlayLive', 'Quickspin', 'RedRake', 'Relax Gaming', 'Relax (SB and others)', 'Revolver Gaming', 'RTG Slots ', 'Slotmill', 'SmartSoft', 'Spadegaming', 'Spinomenal', 'Superlotto', 'Super Spade Games', 'ThreeOaks', 'TomHorn', 'Triple Cherry', 'TripleProfitsGames', 'VibraGaming', 'Vivo Gaming', 'Wazdan', 'XPG', 'Yggdrasil', 'ZeusPlay']\n"
     ]
    }
   ],
   "source": [
    "# Загружаем ваш файл в переменную `file` / вместо 'example' укажите название свого файла из текущей директории\n",
    "file = '/home/jjjj/Downloads/Game-List_valor.xlsx'\n",
    "\n",
    "# Загружаем spreadsheet в объект pandas\n",
    "xl = pd.ExcelFile(file)\n",
    "\n",
    "# Печатаем название листов в данном файле\n",
    "print(xl.sheet_names)\n",
    "\n",
    "# Загрузить лист в DataFrame по его имени: df1\n",
    "# df1 = xl.parse('Sheet1')"
   ],
   "metadata": {
    "collapsed": false,
    "ExecuteTime": {
     "end_time": "2023-09-10T20:32:48.321094076Z",
     "start_time": "2023-09-10T20:32:47.022838023Z"
    }
   },
   "id": "52ca86221b0d200b"
  },
  {
   "cell_type": "code",
   "execution_count": 8,
   "outputs": [],
   "source": [
    "providers = {}\n",
    "\n",
    "for i in xl.sheet_names[1:]:\n",
    "    df = xl.parse(i)\n",
    "    name_id = []\n",
    "    \n",
    "    if i in new_naming:\n",
    "        i = new_naming[i]\n",
    "\n",
    "    for j in range(len(df)):\n",
    "        j = df.loc[j]\n",
    "        \n",
    "        if i == \"Super Spade Games\":\n",
    "            name_id.append(j[df.columns[0]])\n",
    "        else:            \n",
    "            try:\n",
    "                name_id.append(str(j[\"Name\"]))\n",
    "            except:\n",
    "                name_id.append(str(j[\"Game Name\"]))\n",
    "\n",
    "    providers[i] = name_id"
   ],
   "metadata": {
    "collapsed": false,
    "ExecuteTime": {
     "end_time": "2023-09-10T20:33:03.566038158Z",
     "start_time": "2023-09-10T20:32:48.308083518Z"
    }
   },
   "id": "3bbb1879d13d95d5"
  },
  {
   "cell_type": "code",
   "execution_count": 9,
   "outputs": [],
   "source": [
    "bad_list = []\n",
    "\n",
    "for i in os.listdir(other_img):\n",
    "    name = i[:-5].strip()\n",
    "    if name in bboxes:\n",
    "        bb = bboxes[name]\n",
    "        prov = bb[\"text\"][np.array(bb[\"bottom\"]).argmax()].capitalize()\n",
    "        if prov in new_naming:\n",
    "            prov = new_naming[prov]\n",
    "\n",
    "        if prov not in providers:\n",
    "            providers[prov] = []\n",
    "    \n",
    "        providers[prov].append(\" \".join([x.capitalize() for x in name.split(\" \")]))\n",
    "    else:\n",
    "        bad_list.append(name)"
   ],
   "metadata": {
    "collapsed": false,
    "ExecuteTime": {
     "end_time": "2023-09-10T20:33:03.592258690Z",
     "start_time": "2023-09-10T20:33:03.570155545Z"
    }
   },
   "id": "d9f8fd0b333d8e54"
  },
  {
   "cell_type": "code",
   "execution_count": 10,
   "outputs": [],
   "source": [
    "providers[\"Thunderkick\"].append(\"Jaguar Temple\")\n",
    "del providers[\"Thunderkick:\"]\n",
    "providers[\"Thunderkick\"].append(\"Jaguar Temple\")\n"
   ],
   "metadata": {
    "collapsed": false,
    "ExecuteTime": {
     "end_time": "2023-09-10T20:33:03.598138544Z",
     "start_time": "2023-09-10T20:33:03.586752854Z"
    }
   },
   "id": "8754f42aa4fdd8c2"
  },
  {
   "cell_type": "code",
   "execution_count": 11,
   "outputs": [],
   "source": [
    "import easyocr\n",
    "\n",
    "\n",
    "eader = easyocr.Reader(['en'])"
   ],
   "metadata": {
    "collapsed": false,
    "ExecuteTime": {
     "end_time": "2023-09-10T20:33:09.230430673Z",
     "start_time": "2023-09-10T20:33:03.592472485Z"
    }
   },
   "id": "579019c85ec92f3e"
  },
  {
   "cell_type": "code",
   "execution_count": 12,
   "outputs": [],
   "source": [
    "def ocr_predict(img):\n",
    "    result = eader.readtext(img)\n",
    "\n",
    "    new_ = []\n",
    "\n",
    "    for i in result:\n",
    "        t = i[1]\n",
    "        i = i[0]\n",
    "        c = []\n",
    "        \n",
    "        for j in i:\n",
    "            c.append(j[1])\n",
    "            \n",
    "        new_.append((max(c), t))\n",
    "    return new_\n"
   ],
   "metadata": {
    "collapsed": false,
    "ExecuteTime": {
     "end_time": "2023-09-10T20:33:09.250180953Z",
     "start_time": "2023-09-10T20:33:09.235082061Z"
    }
   },
   "id": "72b30e41668b61a3"
  },
  {
   "cell_type": "code",
   "execution_count": 13,
   "outputs": [],
   "source": [
    "for i in bad_list:\n",
    "    path = glob.glob(os.path.join(other_img, bad_list[0]) + \"*\")[-1]\n",
    "    \n",
    "    img = Image.open(path)\n",
    "    img = img.convert(\"RGB\")\n",
    "    img = np.array(img)\n",
    "    \n",
    "    a = ocr_predict(img)\n",
    "    prov = sorted(a, key=lambda x: x[0])[-1][1].capitalize()\n",
    "    if prov in new_naming:\n",
    "        prov = new_naming[prov]\n",
    "\n",
    "    if prov not in providers:\n",
    "        providers[prov] = []\n",
    "\n",
    "    providers[prov].append(i)"
   ],
   "metadata": {
    "collapsed": false,
    "ExecuteTime": {
     "end_time": "2023-09-10T20:33:14.575494010Z",
     "start_time": "2023-09-10T20:33:09.244767151Z"
    }
   },
   "id": "492ec031a14db760"
  },
  {
   "cell_type": "code",
   "execution_count": 14,
   "outputs": [
    {
     "data": {
      "text/plain": "10857"
     },
     "execution_count": 14,
     "metadata": {},
     "output_type": "execute_result"
    }
   ],
   "source": [
    "c = 0\n",
    "for i in providers:\n",
    "    c += len(providers[i])\n",
    "c"
   ],
   "metadata": {
    "collapsed": false,
    "ExecuteTime": {
     "end_time": "2023-09-10T20:33:14.596252478Z",
     "start_time": "2023-09-10T20:33:14.579963002Z"
    }
   },
   "id": "96b8fc84da83c4b9"
  },
  {
   "cell_type": "code",
   "execution_count": 15,
   "outputs": [
    {
     "data": {
      "text/plain": "10678"
     },
     "execution_count": 15,
     "metadata": {},
     "output_type": "execute_result"
    }
   ],
   "source": [
    "c = 0\n",
    "\n",
    "for i in providers:\n",
    "    providers[i] = list(set(providers[i]))\n",
    "    c += len(providers[i])\n",
    "    \n",
    "c"
   ],
   "metadata": {
    "collapsed": false,
    "ExecuteTime": {
     "end_time": "2023-09-10T20:33:14.625948180Z",
     "start_time": "2023-09-10T20:33:14.589979610Z"
    }
   },
   "id": "2c631a3cac957d8b"
  },
  {
   "cell_type": "code",
   "execution_count": 16,
   "outputs": [
    {
     "data": {
      "text/plain": "['AmigoGaming',\n 'Avatarux',\n 'BFGames',\n 'Backseat gaming',\n 'Belatra',\n 'Betgames.TV',\n 'Betradar',\n 'Betsoft',\n 'Bgaming',\n 'Big Time Gaming',\n 'Big time gaming',\n 'Blueprint',\n 'Booming Games',\n 'CT Interactive',\n 'Caleta',\n 'ConceptGaming',\n 'DLV',\n 'Elbet',\n 'Elk studios',\n 'Elysium',\n 'Endorphina',\n 'Espressogames',\n 'EurasianGaming',\n 'Evoplay',\n 'Fantasma games',\n 'Gamanza',\n 'GameArt Dice',\n 'Gameart',\n 'Gamebeat',\n 'Games Global',\n 'Gamomat',\n 'Gamzix',\n 'Golden Hero',\n 'Habanero',\n 'Hacksaw gaming',\n 'HoGaming',\n 'Jade rabbit',\n 'KAGaming',\n 'LeapGaming',\n 'Lotto Instant Win',\n 'MPlay',\n 'MacawGaming',\n 'Mascot',\n 'Massive Studios',\n 'Microgaming',\n 'NetGaming',\n 'Netent',\n 'Nolimit city',\n 'Nucleus',\n 'OneTouch',\n 'Onetouch',\n 'PG Soft',\n 'Platipus',\n \"Play'n GO\",\n 'PlayngoAsia',\n 'Playson',\n 'Popiplay',\n 'Pragmatic Play',\n 'PragmaticPlay',\n 'PragmaticPlayLive',\n 'Print Studios',\n 'Push Gaming',\n 'QuickSpin',\n 'RTG Slots ',\n 'Red Tiger',\n 'RedRake',\n 'Relax (SB and others)',\n 'Relax Gaming',\n 'Revolver Gaming',\n 'Slotmill',\n 'SmartSoft',\n 'Spadegaming',\n 'Spinomenal',\n 'Stake originals',\n 'Super Spade Games',\n 'Superlotto',\n 'ThreeOaks',\n 'Thunderkick',\n 'TomHorn',\n 'Triple Cherry',\n 'TripleProfitsGames',\n 'Truelab',\n 'VibraGaming',\n 'Vivo Gaming',\n 'Wazdan',\n 'XPG',\n 'Yggdrasil',\n 'ZeusPlay']"
     },
     "execution_count": 16,
     "metadata": {},
     "output_type": "execute_result"
    }
   ],
   "source": [
    "sorted(providers.keys())"
   ],
   "metadata": {
    "collapsed": false,
    "ExecuteTime": {
     "end_time": "2023-09-10T20:33:14.641422172Z",
     "start_time": "2023-09-10T20:33:14.600046282Z"
    }
   },
   "id": "e52031fca6f511a8"
  },
  {
   "cell_type": "code",
   "execution_count": 17,
   "outputs": [],
   "source": [
    "OUT_EXCEL = \"all_provs.xlsx\""
   ],
   "metadata": {
    "collapsed": false,
    "ExecuteTime": {
     "end_time": "2023-09-10T20:33:14.688870310Z",
     "start_time": "2023-09-10T20:33:14.609867470Z"
    }
   },
   "id": "7513d58972e37c5e"
  },
  {
   "cell_type": "code",
   "execution_count": 18,
   "outputs": [],
   "source": [
    "with pd.ExcelWriter(OUT_EXCEL) as writer:\n",
    "    \n",
    "    for i in sorted(list(providers.keys())):\n",
    "        data = pd.DataFrame(\n",
    "            data={\n",
    "                \"Name\": providers[i],\n",
    "                \"Provider\": [i for _ in providers[i]]\n",
    "            }\n",
    "        )\n",
    "        \n",
    "        data.to_excel(writer, sheet_name=i)    "
   ],
   "metadata": {
    "collapsed": false,
    "ExecuteTime": {
     "end_time": "2023-09-10T20:33:17.694286187Z",
     "start_time": "2023-09-10T20:33:14.653480135Z"
    }
   },
   "id": "c80bfb6086b6edca"
  },
  {
   "cell_type": "code",
   "execution_count": 18,
   "outputs": [],
   "source": [],
   "metadata": {
    "collapsed": false,
    "ExecuteTime": {
     "end_time": "2023-09-10T20:33:17.755698748Z",
     "start_time": "2023-09-10T20:33:17.737419404Z"
    }
   },
   "id": "e37a2bf2c7483288"
  },
  {
   "cell_type": "code",
   "execution_count": 19,
   "outputs": [],
   "source": [],
   "metadata": {
    "collapsed": false,
    "ExecuteTime": {
     "start_time": "2023-09-10T17:59:52.965117683Z"
    }
   },
   "id": "7f905c03f6cb174b"
  },
  {
   "cell_type": "code",
   "execution_count": 19,
   "outputs": [
    {
     "name": "stdout",
     "output_type": "stream",
     "text": [
      "['Providers List', 'AmigoGaming', 'Belatra Games', 'Betgames.TV', 'Betradar', 'Betsoft', 'BFGames', 'Bgaming', 'Blueprint', 'Booming Games', 'Caleta', 'ConceptGaming', 'CT Interactive', 'DLV', 'Elbet', 'Elysium', 'Endorphina', 'Espressogames', 'EurasianGaming', 'Evoplay', 'GameArt', 'GameArt Dice', 'Gamanza', 'Gamebeat', 'Gamzix', 'Golden Hero', 'Habanero', 'HoGaming', 'KAGaming', 'LeapGaming', 'Lotto Instant Win', 'MacawGaming', 'Mascot', 'Microgaming', 'MPlay', 'NetGaming', 'No Limit City', 'Nucleus', 'PG Soft', 'Platipus', 'PlayngoAsia', 'Playson', 'PragmaticPlay', 'PragmaticPlayLive', 'Quickspin', 'RedRake', 'Relax Gaming', 'Relax (SB and others)', 'Revolver Gaming', 'RTG Slots ', 'Slotmill', 'SmartSoft', 'Spadegaming', 'Spinomenal', 'Superlotto', 'Super Spade Games', 'ThreeOaks', 'TomHorn', 'Triple Cherry', 'TripleProfitsGames', 'VibraGaming', 'Vivo Gaming', 'Wazdan', 'XPG', 'Yggdrasil', 'ZeusPlay']\n"
     ]
    }
   ],
   "source": [
    "# Загружаем ваш файл в переменную `file` / вместо 'example' укажите название свого файла из текущей директории\n",
    "file = '/home/jjjj/Downloads/Game-List_valor.xlsx'\n",
    "\n",
    "# Загружаем spreadsheet в объект pandas\n",
    "xl = pd.ExcelFile(file)\n",
    "\n",
    "# Печатаем название листов в данном файле\n",
    "print(xl.sheet_names)\n",
    "\n",
    "# Загрузить лист в DataFrame по его имени: df1\n",
    "# df1 = xl.parse('Sheet1')"
   ],
   "metadata": {
    "collapsed": false,
    "ExecuteTime": {
     "end_time": "2023-09-11T02:45:50.534243468Z",
     "start_time": "2023-09-11T02:45:49.737098961Z"
    }
   },
   "id": "2ebf2cc0a514827d"
  },
  {
   "cell_type": "code",
   "execution_count": 19,
   "outputs": [],
   "source": [],
   "metadata": {
    "collapsed": false,
    "ExecuteTime": {
     "end_time": "2023-09-11T02:45:51.297883933Z",
     "start_time": "2023-09-11T02:45:51.250615414Z"
    }
   },
   "id": "d70c40795336cc68"
  },
  {
   "cell_type": "code",
   "execution_count": 20,
   "outputs": [],
   "source": [
    "next_providers = {}\n",
    "\n",
    "for i in xl.sheet_names[1:]:\n",
    "    df = xl.parse(i)\n",
    "    name_id = {}\n",
    "\n",
    "    for j in range(len(df)):\n",
    "        j = df.loc[j]\n",
    "        \n",
    "        if i == \"Super Spade Games\":\n",
    "            name_id[j[df.columns[0]]] = j[df.columns[1]]\n",
    "        else:            \n",
    "            try:\n",
    "                name_id[str(j[\"Name\"]).strip()] = j[\"Game ID\"]\n",
    "            except:\n",
    "                name_id[j[\"Game Name\"].strip()] = j[\"Game ID\"]\n",
    "\n",
    "    next_providers[i] = name_id\n",
    "        "
   ],
   "metadata": {
    "collapsed": false,
    "ExecuteTime": {
     "end_time": "2023-09-11T02:46:06.875406760Z",
     "start_time": "2023-09-11T02:45:52.216727918Z"
    }
   },
   "id": "d65e1e5709fc9c09"
  },
  {
   "cell_type": "code",
   "execution_count": 21,
   "outputs": [
    {
     "data": {
      "text/plain": "88"
     },
     "execution_count": 21,
     "metadata": {},
     "output_type": "execute_result"
    }
   ],
   "source": [
    "len(providers)"
   ],
   "metadata": {
    "collapsed": false,
    "ExecuteTime": {
     "end_time": "2023-09-11T02:46:06.922444543Z",
     "start_time": "2023-09-11T02:46:06.880100779Z"
    }
   },
   "id": "48ec0a385c7408e6"
  },
  {
   "cell_type": "code",
   "execution_count": 73,
   "outputs": [],
   "source": [
    "x_list = []"
   ],
   "metadata": {
    "collapsed": false,
    "ExecuteTime": {
     "end_time": "2023-09-11T03:28:33.301896723Z",
     "start_time": "2023-09-11T03:28:33.236519230Z"
    }
   },
   "id": "371e5a6a96235c39"
  },
  {
   "cell_type": "code",
   "execution_count": 74,
   "outputs": [],
   "source": [
    "imgs_path = \"/home/jjjj/Pictures/WITH_PROV_07_09\"\n",
    "out_path = \"/home/jjjj/Pictures/FINALE_ALL\"\n",
    "other_img = \"/home/jjjj/Pictures/FINALE_ALL/OTHER\"\n",
    "\n",
    "yes_1 = 0\n",
    "not_1 = 0\n",
    "\n",
    "for i in os.listdir(imgs_path):\n",
    "    # i = \"9 Lions Xmas Edition1.png\"\n",
    "    name = i[:-5].strip()\n",
    "    save_ = False\n",
    "    for prov, name_id in next_providers.items():        \n",
    "        if name in name_id:\n",
    "            path = os.path.join(out_path, prov)\n",
    "            os.makedirs(path, exist_ok=True)\n",
    "            \n",
    "            k = len(glob.glob(os.path.join(path) + f\"/{name}*\"))\n",
    "            \n",
    "            shutil.copy(\n",
    "                os.path.join(imgs_path, i), os.path.join(path, name_id[name] + f\"_{k}.png\" if k else name_id[name] + \".png\")\n",
    "            )\n",
    "            x_list.append(i[:-4])\n",
    "            yes_1 += 1\n",
    "            save_ = True\n",
    "            break\n",
    "            \n",
    "    if not save_:\n",
    "        is_other = True\n",
    "        for prov in providers:\n",
    "            if name in providers[prov]:\n",
    "                path = os.path.join(out_path, prov)\n",
    "                os.makedirs(path, exist_ok=True)\n",
    "                shutil.copy(os.path.join(imgs_path, i), os.path.join(path, i))\n",
    "                is_other = False\n",
    "                \n",
    "        if is_other:\n",
    "            not_1 += 1\n",
    "            shutil.copy(os.path.join(imgs_path, i), os.path.join(other_img, i))"
   ],
   "metadata": {
    "collapsed": false,
    "ExecuteTime": {
     "end_time": "2023-09-11T03:28:38.196381750Z",
     "start_time": "2023-09-11T03:28:33.563619294Z"
    }
   },
   "id": "3eb4c9c31e857ba5"
  },
  {
   "cell_type": "code",
   "execution_count": 40,
   "outputs": [
    {
     "data": {
      "text/plain": "3275"
     },
     "execution_count": 40,
     "metadata": {},
     "output_type": "execute_result"
    }
   ],
   "source": [
    "len(glob.glob(\"/home/jjjj/Pictures/FINALE_ALL/*/*\"))"
   ],
   "metadata": {
    "collapsed": false,
    "ExecuteTime": {
     "end_time": "2023-09-11T02:56:22.931163964Z",
     "start_time": "2023-09-11T02:56:22.894324027Z"
    }
   },
   "id": "4ab77a9fd20ab31"
  },
  {
   "cell_type": "code",
   "execution_count": null,
   "outputs": [],
   "source": [],
   "metadata": {
    "collapsed": false
   },
   "id": "2e2b7e4ba8f7846c"
  },
  {
   "cell_type": "code",
   "execution_count": 41,
   "outputs": [
    {
     "data": {
      "text/plain": "3361"
     },
     "execution_count": 41,
     "metadata": {},
     "output_type": "execute_result"
    }
   ],
   "source": [
    "len(glob.glob(\"/home/jjjj/Pictures/WITH_PROV_07_09/*\"))"
   ],
   "metadata": {
    "collapsed": false,
    "ExecuteTime": {
     "end_time": "2023-09-11T02:56:23.572395926Z",
     "start_time": "2023-09-11T02:56:23.520265482Z"
    }
   },
   "id": "aae1fb1c22c91e8b"
  },
  {
   "cell_type": "code",
   "execution_count": 52,
   "outputs": [],
   "source": [
    "x_list = [i.split(\".\")[0] for i in x_list]"
   ],
   "metadata": {
    "collapsed": false,
    "ExecuteTime": {
     "end_time": "2023-09-11T03:11:51.734026824Z",
     "start_time": "2023-09-11T03:11:51.687624261Z"
    }
   },
   "id": "c7a9d76334eeb59f"
  },
  {
   "cell_type": "code",
   "execution_count": 53,
   "outputs": [
    {
     "name": "stdout",
     "output_type": "stream",
     "text": [
      "53ef854130fb7e8f159959d20bbd82a51441576f\n",
      "6c266e630d4ead8ee43a5f06998df7fd32bd007b\n",
      "82ba708b3ad7ca797a215110072264591fc0657f\n",
      "46a8a5d3d757af3ce6b87461242de78dead3de63\n",
      "1aa3cbf45ad0cb239c8444c29dfcd112805d76d2\n",
      "926e1fb20633aa9e9b044c6b0ae6daed6cf2b1b3\n",
      "535271cab7c43db167c5c9ca0a97c937558115a1\n",
      "7bb07098845991c9d61133da2eee967adac5bbe8\n",
      "876b3d1576dc43b38d1bc13d9ff5e556\n",
      "822f51b334667e13e97053e84b639706cb80a3b7\n",
      "5da765110364d2ac8b6d053ffc94c045eb099bc4_1\n",
      "238f9a0ab983bd81f7f3cfcb3e9b038b954019bc\n",
      "7d112373a1c87bcb0151c7d0909e5342fe006588\n",
      "2aa2ac9f790ce2b1dc6beb15dac886bbe2aece35\n",
      "92f571878931e790b5410a7886ad5c13d0c1e227_2\n",
      "487824fd0de785408f4b9536a5e51cb937e70503_1\n",
      "e858a5591cea321c1e94a5ebc946933ae9c33bfd\n",
      "7c404e44d4d631aed5002302856c1faab3c08146\n",
      "8a44e70cefb053b577287310cfa35c3692c70823\n",
      "8c2bb3f61ec7f2b2f6514766db06cb73\n"
     ]
    }
   ],
   "source": [
    "all_imgs = [i.split(\"/\")[-1].split(\".\")[0] for i in glob.glob(\"/home/jjjj/Pictures/gallery_view/saves/*\")]\n",
    "\n",
    "for j in glob.glob(\"/home/jjjj/Pictures/FINALE_ALL/*/*\"):\n",
    "    j = j.split(\"/\")[-1].split(\".\")[0]\n",
    "    if j not in all_imgs and j not in x_list:\n",
    "        print(j)"
   ],
   "metadata": {
    "collapsed": false,
    "ExecuteTime": {
     "end_time": "2023-09-11T03:11:53.358439254Z",
     "start_time": "2023-09-11T03:11:53.156612537Z"
    }
   },
   "id": "dd01b4a99ad1708b"
  },
  {
   "cell_type": "code",
   "execution_count": 72,
   "outputs": [
    {
     "data": {
      "text/plain": "['Book Of Wolves',\n 'Wild Wild Vegas',\n 'Chronos Joker',\n 'Ticket to the Stars',\n 'Leprechaun Goes Wild',\n 'Easter Gifts',\n 'Infectious 5 xWays',\n \"Gangster's Gold - On The Run\",\n 'Safari King',\n 'Chimney Sweep',\n 'Cash Pump',\n 'Avalon: The Lost Kingdom',\n '5 Lions Gold',\n 'El Toreo',\n 'Hellvis Wild',\n 'Let it Spin',\n 'Hotel Yeti-Way',\n 'The Dog House Multihold',\n 'VIP Filthy Riches',\n 'Fairytale Beauties',\n 'Magic Stars 6',\n 'Dawn of Egypt',\n 'Slugger Time',\n 'Slotomon Go',\n 'Rage to Riches',\n 'Chance Machine 100',\n '9 Burning Stars',\n 'Sweet Alchemy Bingo',\n 'Dwarven Gold Deluxe',\n 'Magic Hot',\n 'Gustav Minebuster',\n 'Wild Streak',\n 'Huntress Wild Vengeance',\n 'Aztec Spell',\n 'Star Pirates Code',\n 'Book Of Kingdoms',\n 'Dia De Los Muertos',\n 'Hex',\n 'Sphinx Fortune',\n '88 Riches',\n 'Akbar Birbal',\n 'Beer Bonanza',\n 'Lucky Reels',\n 'Cosmic Cash',\n 'Sparkling Fresh',\n 'Immortal Fruits',\n 'Jewel Box',\n 'Candy Monsta',\n 'Mission Cash',\n 'Rock Bottom',\n 'Multistar Fruits',\n '7 Piggies',\n 'Sweet Bonanza Xmas',\n 'Hot Chilli',\n 'Holiday Spirits',\n '1 Reel Halloween',\n 'Gems & Stones',\n 'Carnaval',\n 'The King of Heroes',\n 'Gem Blast',\n 'Lotus Charm',\n 'Magic Hot 4 Deluxe',\n 'Leprechaun Hills',\n 'Dwarven Gold Deluxe',\n 'Wombaroo',\n 'Arcade',\n 'Captain Glum: Pirate Hunter',\n 'Majestic King - Expanded Edition',\n 'Cash Box',\n 'Lucky Sweets',\n '16 Coins',\n 'Scroll of Dead',\n 'Demon',\n 'Highway To Hell',\n '100 Zombies',\n 'Caishen Wealth',\n 'Fire Strike 2',\n 'Western Tales',\n 'Little Bighorn',\n \"Blazin' Bullfrog\",\n 'Mummyland Treasures',\n 'Festive Indulgence',\n '1 Reel Mammoth',\n 'Lady Wolf Moon Megaways',\n 'Aztec Magic',\n 'Gods of Giza',\n 'The Cage',\n 'Four Lucky Diamonds',\n 'Christmas Jackpot',\n 'Hot Pepper',\n 'Elvis Frog in Vegas',\n 'Buffalo Hold and Win',\n 'Book Of Rebirth Reloaded',\n 'Bison Bonanza',\n 'Diamond Strike',\n 'Angry Dragons',\n 'Plunderland',\n \"Athena's Glory\",\n '1 Reel Demi Gods III',\n 'John Hunter And The Mayan Gods',\n 'Goddess of War',\n 'Clash of Camelot',\n 'Rabbit Hole Riches',\n 'Rocco Gallo',\n 'Sweet 27',\n 'Diamond Vortex',\n \"Da Vinci's Treasure\",\n 'Lucky Oak',\n 'Desert Treasure',\n 'Firebird Spirit',\n 'The Wild Machine',\n 'The Catfather',\n 'Minotaurus',\n 'Jade Butterfly',\n 'Egypt Fire',\n 'Jane Hunter and the Mask of Montezuma',\n 'Money Cart 3',\n 'Wild Girls',\n '3 Clown Monty',\n 'Magic Spins',\n 'Pearl Lagoon',\n 'Dino Reels 81',\n 'Mechanical Clover',\n '3 Thunders',\n 'Monkey Jackpot',\n \"Panda's Fortune\",\n 'Jetsetter',\n 'Shamrock Miner',\n 'Hit The Route',\n 'Fairy Gate',\n 'The Night Racing',\n 'Voodoo Dice',\n 'Richy Hog',\n 'Lucky Streak 1',\n 'Bonanza Billion',\n 'Egyptian Rebirth II',\n 'Aztec Magic Bonanza',\n 'Irish Treasures',\n 'Ring of Odin',\n 'Heart of Rio',\n 'Buffalo 50',\n 'Eye of Horus Megaways',\n 'Dragon Kingdom',\n 'Contact',\n 'Ivan and the Immortal King',\n 'Gladiators',\n 'Wildchemy',\n 'Blue Panther Christmas Edition',\n 'Wild Easter',\n 'Book Of Rampage 2',\n \"Aladdin's Treasure\",\n 'Fantasy Park',\n 'Spinning Beers',\n 'Diamond Mine Megaways',\n 'Super Boost',\n 'Gold King',\n 'Triple Tigers',\n 'Ring of Odin',\n 'Double Tigers',\n '1 Reel Golden Piggy',\n 'The Ultimate 5',\n 'Madame Destiny Megaways',\n 'Cash Elevator',\n 'Mayan Magic Wildfire',\n 'Book Of Rampage Reloaded',\n 'Lucky Jack - Book Of Rebirth',\n 'Snail Race',\n 'Santa',\n 'Blender Blitz',\n 'Rocket Blast Megaways',\n 'Macarons',\n 'The Twisted Circus',\n 'Queen Of Ice - Christmas Edition',\n 'Basketball Star on Fire',\n '777 Heist 2 The Art Forger',\n 'Shinobi Spirit',\n 'Aztec Warrior Princess',\n '2016 Gladiators',\n 'Golden Caravan',\n 'Retromania',\n 'Crystal Classics',\n 'Firefly Frenzy',\n 'Avalon',\n 'Queen of Atlantis',\n 'Fresh Fruits',\n 'Glorious Rome',\n 'Bull in a China Shop',\n 'Charlie Chance',\n 'Xmas Joker',\n 'Fire Joker',\n 'Beach Party Hot',\n 'Matsuri',\n 'Scatter Monsters',\n 'Hot Fruit Delights',\n 'Cat Wilde and the Pyramids of Dead',\n 'Fire Bird',\n 'Money Farm',\n 'Crystal Skull',\n 'Chilli Heat',\n 'Evil Goblins xBomb',\n 'Magic Stars 5',\n 'Gluttony',\n 'Princess Royal',\n 'Book Of Majestic King',\n \"Savannah's Queen\",\n 'Mariachi Fiesta',\n 'Super 7s',\n 'Royal High-Road',\n 'Book of Lucky Jack - The Lost Pearl',\n 'Asgardians',\n '7 Days Anotherland',\n 'Break Da Bank Again',\n 'Pilgrim of Dead',\n 'Dracula Riches',\n 'Book of Vikings',\n 'Kluster Krystals',\n 'The Moneymania',\n 'Magic Stars 9',\n 'Hello Easter',\n 'Ignite the Night',\n 'The Vault',\n 'Super Joker',\n 'Marching Legions',\n 'Chip Spin',\n 'Bounty Gold',\n 'Elemento',\n 'Drago - Jewels of Fortune',\n 'Viking Fall',\n 'Wild Tome of the Woods',\n 'Sonic Reels',\n 'Banana Rock',\n 'Pixies vs Pirates',\n '7 Sins',\n 'Magic Apple',\n '9 Coins Grand Platinum Edition',\n 'Beauty and the Beast',\n 'Big Money Frenzy',\n 'Scroll of Adventure',\n 'House of Doom 2: The Crypt',\n 'Giant Wild Goose Pagoda',\n 'Love Magic',\n 'Safari Gold Megaways',\n 'Joker King',\n 'Lucky Dragons',\n 'Maze Escape',\n 'Colt Lightning',\n 'Road 2 Riches',\n 'Lucky New Year',\n 'Towering Fortunes',\n 'Congo Cash',\n 'Book Of Clovers Reloaded',\n 'Sticky Bandits',\n 'Lucky Dama Muerta',\n 'Derby Wheel',\n 'Diamond Magic Deluxe',\n 'Wolf Fang',\n 'Dance Party',\n 'Dragon King',\n 'Wild West Gold Megaways',\n 'Dragon Maiden',\n 'Book of Xmas',\n 'Blockchain Megaways',\n 'Canine Carnage',\n 'Casino Win Spin',\n 'Tiki Bonanza',\n 'Royal Masquerade',\n 'Champions of Mithrune',\n '2022 Hit Slot',\n 'Photo Safari',\n 'MMA Champions',\n 'Dark Wolf',\n \"Dracula's Castle\",\n 'Hockey League Wild Match',\n 'Country Farming',\n 'Northern Sky',\n 'Wild Frames',\n 'The Wild Class',\n '1 Reel Egypt',\n 'Sugar Rush',\n 'Night Club 81',\n 'Platinum Lightning Deluxe',\n 'Book Of Champions',\n 'Cube Mania',\n 'Rainbow Gold',\n 'Cash Truck 2',\n 'Sails of Fortune',\n 'Eternal Phoenix Megaways',\n 'Platinum Lightning',\n 'Wild Falls',\n 'Sugar Glider',\n 'Cowboy Coins',\n 'Aztec Gems Deluxe',\n 'Top Dawg$',\n 'Sticky Bees',\n 'Fortune Llama',\n 'Diamond Mine Extra Gold',\n 'Origins Of Lilith',\n 'Joker Ra',\n '1 Reel Joker',\n 'Tale of Kyubiko',\n 'Volatile Vikings',\n 'Crown of Fire',\n 'Juicy Fruits',\n \"Surfin' Reels\",\n 'Big Bass Bonanza Megaways',\n 'Snegurochka',\n 'Raging Bull',\n 'Fortunes of Ali Baba',\n 'Mammoth Rampage',\n 'Bronco Spirit',\n 'Book Of Cats',\n 'Koschei The Deathless',\n 'Princess of Sky',\n 'Luxury Club',\n 'Vegas Magic',\n 'Wild Cauldron',\n \"Patrick's Collection 40 Lines\",\n 'Harlequin Carnival',\n 'Dwarfs Fortune Easter',\n \"Tiger's Glory\",\n 'Zombie Carnival',\n 'Gem Splitter',\n 'The Stash',\n 'Mahjong 88',\n 'Lucky Scarabs',\n 'Wacky Monkey',\n 'Hawaii Cocktails',\n 'Sweet Alchemy 2',\n 'Gorilla Mayhem',\n 'Money Farm 2',\n 'Dark Reels',\n 'Golden Calaveras',\n 'Money Train',\n 'Sails of Gold',\n 'Twerk',\n 'Bushido Ways xNudge',\n 'Misery Mining',\n '2 Kings of Africa',\n 'Great Book of Magic',\n 'The Dog House',\n 'Book of Museum',\n 'Reel Joke',\n '1 Reel - Caribbean Treasure',\n 'Chance Machine 40',\n \"Fruits - Chase'N'Win\",\n 'Sweet Powernudge',\n 'Penny Fruits Xtreme Christmas Edition',\n 'Happy Holidays',\n 'Das xBoot',\n 'Merlin and the Ice Queen Morgana',\n 'Bull in a Rodeo',\n 'Wild Santa',\n 'Hockey League',\n 'Diamond Vapor',\n 'Majestic King - Christmas Edition',\n 'Gold Trophy 2',\n 'Master Of Gold',\n 'Out Of The Ice',\n 'Irish Lucky Dice',\n '1 Reel Majestic King',\n 'Isis',\n 'Catch & Snatch',\n 'Prime Zone',\n 'Sun of Fortune',\n 'Four Lucky Clover',\n 'Hooligan Hustle',\n 'Agent of Hearts',\n 'Boom! Boom! Gold!',\n 'Royal Potato',\n 'The Golden Sail',\n 'Slot Jam',\n 'Reel Hero',\n '100 Juicy Fruits',\n \"Dead Man's Trail\",\n 'Leprechaun Song',\n 'Sevens',\n 'Lucky Drink',\n 'Gems Bonanza',\n 'Adventure Palace',\n 'Mermaids Millions',\n '1 Reel Baba Yaga',\n 'Iron Girl',\n 'Shining Hot 100',\n 'Gems of Serengeti',\n 'Chili Quest',\n 'Sweet Rush Megaways',\n 'Wild Chapo 2',\n 'Rise of Gods: Reckoning',\n 'Imperial Opera',\n 'Sizzling Spins',\n 'Maya Sun',\n 'Vegas Reels II',\n 'Cleocatra',\n 'Elemental Gems Megaways',\n 'Golden Glyph 2',\n 'Fortune Reels',\n 'Wild Falls 2',\n 'Jasmine Dreams',\n 'Fortune Reels',\n 'Aztec Spell - Forgotten Empire',\n 'John Hunter and the Quest for Bermuda Riches',\n 'Hot Wild Pepper',\n 'Million Zeus',\n 'Fruit Rainbow',\n 'Nights of Egypt',\n 'Christmas Carol Megaways',\n 'Thunder of Olympus',\n 'Fire Hot 40',\n 'Genie Jackpots Wishmaker',\n 'Hawaiian Bliss',\n 'Jack on Hold',\n 'Golden Legend',\n 'Mummy Power',\n 'Troll Hunters',\n 'Wild Dolphin',\n 'Fury of Odin Megaways',\n 'Joker Strike',\n 'Master of Xmas',\n 'Lucky Fortune',\n 'Aztec Magic',\n 'Wild Jack 81',\n 'Genie Jackpots Megaways',\n '1 Reel Monkey',\n 'Fire Joker Freeze',\n 'Golden Strawberries',\n 'Water Tiger',\n 'Buffalo Rampage',\n 'Super Flip',\n 'Chinese New Year',\n 'Snowing Gifts',\n \"Egyptian Rebirth II: Mummy's Return\",\n 'Monkey Madness',\n \"Patrick's Collection 10 Lines\",\n 'Gangsterz',\n 'Aztec Fire',\n 'Rabbits Rabbits Rabbits',\n 'Golden Gods',\n 'Book Of Demi Gods II - Christmas Edition',\n 'Rosh Immortality Cube Megaways',\n 'Illuminous',\n 'Lost Treasure',\n 'Angry Dogs',\n 'Troll Hunters 2',\n 'Gemix 2',\n 'The Ghost Walks',\n 'Hot Fruit Delights',\n 'Million 777 Wheel',\n 'Cluster Tumble',\n 'Big Atlantis Frenzy',\n 'Book Of Irish Treasures',\n 'Return of the Dead',\n 'Fish Party',\n 'Sticky Bombs',\n 'Chilli Picante Megaways',\n 'Remember Remember',\n 'Legacy of Doom',\n 'True Grit Redemption',\n 'Football Mania Deluxe',\n 'Riches of RA',\n 'Mammoth Gold Megaways',\n 'Caveman Bob',\n 'Gold Rush Riches',\n 'Leprechaun Heist',\n 'Coffee Wild',\n 'Voodoo',\n 'Speed Cash',\n 'Book of Kemet',\n 'Fury of Odin Megaways',\n '9 Tigers',\n 'Cash Truck',\n 'Jacks or Better',\n 'Rock Vegas',\n 'Book Of Xmas - Jingle Bells',\n 'Story Of Alice',\n 'The Paying Piano Club',\n 'Book Of Diamonds',\n 'La Fiesta',\n 'Legion Gold',\n 'Street Racer',\n \"Midsummer's Fortune\",\n 'Mystery Joker 6000',\n 'Aztec Palace',\n 'Alaskan Fishing',\n '88 Riches',\n 'Gemix 2',\n 'Ladies Nite',\n 'Fenix Play 27 Deluxe',\n 'Agent of Hearts',\n 'Flaming Fruits',\n 'Ghost of Dead',\n 'Eastern Emeralds Megaways',\n 'Rise of Giza PowerNudge',\n 'Ancient Egypt',\n 'Mega Flip',\n 'Gunslinger: Reloaded',\n 'Wild Guns',\n 'Cash Vandal',\n 'Merlin: Journey of Flame',\n 'Thunderstruck',\n 'Leprechaun Goes Wild',\n 'Mustang Gold',\n 'Wild Jack',\n 'Goddess Of Lotus - Blooming Wonder',\n 'Eye of Gold',\n 'Joker Win',\n 'Dracula',\n 'Crown of Valor',\n 'Xmas Magic',\n 'Starlight Christmas',\n 'Fruits',\n 'Wild Depths',\n 'Dice Dice Baby',\n 'Tesla Jolt',\n 'Star Pops',\n 'Clover Lady',\n \"Santa's Gift\",\n '1 Reel Demi Gods II',\n 'Magic Fruits',\n 'Rugby Star',\n 'Scatter Monsters',\n 'Hazakura Ways',\n 'Haunted Hospital',\n 'Colossal Cash Zone',\n 'Curse of the Werewolf Megaways',\n 'Atlantis Megaways',\n 'Lucky Lands',\n 'Punk Toilet',\n 'Piggy Bankers',\n 'Bomb Bonanza',\n 'Richy Hog',\n 'Mystery Jack Deluxe',\n 'Cloud Quest',\n 'Battle Royal',\n 'Big Win Cat',\n 'Crystals Digger',\n 'Super Hot',\n 'Eggs of Gold',\n 'Spectrum',\n 'Halloween Jackpot',\n 'Dog Squad',\n 'Wild Spells',\n 'Wild Wild Bananas',\n 'Hot Sync',\n '5 Lions Megaways',\n 'Golden Ox',\n 'Riddle Reels: A Case of Riches',\n '1 Reel Mammoth',\n 'Treasure Wild',\n 'Witches Wild Brew',\n 'Crystal Queen',\n 'Bang Bang',\n 'Hot Party Deluxe',\n 'Wolf Fang Winter Storm',\n 'Gold Rush',\n 'Ancient Troy Dice',\n 'Bounty Hunters',\n \"Bob's Coffee Shop\",\n 'Idol of Fortune',\n 'Rise of Atlantis',\n 'Mystic Chief',\n 'Spirit of Adventure',\n \"Jack's Ride\",\n 'Jewel Rush',\n 'Monster Superlanche',\n 'Smugglers Cove',\n 'Burning Sun',\n 'Ancient Egypt Classic',\n \"Dolphin's Dream\",\n 'Diamond Cascade',\n 'Buffalo Hunter',\n '3 Kingdoms - Battle of Red Cliffs',\n 'Tic Tac Take',\n 'Riches of Caliph',\n 'Book Of Power',\n 'Fortune Teller',\n 'Fresh Fruits',\n 'Lucky Koi',\n 'Cats and Cash',\n 'PIZZA! PIZZA? PIZZA!',\n 'Age of Olympus: Apollo',\n 'Crystal Prince',\n 'Magic Target Deluxe',\n 'Kamchatka',\n 'Turbo Play',\n 'Azticons Chaos Clusters',\n 'Wildfire Fruits',\n 'Spinning Lights',\n 'Peking Luck',\n 'More Magic Apple',\n 'TNT Bonanza',\n 'Sun of Egypt 2',\n 'Fire Hot 5',\n 'Zombie Town',\n 'Tower Tumble',\n 'Star Joker',\n 'Money Train 3',\n 'Crazy Cows',\n 'Hellcatraz',\n 'Gemhalla',\n 'Raven Rising',\n 'Lion Dance',\n 'WBC Ring of Riches',\n 'Book of Oil',\n 'Testament',\n 'Luck & Magic',\n 'Gold Hunter',\n 'Queen Of Fire - Expanded Edition',\n 'Book of Poseidon',\n 'Hell Hot 20',\n 'Wizard of Gems',\n 'West Town',\n 'Burning Classics',\n 'Reactoonz 2',\n 'Manhattan Goes Wild',\n 'Aztec Spell - 10 Lines',\n \"Helios' Fury\",\n '88 Fortune Cats',\n 'Jacks or Better',\n 'Ice Ice Yeti',\n 'Sweet Bonanza',\n 'Big Win 777',\n 'Pyramid King',\n '4 of a King',\n 'Legendary Sumo',\n 'Raging Rex 2',\n 'Golden Lemon',\n 'Hit more Gold!',\n 'Rise of Dead',\n 'Book of Vlad',\n 'Legion X',\n 'USA Flip',\n 'Nights Of Magic',\n 'Enchanted Crystals',\n 'Horror Hotel',\n '9 Coins Easter',\n 'Gamblelicious Hold and Win',\n 'Feline Fury',\n 'Glory of Egypt',\n 'Wolf Quest',\n 'Great Book of Magic Deluxe',\n 'Wild Booster',\n 'Heroes Hunt',\n '3 Genie Wishes',\n 'Gods of Ireland',\n 'Aztec Magic Megaways',\n 'King of Kings',\n \"Xmas - Chase'N'Win\",\n 'Demon Jack 27',\n 'Master Joker',\n \"Lucky Lady's Clover\",\n 'Myth',\n '5 Wild Wild Peppers',\n 'The Wild Wings of Phoenix',\n 'Fenix Play Deluxe',\n 'Pearls of India',\n 'Rooster Fury',\n 'Queen of Gods',\n 'Leprechaun goes Egypt',\n 'Net Gains',\n \"Queen's Day Tilt\",\n 'Burning Classics go Wild',\n 'Burning Stars',\n 'Luck & Magic',\n 'Book Of Aphrodite',\n 'Big Win Cat',\n 'Aztec Sun',\n 'Miami Beach',\n 'Cash Defense',\n 'Loaded',\n 'Gates of Valhalla',\n 'Return of Kong Megaways',\n 'Fortune Rewind',\n 'Buddha Megaways',\n 'Money Cart',\n 'Oktober Spin Fest',\n 'Gold Gold Gold',\n 'Wolf Hunt',\n 'Wacky Panda',\n '1 Reel Hawaiian Bliss',\n 'Jetsetter',\n 'Warp Wreckers Power Glyph',\n 'Book Of Sirens',\n 'The Border',\n 'Sunlight Princess',\n 'John Hunter and the Tomb of the Scarab Queen',\n 'Gold Vein',\n 'Fishin Frenzy Megaways',\n \"Bankin' Bacon\",\n 'Gold Rush with Johnny Cash',\n 'Fire Toad',\n 'Wild Penguin',\n 'Xtreme Summer Hot',\n 'Sizzling Eggs',\n 'Around the World',\n 'Shining Hot 20',\n 'Mystery Joker',\n 'Fairytale Fortune',\n 'Joker Queen',\n 'Unicorn Reels',\n 'Book of Poseidon',\n 'Money Mouse',\n 'Fortune Reels',\n \"Ali Baba's Riches\",\n \"Naughty Nick's Book\",\n 'Olympian Gods',\n 'Cyber Wolf',\n 'Asgard',\n 'Hut With Chicken Legs',\n 'Chilli Heat Megaways',\n 'Chance Machine 20',\n 'High Society',\n \"Dragons' Awakening\",\n 'Cash of Command',\n 'Wolf Hunt',\n 'Vegas Reels II',\n 'Jewels',\n 'Slotomoji',\n 'Larry the Leprechaun',\n '7 Bonus Up',\n 'Wild Melon',\n 'Wombaroo',\n 'Magic Fruits Deluxe',\n 'Avalon',\n 'Eye of the Kraken',\n 'Vikings Unleashed Megaways',\n 'Gold Party',\n 'Dwarfs Fortune',\n 'Sweet Alchemy',\n 'Green Slot',\n 'Enchanted Meadow',\n 'Wilds Of The West',\n \"King's Mask\",\n 'Magic Stars 3',\n 'Athena Ascending',\n \"Naughty Nick's Book\",\n \"Mermaid's Diamond\",\n 'Football Star',\n 'Club Tropicana',\n 'Book of Piggy Bank',\n 'Razortooth',\n 'Gold Lab',\n '888 Dragons',\n 'Queen Of The Forest',\n \"Luck O' The Irish Mystery Ways Fortune Play\",\n 'Mechanical Orange',\n 'Temujin Treasures',\n '3 Coins',\n 'Tennis Champions',\n 'House of Doom',\n 'Great Rhino Megaways',\n 'Aztec Magic Deluxe',\n 'Mystery Kingdom: Mystery Bells',\n 'Big Catch Bass Fishing',\n 'Love Joker',\n 'Vampire Senpai',\n 'Sevens High Ultra',\n 'Deep Descent',\n 'Black Hawk Deluxe',\n '1 Reel Panther',\n '1 Reel Beauty',\n 'Demi Gods II',\n 'Fat Frankies',\n 'Icy Fruits',\n 'Joker Explosion',\n 'Gates of Troy',\n 'Pied Piper',\n 'Serpent Shrine',\n \"That's Rich\",\n '20 Hot Fruit Delights',\n 'Black Hawk',\n 'Safari',\n 'Penny Fruits Xtreme Christmas Edition',\n 'Emerald King Rainbow Road',\n 'Mysterious Egypt',\n '1 Reel Shamrock',\n 'Snake Arena',\n 'Solar Eclipse',\n 'Dynamite Fruits Deluxe',\n 'Sweet Bonanza Dice',\n 'Wild Luchador',\n 'Mystic Chief',\n 'Diamond Mine Megaways',\n 'The Creepy Carnival',\n 'Soccermania',\n 'Second Strike',\n 'Goblin Heist Powernudge',\n 'Muertos Multiplier Megaways',\n 'Penny Pelican',\n 'Phoenix Forge',\n 'Polar Paws',\n 'Wild Love',\n 'Ded Moroz',\n 'Luchamigos',\n 'Magic Hot 4',\n 'Legendary Diamonds',\n 'Shining Hot 5',\n '7s and Diamonds',\n 'Mine & Melt',\n 'Windy City',\n 'Vampires vs Wolves',\n 'Lady of the Moon',\n 'Majestic King - Sunset',\n 'Queen of Gold',\n 'Inferno Star',\n 'Spooky Graves',\n 'Journey to the West',\n 'Money Moose',\n 'Gold Train',\n 'Dark Wolf',\n 'Avalon: The Lost Kingdom',\n \"Dog Heist Shift 'N' Win\",\n 'Sherlock Bones',\n 'Egyptian Fortunes',\n \"Free Reelin' Joker\",\n 'Mega Masks',\n 'Torii Tumble',\n 'Choco Reels',\n \"Kitsune's Scrolls\",\n 'Fruity Summer',\n 'Prehistoric Story',\n 'The Smart Rabbit',\n 'Sweet Success Megaways',\n 'Tiger Kingdom',\n 'Iron Bank',\n 'Big Bass - Hold & Spinner',\n 'Queen Of Ice',\n 'Magic Fruits 27',\n 'Age Of Pirates',\n 'Ramses Legacy',\n 'Snegurochka',\n 'Sakura Fortune',\n 'Mount M',\n 'The Great Pigsby',\n 'The Red Queen',\n 'Eye of the Storm',\n 'Hungry Shark',\n 'Pub Kings',\n 'Disturbed',\n 'Magic of the Ring Deluxe',\n 'African Elephant',\n 'Ninja Fruits',\n 'Dragon Hero',\n 'Kings of Cash',\n 'The Dragon Tiger',\n 'Wolf Saga',\n 'Book of Doom',\n 'Fruit Mania Deluxe',\n 'Starz Megaways',\n 'Money Cart 2',\n 'Demi Gods IV Christmas Edition',\n 'Lucky Cloverland',\n 'Book Of Elves',\n 'Cabin Crashers',\n '1 Reel Wolf Fang',\n 'Erik the Red',\n 'Little Panda',\n 'Crazy Starter',\n 'Power of Gods: Hades',\n 'Fruits Craze',\n 'Spartan King',\n 'Tales of Egypt',\n 'Bonus Bunnies',\n 'Hercules Son of Zeus',\n 'Goldilocks',\n 'Corrida Romance Deluxe',\n 'Moon Princess',\n 'Wild West Gold',\n '1 Reel Majestic King',\n 'Miner Donkey Trouble',\n '15 Coins',\n 'Benji Killed in Vegas',\n '1 Reel Xmas',\n 'Ultra Fresh',\n 'Pearl Diver',\n 'Dinosaur Rage',\n 'Royal Gems',\n 'Piggy Bank Bills',\n 'Valhalla',\n 'Cupid',\n 'Troll Hunters 2',\n 'Cash Bonanza',\n 'Sticky Joker',\n \"Khan's Wild Quest\",\n \"Kitsune's Scrolls Expanded Edition\",\n 'Fire Bird',\n 'Guardian of Ra',\n 'Easter Eggs',\n 'Aloha King Elvis',\n 'Fruit Party',\n 'The Last Sundown',\n 'Ticket to the Stars',\n 'Queen Of The Forest - Night Whispers',\n 'Reapers',\n '1 Reel Reef',\n 'Jade Magician',\n 'Wild Wild Riches',\n 'Wild Luchador',\n 'Tiger Stone',\n 'Big Bad Wolf Christmas Special',\n 'Safari of Wealth',\n 'Hot to Burn',\n 'Triple Dragons',\n \"Santa's Factory\",\n 'Highway to Hell Deluxe',\n 'Diamonds of the Realm',\n 'Phoenix Reborn',\n 'Fantasy Park',\n \"It's Time\",\n 'Lucky Lands',\n 'Fortune of Giza',\n 'Rise of Olympus 100',\n '7 Sins',\n \"Beer O'clock\",\n 'Annihilator',\n '3 Clown Monty',\n 'Deep Sea',\n 'The Rodfather Megaways',\n \"Baker's Treat\",\n 'Excalibur Unleashed',\n 'Diamond Duke',\n 'Golden Glyph',\n 'Spin and Spell',\n 'Charlie Chance',\n 'Golden Goal',\n \"Cops'n'Robbers\",\n 'Basketball Star',\n 'Burning Sun Extremely Light',\n 'Aztec Pyramid',\n 'Moon Princess: Christmas Kingdom',\n 'Magic Fruits 81',\n \"Poseidon's Rising\",\n 'Golden Ticket 2',\n 'Serial',\n 'Hot 4 Cash',\n 'Dragon Tribe',\n 'Big Bad Wolf Megaways',\n 'The Emirate',\n 'Story Of Egypt',\n 'Butterfly Charms',\n 'Lunar Rabbit',\n 'Bronco Spirit',\n 'Power of Gods: Egypt',\n 'Phoenix Sun',\n 'Disco Diamonds',\n \"Pandora's Box of Evil\",\n 'Summer Ways',\n 'Gift Shop',\n 'Story Of Medusa',\n 'Burning Sun Easter',\n 'Dice Bonanza',\n 'Vegas Hot 81',\n 'Yum Yum Powerways',\n '88 Golden 88',\n 'Octobeer Fortunes',\n 'Magic Eggs',\n 'Rio Gems',\n 'Blue Slot',\n 'Wild Santa 2',\n 'Magical Amazon',\n 'Ancient Troy',\n 'Journey Flirt',\n 'Vegas Nights',\n 'Tally Ho',\n 'Lucky Fish',\n 'Beasts of Fire',\n 'Queen Of Fire',\n 'King Tusk',\n 'The Dog House Megaways',\n 'Elusive Gonzales',\n 'Sun of Egypt',\n 'Black Mamba',\n 'Valletta Megaways',\n 'Aladdin and the Sorcerer',\n 'Fire Hot 20',\n \"Free Reelin' Joker\",\n 'Perfect Gems',\n 'Tree of Riches',\n 'Wins of Fortune',\n '9 Lions',\n 'Fortune Reels',\n 'Rich Raptors',\n 'Scroll of Seth',\n 'Red Cap',\n 'The Rise of AI',\n 'Halloween Crystals',\n 'Fire In The Hole xBomb',\n 'Book of The Divine',\n 'Voodoo Magic',\n '15 Crystal Roses: A Tale of Love',\n '1 Reel Patrick',\n 'Book of Santa',\n 'Colossus Fruits',\n 'Golden Beauty',\n 'Blue Panther',\n 'Black Bull',\n 'Adventures Beyond Wonderland Magical Maze',\n 'Scarab Temple',\n 'Sizzling 777',\n 'Pearl Harbor',\n 'The Champions',\n ...]"
     },
     "execution_count": 72,
     "metadata": {},
     "output_type": "execute_result"
    }
   ],
   "source": [
    "x_list"
   ],
   "metadata": {
    "collapsed": false,
    "ExecuteTime": {
     "end_time": "2023-09-11T03:28:10.526143986Z",
     "start_time": "2023-09-11T03:28:10.482806362Z"
    }
   },
   "id": "485a300b2644c019"
  },
  {
   "cell_type": "code",
   "execution_count": 59,
   "outputs": [
    {
     "data": {
      "text/plain": "['Book Of Wolves0',\n 'Coba0',\n 'Magic Powers Megaways0',\n 'Bloodthirst0',\n 'Wild Wild Vegas0',\n 'Chronos Joker0',\n 'Disc of Athena0',\n 'Ticket to the Stars0',\n 'Leprechaun Goes Wild1',\n 'Easter Gifts0',\n 'Infectious 5 xWays0',\n 'Fancy Fruits RHFP0',\n \"Gangster's Gold - On The Run0\",\n 'Beez Kneez0',\n 'Safari King0',\n 'HelioPOPolis0',\n 'Africa Gold1',\n 'Chimney Sweep0',\n 'Cash Pump0',\n 'Tsai Shen 10K Ways Dream Drop0',\n 'In The Rabbit Hole0',\n 'Avalon: The Lost Kingdom1',\n 'TABOO0',\n '5 Lions Gold0',\n 'God of Fire0',\n 'El Toreo0',\n 'Jewel Scarabs0',\n 'Dragons Luck MegaWays0',\n 'Hellvis Wild0',\n 'Bork The Berzerker0',\n 'Let it Spin0',\n \"Pirates' Plenty Megaways0\",\n 'Hotel Yeti-Way0',\n 'The Dog House Multihold0',\n 'VIP Filthy Riches0',\n 'Lucky Halloween0',\n 'Trojan Tales: The Golden Era0',\n 'Fairytale Beauties0',\n 'Super Mega Monsters0',\n 'Magic Stars 60',\n 'Dawn of Egypt0',\n 'Slugger Time0',\n 'Gorilla Gold Megaways: Power 4 Slots0',\n 'Slotomon Go0',\n 'Pyramid Bonanza0',\n 'Dead or Alive 2 Feature Buy0',\n 'Miss Wildfire0',\n 'Rage to Riches0',\n 'Genie Nights0',\n 'Chance Machine 1000',\n '9 Lions Xmas Edition1',\n '5 Families0',\n 'Riddle of the Sphinx0',\n '9 Burning Stars0',\n 'Sweet Alchemy Bingo0',\n 'Dwarven Gold Deluxe1',\n 'Angels and Demons0',\n 'Magic Hot2',\n 'Jaguar Temple0',\n 'Gustav Minebuster0',\n 'Gold Factory Jackpots Mega Moolah0',\n 'KD: Sushi Mania0',\n 'Captain Shark0',\n 'Aztec Spins0',\n 'Wanted Outlaws0',\n 'Wild Streak0',\n \"Dragon's Cache0\",\n 'Rage of the Seas0',\n 'Book of 990',\n 'Huntress Wild Vengeance0',\n 'Amazing Link Hades0',\n 'ARRR! 10K Ways0',\n 'Aztec Spell2',\n 'Hot Slot: 777 Crown1',\n 'The Legend of Shangri-La: Cluster Pays0',\n 'Book Of Destiny0',\n 'Day and Night0',\n 'Star Pirates Code0',\n 'Super Rich God: Hold and Win0',\n 'Book Of Kingdoms0',\n 'Cutie Cat1',\n 'The Respinners0',\n 'Dia De Los Muertos0',\n 'Hex0',\n 'Stars of Orion0',\n 'Sphinx Fortune0',\n '88 Riches0',\n 'Akbar Birbal0',\n 'Beer Bonanza1',\n '777 Surge0',\n 'Lucky Reels0',\n 'Mega Rise0',\n 'Cosmic Cash0',\n 'Sparkling Fresh0',\n 'Fancy Fruits GDN0',\n 'Pink Elephants 20',\n \"Keep 'em Cool0\",\n 'Immortal Fruits0',\n 'Jewel Box0',\n 'Candy Monsta0',\n 'Africa X UP0',\n 'Mission Cash0',\n 'Rat King0',\n 'Rock Bottom0',\n 'Pug Life1',\n 'Multistar Fruits0',\n 'Rex the Hunt!0',\n 'Beer Collection - 10 Lines0',\n 'Jackpot Quest0',\n 'Bust The Mansion0',\n '7 Piggies0',\n 'Reactoonz2',\n 'Spinguin0',\n 'Time Spinners0',\n \"Shogun's Secret CCS0\",\n 'The Wish Master Megaways0',\n 'Sweet Bonanza Xmas0',\n \"Dragon's Fire0\",\n 'Hot Chilli0',\n 'Madame Mystique Megaways Enhanced RTP0',\n 'Drill That Gold0',\n 'Wild Turkey0',\n 'Holiday Spirits0',\n '1 Reel Halloween0',\n 'Sea Treasure Deep Dive0',\n 'Fire and Roses Joker0',\n 'Gems & Stones0',\n 'Carnaval0',\n 'The King of Heroes0',\n 'Gem Blast0',\n 'Lotus Charm1',\n 'Magic Hot 4 Deluxe0',\n 'Leprechaun Hills0',\n 'Dwarven Gold Deluxe0',\n 'Wombaroo0',\n 'Lucky Fridays1',\n 'Arcade0',\n 'Captain Glum: Pirate Hunter0',\n 'Majestic King - Expanded Edition0',\n 'Long Pao1',\n 'Fruit Case0',\n 'Cash Box0',\n 'Lucky Sweets0',\n '16 Coins0',\n 'Lady Merlin Lightning Chase0',\n 'Fortune Cats Golden Stacks0',\n 'Scroll of Dead0',\n 'Demon0',\n 'Highway To Hell0',\n 'Retro 7770',\n 'Aura of Jupiter1',\n 'Arcader0',\n '100 Zombies0',\n 'Caishen Wealth0',\n 'Xmas Collection - 20 Lines0',\n 'Fire Strike 20',\n 'Western Tales0',\n 'Little Bighorn0',\n \"Blazin' Bullfrog0\",\n 'Mummyland Treasures0',\n 'Silverback: Multiplier Mountain0',\n 'Festive Indulgence0',\n '1 Reel Mammoth1',\n 'Dwarfs Gone Wild0',\n 'Lady Wolf Moon Megaways0',\n 'Aztec Magic2',\n 'Starburst XXXtreme0',\n 'Ways of The Samurai0',\n 'Gods of Giza0',\n 'The Cage1',\n 'Four Lucky Diamonds0',\n 'Cat Clans0',\n 'Treasure Mine Power Reels1',\n 'Shimmering Woods0',\n 'Beastwood0',\n 'Christmas Jackpot0',\n 'Grim The Splitter Dream Drop0',\n 'Ancient Script0',\n 'Hot Pepper0',\n 'Elvis Frog in Vegas0',\n 'Midas Gold1',\n 'Buffalo Hold and Win0',\n 'Book Of Rebirth Reloaded0',\n 'Monster Domination0',\n 'Bison Bonanza0',\n 'Diamond Strike0',\n 'Angry Dragons0',\n 'Book Of Champions: World Glory0',\n 'Jester Wheel0',\n 'Pirates Quest0',\n 'Plunderland0',\n 'Demi Gods IV: The Golden Era0',\n \"Athena's Glory1\",\n '1 Reel Demi Gods III0',\n 'John Hunter And The Mayan Gods0',\n 'Goddess of War0',\n 'Towering Pays Egypt0',\n 'Clash of Camelot0',\n 'Magic Tricks0',\n 'Hyper Star1',\n 'Tower of Power0',\n 'Rabbit Hole Riches0',\n 'Grand Wheel0',\n 'Tricks and Treats0',\n 'Gold Collector1',\n 'Happy Apples0',\n 'Story of the Samurai â\\x80\\x93 10 Lines0',\n 'Zillard King0',\n 'Hokkaido Wolf0',\n 'Knights Of Avalon0',\n 'Rocco Gallo0',\n 'Sweet 270',\n 'Nitropolis 40',\n 'Diamond Vortex0',\n \"Da Vinci's Treasure0\",\n 'Lucky Oak0',\n 'Queen of the Sun0',\n 'Chocolates0',\n 'Desert Treasure0',\n 'Firebird Spirit0',\n 'The Wild Machine0',\n 'Time Spinners1',\n 'Raging Pop0',\n 'The Catfather1',\n 'Fortune Rangers0',\n \"Rapunzel's Tower0\",\n 'Minotaurus0',\n 'Moooving Wilds0',\n 'Here Kitty Kitty0',\n 'Haunted Circus0',\n 'Jade Butterfly0',\n 'Reel Heist0',\n 'Egypt Fire0',\n 'Valentineâ\\x80\\x99s Fortune0',\n 'Jane Hunter and the Mask of Montezuma0',\n 'Cygnus 30',\n 'Dreamzone0',\n 'Money Cart 31',\n 'Wild Girls0',\n 'Cash Ultimate0',\n 'Scarab Spin0',\n '3 Clown Monty0',\n 'Vegas Diamonds0',\n 'Jingle Ways Megaways0',\n 'DJ Wild0',\n 'Magic Spins0',\n 'Esqueleto Mariachi0',\n 'Pearl Lagoon0',\n '10 Swords0',\n 'Dino Reels 810',\n 'Mechanical Clover0',\n '3 Thunders0',\n 'Pyramid: Quest for Immortality0',\n 'Monkey Jackpot0',\n \"Panda's Fortune0\",\n 'Lost City of the Djinn0',\n 'Jetsetter1',\n 'Hot Hot Chilli Pot0',\n \"Times Of Egypt â\\x80\\x93 Pharaoh's Reign0\",\n 'Shamrock Miner0',\n 'Hit The Route0',\n 'MoÌ\\x88tley CruÌ\\x88e0',\n 'Fairy Gate0',\n 'The Night Racing0',\n 'Starlite Fruits2',\n '4 Diamond Blues Megaways0',\n 'Zeus Lightning Power Reels0',\n 'Voodoo Dice0',\n 'Tasty Treats0',\n 'Richy Hog1',\n 'Lucky Streak 10',\n 'Rhino Rilla Rex0',\n 'The Dog House Dice Show1',\n 'Reptizillions Power Reels1',\n 'Slushie Party Enhanced RTP0',\n 'Giga Jar0',\n 'Bonanza Billion0',\n 'Egyptian Rebirth II0',\n 'Aztec Magic Bonanza0',\n 'Royal Seven Ultra0',\n 'Irish Treasures1',\n 'Ring of Odin0',\n '777 Strike1',\n 'Heart of Rio0',\n 'Gates of Aztec0',\n 'Three Musketeers0',\n 'Poltava0',\n 'Buffalo 500',\n 'Queen of The Crystal Rays0',\n 'Royal Seven XXL RHFP0',\n 'Leprechauns Magic Power Reels0',\n 'Joker Troupe0',\n 'Gladiator Legends0',\n 'An Escape from Alcatraz0',\n 'Wolf Fang: Snowfall0',\n 'Sumo Sumo0',\n 'Dynamite Fruits0',\n 'Eye of Horus Megaways0',\n 'Xmas Collection - 40 Lines0',\n 'Dragon Kingdom0',\n 'Contact0',\n 'Ivan and the Immortal King0',\n 'Books & Bulls GDN0',\n \"Phantom's Mirror0\",\n 'Kingdom of Asgard0',\n 'Sleepy Grandpa0',\n 'Frogs & Bugs0',\n 'Gladiators0',\n 'Wildchemy0',\n 'The Great Stick-up0',\n 'Blue Panther Christmas Edition0',\n 'Wild Easter0',\n 'Nitropolis3',\n 'Mayan Ritual0',\n 'Book Of Rampage 20',\n 'Fortune Fest1',\n 'Reel Holidays0',\n \"Aladdin's Treasure0\",\n 'Zombie aPOPalypse0',\n 'Winter Wonders0',\n 'Pine Of Plinko Dream Drop0',\n 'Fantasy Park0',\n 'Lucky Oktoberfest0',\n 'Spinning Beers0',\n 'Diamond Mine Megaways0',\n 'Super Boost0',\n 'Fortuna De Los Muertos II0',\n 'Fruit Million Oktoberfest0',\n 'Banana Town Dream Drop0',\n 'Wild Chapo Dream Drop0',\n 'Atlantic Wilds0',\n 'Stolen Treasures1',\n 'Gold King0',\n 'High Roller Bonanza0',\n 'Triple Tigers0',\n 'Katmandu X0',\n 'Magic Ball0',\n 'Royal League Spin City Lux0',\n 'Ring of Odin1',\n 'Double Tigers0',\n 'Golden Cryptex0',\n '1 Reel Golden Piggy0',\n 'The Ultimate 50',\n 'Jokerâ\\x80\\x99s Charms - Xmas0',\n 'Hyper Strike HyperSpins0',\n 'Madame Destiny Megaways0',\n 'Cash Elevator0',\n 'Wings of Ra0',\n 'Oink Farm0',\n 'Jimi Hendrix0',\n 'Mayan Magic Wildfire1',\n 'Titanâ\\x80\\x99s Rising - Expanded Edition0',\n 'Book Of Rampage Reloaded0',\n 'Lucky Jack - Book Of Rebirth0',\n 'The Falcon Huntress0',\n 'Danger! High Voltage0',\n 'Chi10',\n 'Alice In Adventureland1',\n 'Snail Race0',\n 'Micro Knights0',\n 'Strolling Staxx: Cubic Fruits0',\n 'Santa5',\n 'Blender Blitz0',\n 'Monkey Mania0',\n 'Spectra0',\n 'Rocket Blast Megaways0',\n 'Macarons0',\n 'The Twisted Circus0',\n 'Napoleon: Rise of an Empire0',\n 'Lucky Clucks0',\n 'Queen Of Ice - Christmas Edition0',\n 'Hyper Star0',\n 'Basketball Star on Fire0',\n '777 Heist 2 The Art Forger0',\n 'Shinobi Spirit0',\n 'Aztec Warrior Princess0',\n '2016 Gladiators0',\n 'Midas Golden Touch0',\n 'Golden Caravan0',\n 'Aloha! Cluster Pays0',\n 'Mystery Reels0',\n 'Retromania0',\n '5 Rabbits Megaways0',\n 'Busy Bees1',\n 'Hongkong Tower0',\n 'Space Wars 2 Powerpoints0',\n 'Mount Magmas0',\n 'Crystal Classics0',\n 'Firefly Frenzy0',\n 'King Of Ghosts0',\n 'Big Bass Bonanza - Keeping it Reel0',\n 'Avalon5',\n 'Stacks of Jacks0',\n 'Queen of Atlantis0',\n 'Fresh Fruits0',\n 'Lucky Stones0',\n 'Neon Staxx0',\n 'Emerald Diamond1',\n 'Tik Tak Toad0',\n 'Maaax Diamonds GDN0',\n 'Age of Akkadia0',\n 'TnT Tumble0',\n 'Blue Diamond0',\n 'Kingmaker0',\n 'Glorious Rome0',\n 'Twin Spin Megaways0',\n 'Bull in a China Shop0',\n 'Links of Fire0',\n 'Charlie Chance2',\n 'Xmas Joker1',\n 'Amazing Money Machine0',\n 'Fire Joker0',\n 'Beach Party Hot0',\n 'Stolen Treasures2',\n 'Matsuri0',\n 'Scatter Monsters1',\n \"Leprechaun's Magic1\",\n 'Hot Fruit Delights1',\n 'Cat Wilde and the Pyramids of Dead0',\n 'Hot Slot: 777 Cash Out0',\n 'Beer Collection - 20 Lines0',\n 'Twin Happiness0',\n 'Buffalo on Fire!0',\n 'Break Bones0',\n 'Book of Oz: Lock n Spin0',\n 'Charlie Chance XReelz0',\n 'Baron Bloodmore and the Crimson Castle0',\n 'Fire Bird1',\n 'Money Farm0',\n 'Crystal Skull0',\n 'Break Away Deluxe0',\n 'Crystal Mirror0',\n 'Chilli Heat0',\n 'Evil Goblins xBomb0',\n 'Busy Bees0',\n 'Magic Stars 50',\n 'Gluttony0',\n 'Beast Below0',\n 'Lava Lions0',\n 'Princess Royal0',\n 'Book Of Majestic King0',\n \"Athena's Glory: Story of Arachne0\",\n 'Golden Elixir0',\n \"Savannah's Queen0\",\n 'Books and Pearls Respins of Amun-Re0',\n 'Mariachi Fiesta0',\n 'Diamond King Jackpots0',\n 'Three Kingdoms0',\n 'Super 7s 0',\n 'Retro Tapes0',\n 'Royal High-Road0',\n 'Reels Of Rio â\\x80\\x93 Party Time0',\n 'High Street Heist0',\n 'Book of Lucky Jack - The Lost Pearl0',\n 'Great Pigsby Megaways0',\n 'Dork Unit0',\n 'Asgardians0',\n '7 Days Anotherland0',\n 'Break Da Bank Again2',\n 'Cherry Pop2',\n 'RockNLock0',\n 'Pilgrim of Dead0',\n 'Dracula Riches0',\n '10001 Nights0',\n 'Ancient Disco0',\n 'Book of Vikings0',\n 'Kluster Krystals0',\n 'The Moneymania0',\n 'Magic Stars 90',\n 'Hello Easter1',\n 'Sun Of Fortune Xmas Edition0',\n 'Spinions X-Mas Party0',\n 'Ignite the Night0',\n 'Holy Diver0',\n 'The Vault0',\n 'Super Joker0',\n 'Marching Legions0',\n \"Tiger's Gold: Hold and Win1\",\n 'Chip Spin0',\n 'Bounty Gold0',\n 'Super Duper Crazy Chicken Easter Egg0',\n 'The Shadow Order0',\n 'Elemento0',\n 'Starlite Fruits Mega Moolah0',\n 'Drago - Jewels of Fortune0',\n 'Viking Fall0',\n 'Wild Tome of the Woods0',\n 'Sonic Reels0',\n 'Panda Fortune 20',\n 'Banana Rock0',\n 'Pixies vs Pirates0',\n '7 Sins0',\n 'Break Da Bank Again MEGAWAYS0',\n \"Odin's Riches0\",\n 'Agent Jane Blonde Max Volume0',\n 'Magic Apple0',\n 'Blue Beard0',\n '9 Coins Grand Platinum Edition0',\n 'Beauty and the Beast0',\n 'Wild Wild Romance0',\n 'Big Money Frenzy0',\n 'Scroll of Adventure0',\n 'House of Doom 2: The Crypt1',\n 'Jewel Race0',\n 'Giant Wild Goose Pagoda0',\n 'Pharaos Riches GDN0',\n 'Love Magic1',\n 'Safari Gold Megaways0',\n 'Books & Bounties0',\n 'Joker King1',\n 'Festival 10K Ways0',\n 'KISS Reels of Rock0',\n 'Lucky Dragons0',\n 'Maze Escape0',\n 'Colt Lightning0',\n 'Road 2 Riches0',\n 'Lucky New Year1',\n 'Towering Fortunes0',\n 'Congo Cash0',\n 'Book Of Clovers Reloaded0',\n 'Sticky Bandits3',\n 'Lucky Dama Muerta0',\n 'Wolfkin0',\n 'Derby Wheel0',\n 'Diamond Magic Deluxe0',\n 'Hit It Big0',\n 'Wolf Fang7',\n 'Wolf Fang: Sakura Fortune0',\n 'Joker Pro0',\n 'Tales of Asgard - Lokis Fortune0',\n 'Frutz0',\n 'Eagle Riches0',\n 'Dance Party0',\n 'Dragon King4',\n 'Sunstrike Respin0',\n 'Piggy Luck0',\n 'Mystery Reels Deluxe0',\n 'Wild West Gold Megaways0',\n 'Dragon Maiden0',\n 'Book of Xmas0',\n 'Blockchain Megaways0',\n 'Dragons Fire MegaWays0',\n 'Canine Carnage0',\n 'Casino Win Spin0',\n 'Tiki Bonanza0',\n 'Crystal Ball GDN0',\n 'Amazon Island Megaways0',\n 'Royal Masquerade0',\n 'Butterfly Staxx 20',\n 'Outlaw2',\n 'Royal Seven XXL Easter Egg0',\n 'Wolf Fang: Volcano0',\n 'Champions of Mithrune0',\n 'Wolf Call0',\n '2022 Hit Slot0',\n 'Rich Wilde and the Shield of Athena0',\n 'Micropirates & the Kraken of the Caribbean0',\n 'Photo Safari0',\n 'Grand Galore0',\n 'MMA Champions0',\n 'Fruit Spin0',\n 'Mayan Book Multi Choice0',\n 'Dark Wolf0',\n \"Dracula's Castle0\",\n 'Big Bad Bison0',\n 'Fruit Shop Megaways0',\n 'Hockey League Wild Match0',\n 'Country Farming0',\n 'Imperial Riches0',\n 'Northern Sky0',\n 'Wild Frames0',\n 'The Wild Class0',\n 'Buffalo Mania MegaWays0',\n '1 Reel Egypt0',\n 'Sugar Rush0',\n 'Night Club 810',\n 'Platinum Lightning Deluxe0',\n 'Shah Mat0',\n 'Commander of Tridents0',\n 'Wild Fusion0',\n 'Book Of Champions1',\n 'Wild Rapa Nui0',\n 'Cube Mania1',\n 'Rainbow Gold0',\n 'Monkeyâ\\x80\\x99s Gold: xPays0',\n 'Cash Truck 20',\n 'Sails of Fortune0',\n 'Irish Gold0',\n 'Ninja Ways0',\n 'Sword of Khans0',\n 'Eternal Phoenix Megaways0',\n 'Platinum Lightning2',\n 'Wild Falls0',\n 'Mayan Fire0',\n '6 Tokens of Gold0',\n 'Dio: Killing the Dragon0',\n 'Emerald Diamond0',\n 'Goddess Of Lotus- 10 Lines0',\n 'Sugar Glider1',\n 'Times Of Egypt: Egyptian Darkness0',\n 'Hot 7771',\n 'Cowboy Coins0',\n 'Aztec Gems Deluxe0',\n 'Top Dawg$0',\n 'Sticky Bees0',\n 'Fortune Llama0',\n 'Diamond Mine Extra Gold0',\n 'Fruits Collection â\\x80\\x93 20 Lines0',\n 'Route 7770',\n 'Starburst0',\n 'Aurum Codex0',\n \"Puss'n Boots0\",\n 'Trollpot 50000',\n 'Kodiak Kingdom0',\n 'Origins Of Lilith0',\n 'Jin Chanâ\\x80\\x99s Pond of Riches0',\n 'NFT Megaways0',\n 'Joker Ra0',\n 'Divine Fire0',\n 'Dragon Hot Hold & Spin0',\n '1 Reel Joker0',\n 'Tale of Kyubiko0',\n 'Volatile Vikings1',\n 'Crown of Fire0',\n 'Coin Bash0',\n 'Juicy Fruits0',\n 'Reel of Riches0',\n 'Wild Catch0',\n \"Surfin' Reels0\",\n 'Big Bass Bonanza Megaways0',\n 'Hellcatraz 2 Dream Drop0',\n 'Snegurochka2',\n 'Raging Bull0',\n 'Fortunes of Ali Baba0',\n 'Mammoth Rampage0',\n 'Bronco Spirit0',\n 'Book Of Cats1',\n 'Star Clusters0',\n 'Book of Champions Reloaded1',\n 'Koschei The Deathless0',\n 'The Tiger Warrior0',\n 'The Wisecracker Lightning0',\n 'Fortune Fest0',\n 'Lucky Easter0',\n 'East Sea Dragon King0',\n 'Mad Cars0',\n 'Divine Diamonds0',\n 'Stickers0',\n 'Sumo Spins0',\n 'Alice In Adventureland0',\n 'Royal League Zuma Riches0',\n 'Ninja Frog0',\n 'Wolf Fang: The Polar Lights0',\n 'Wild Bazaar0',\n 'Princess of Sky0',\n 'Platooners0',\n 'Luxury Club0',\n 'Book of Crazy Chicken GDN0',\n 'Vegas Magic0',\n 'Wild Cauldron0',\n \"Patrick's Collection 40 Lines0\",\n 'Land of Zenith0',\n 'Pink Elephants 21',\n 'Harlequin Carnival0',\n 'Epic Journey0',\n 'Extra Chilli0',\n \"Stick 'Em0\",\n 'Pharaos Riches RHFP0',\n 'Dwarfs Fortune Easter0',\n \"Tiger's Glory0\",\n 'Zombie Carnival0',\n 'Gem Splitter0',\n 'Timelines0',\n 'Monsters1',\n 'Fruits of the Amazon0',\n 'The Stash0',\n 'Mahjong 880',\n 'Lucky Scarabs0',\n 'Six Jewels0',\n 'Wacky Monkey0',\n 'Hawaii Cocktails0',\n 'Sweet Alchemy 20',\n 'Book of Tut0',\n 'Gorilla Mayhem0',\n 'Bloopers0',\n 'Fireworks Frenzy0',\n 'Money Farm 20',\n 'Diamond Royale0',\n 'Dark Reels0',\n 'Golden Calaveras0',\n 'Money Train0',\n 'Sails of Gold0',\n 'Dragon King: Legend of the Seas1',\n 'Twerk0',\n 'Ho Ho Tower0',\n 'Bushido Ways xNudge0',\n 'Free Reelin Joker 10000',\n 'Misery Mining0',\n '2 Kings of Africa0',\n 'Great Book of Magic1',\n 'The Dog House3',\n \"Buster's Bones0\",\n 'Book of Museum0',\n 'BARs & 7s0',\n 'Reel Joke1',\n 'Dork Unit1',\n '1 Reel - Caribbean Treasure0',\n 'Chance Machine 400',\n \"Fruits - Chase'N'Win0\",\n 'Sweet Powernudge0',\n 'Penny Fruits Xtreme Christmas Edition1',\n 'Happy Holidays0',\n '4Squad0',\n 'Das xBoot0',\n 'Lucky Fruits & Diamonds0',\n 'Merlin and the Ice Queen Morgana0',\n 'Bull in a Rodeo0',\n 'Neon Links1',\n 'Gold Blitz0',\n 'Wild Santa1',\n 'DragonFall0',\n 'Big Cat Rescue Megaways0',\n 'Finn and the Swirly Spin0',\n 'Hockey League1',\n 'Diamond Vapor0',\n 'Master of Lightning0',\n 'Majestic King - Christmas Edition0',\n 'Wild Hop & Drop0',\n 'Golden Catch0',\n 'Gold Trophy 20',\n 'Divine Lotus0',\n 'Hugo Carts0',\n 'Dead or Alive1',\n 'Opal Fruits0',\n 'Master Of Gold0',\n 'Flame Busters0',\n 'Reel Steal0',\n 'Out Of The Ice0',\n 'Irish Lucky Dice0',\n 'Fat Rabbit0',\n '1 Reel Majestic King1',\n 'Royal Seven5',\n 'Isis0',\n 'Beellionaires Dream Drop0',\n 'Catch & Snatch0',\n 'Royal Seven XXL1',\n 'Prime Zone0',\n 'Sun of Fortune0',\n 'Four Lucky Clover0',\n 'Hooligan Hustle0',\n 'Agent of Hearts1',\n 'Boom! Boom! Gold!0',\n 'Mystic Orbs0',\n '11 Coins of Fire0',\n 'Apache Way0',\n 'Royal Potato0',\n 'The Golden Sail0',\n 'Mega Moolah Lucky Bells0',\n 'Mayhem0',\n 'Slot Jam0',\n 'Reel Hero0',\n '100 Juicy Fruits0',\n 'La Dolce Vita GDN0',\n \"Dead Man's Trail0\",\n 'Golden Hook0',\n 'The Expandable0',\n 'Leprechaun Song0',\n 'Sevens3',\n 'Lucky Drink0',\n 'Gems Bonanza0',\n 'Adventure Palace0',\n 'Adventures of Captain Blackjack0',\n 'Mermaids Millions0',\n 'Raven Bjorn0',\n 'Zulu Gold0',\n '1 Reel Baba Yaga0',\n 'King & Queen0',\n 'Iron Girl0',\n 'Shining Hot 1000',\n 'Gems of Serengeti0',\n 'Chili Quest0',\n 'Cloverland Riches0',\n 'Sweet Rush Megaways0',\n 'Regal Beasts0',\n 'Golden Touch0',\n 'Reactor0',\n 'Piggy Riches Megaways0',\n 'Wild Chapo 20',\n 'Beef Lightning0',\n 'Bounty Raid0',\n \"Athena's Glory: The Golden Era0\",\n 'Rise of Gods: Reckoning0',\n 'Imperial Opera0',\n 'Sizzling Spins0',\n 'Maya Sun0',\n 'Vegas Reels II0',\n 'Cleocatra0',\n 'What the Fox Megaways0',\n 'Elemental Gems Megaways0',\n 'Tomb of Dead: Power 4 slots0',\n 'Blue Beard1',\n 'Letâ\\x80\\x99s Get Ready To Rumble0',\n '2023 Hit slot0',\n 'Hugo Legacy0',\n 'Golden Glyph 20',\n 'King Colossus0',\n 'Fortune Reels0',\n 'Wild Cats Multiline0',\n 'Taco Fury XXXtreme0',\n 'Wild Falls 20',\n 'Jasmine Dreams0',\n 'Fortune Reels2',\n 'Aztec Spell - Forgotten Empire0',\n 'Cursed Seas0',\n 'John Hunter and the Quest for Bermuda Riches0',\n 'Hot Wild Pepper0',\n 'Yo-Ho Gold!0',\n 'Million Zeus0',\n 'Wolf Fang: Treasure Island0',\n 'Fruit Rainbow0',\n 'Nights of Egypt0',\n 'Christmas Carol Megaways0',\n 'Thunder of Olympus0',\n 'Rich Wilde and the Tome of Madness0',\n 'Midas Gold2',\n 'Fire Hot 400',\n '777 Rainbow Respins0',\n 'Genie Jackpots Wishmaker0',\n 'Hawaiian Bliss0',\n 'Jack on Hold0',\n 'Mayan Eagle0',\n 'Golden Legend0',\n 'The Equalizer0',\n 'Rabbit Royale0',\n 'Crystal Strike0',\n 'Legacy of Oz0',\n 'Gold Megaways1',\n 'Hypernova Radial Reels0',\n 'Empire Shields0',\n 'Blood Suckers II0',\n 'Asgardians Dice1',\n 'Jade Shuriken0',\n 'Book of Stake0',\n 'Mummy Power0',\n 'Troll Hunters2',\n 'Treasure Pirates0',\n 'Wild Dolphin0',\n 'Fury of Odin Megaways0',\n 'Joker Strike0',\n 'Crystal Burst XXL0',\n 'Sticky Diamonds Easter Egg0',\n 'Story Of Vikings 10 Lines0',\n 'Loco the Monkey0',\n \"Poseidon's Rising - 15 Lines0\",\n 'Pacific Gold0',\n 'Master of Xmas0',\n 'ANAKI SkyWalkers0',\n 'Lucky Fortune0',\n \"Gatot Kaca's Fury0\",\n 'Aztec Magic1',\n 'Wild Jack 810',\n 'Pirots1',\n 'Lucky Jack: Book Of Rebirth: Egyptian Darkness0',\n 'Genie Jackpots Megaways0',\n '1 Reel Monkey0',\n 'Fire Joker Freeze0',\n 'Golden Strawberries0',\n 'Water Tiger0',\n 'Buffalo Rampage0',\n 'Super Flip0',\n 'Chinese New Year0',\n 'Scruffy Duck0',\n 'Ramses Book1',\n 'Scroll of Jiuweihu0',\n 'Snowing Gifts0',\n 'Miami Multiplier0',\n '4 Corners Of Rome0',\n '777 Gems ReSpin0',\n \"Egyptian Rebirth II: Mummy's Return0\",\n 'Monkey Madness0',\n \"Patrick's Collection 10 Lines0\",\n 'The Wish Master2',\n 'Gangsterz0',\n 'Wild Expedition0',\n 'Moon Princess 1001',\n 'Aztec Fire0',\n 'Divine Fortune2',\n 'Fruits Collection â\\x80\\x93 40 Lines1',\n 'Rabbits Rabbits Rabbits0',\n 'Golden Gods1',\n 'Xmas Collection - 10 Lines0',\n 'Book Of Demi Gods II - Christmas Edition0',\n 'Books and Pearls0',\n 'Lucky Streak Mk20',\n 'Big Bad Bison1',\n 'Rosh Immortality Cube Megaways0',\n 'Illuminous0',\n 'Lost Treasure0',\n 'Angry Dogs0',\n 'Troll Hunters 21',\n 'Wild Heist at Peacock Manor0',\n 'Gemix 21',\n 'Wolf Cub0',\n \"Vegas: Chase'N'Win0\",\n 'The Ghost Walks0',\n 'Hot Fruit Delights0',\n 'Starlite Fruits Mega Moolah1',\n 'Million 777 Wheel0',\n 'Cluster Tumble0',\n 'Big Atlantis Frenzy1',\n 'EggOMatic0',\n 'Undead Fortune0',\n 'Cirque De La Fortune0',\n 'Book Of Irish Treasures0',\n 'Return of the Dead0',\n \"Times Of Egypt â\\x80\\x93 Pharaoh's Reign1\",\n 'Power of Gods: Hades Football Edition0',\n 'Fish Party0',\n 'Sticky Bombs0',\n 'Chilli Picante Megaways0',\n 'Remember Remember0',\n 'Legacy of Doom0',\n 'True Grit Redemption0',\n 'Treasure Tracks0',\n 'Xmas Collection - 30 Lines0',\n 'God Hand Feature Buy0',\n 'Wixx0',\n 'Football Mania Deluxe0',\n 'Treasures Of Kilauea0',\n 'Book of Oz1',\n 'Crypts of Fortune0',\n 'Carnival Queen0',\n 'Riches of RA0',\n 'Mammoth Gold Megaways0',\n 'Caveman Bob0',\n 'Madame Mystique Megaways Enhanced RTP2',\n 'Sword of Shoguns0',\n 'London Tube0',\n 'Gold Rush Riches0',\n 'Let It Burn0',\n 'Leprechaun Heist0',\n 'Viking Queen0',\n 'Mystery Museum0',\n \"Fishin' BIGGER Pots Of Gold0\",\n 'Book Of Cats Megaways0',\n 'Rainbow Jackpots2',\n 'Coffee Wild0',\n 'Voodoo1',\n 'Speed Cash0',\n 'Fruit Mania GDN0',\n 'Atlantis: The Forgotten Kingdom0',\n 'Book of Kemet0',\n 'Stormforged0',\n 'Fury of Odin Megaways1',\n '9 Tigers0',\n 'Cash Truck2',\n 'Flaming Chillies0',\n 'Jacks or Better0',\n 'Glamorous Times1',\n \"Gerard's Gambit0\",\n 'Rock Vegas0',\n 'Jiggly Cash0',\n 'Book Of Xmas - Jingle Bells0',\n 'Story Of Alice0',\n 'The Paying Piano Club0',\n 'Book Of Diamonds2',\n 'La Fiesta0',\n 'Cheeky Emperor0',\n 'Hand of Anubis0',\n 'Legion Gold0',\n 'God of Wealth0',\n 'Street Racer0',\n '777 Strike0',\n 'Ashoka1',\n '24K Dragon0',\n \"Midsummer's Fortune0\",\n 'Beat the Beast: Mighty Sphinx0',\n 'Traveling Treasures Brazil0',\n 'Mega Dragon0',\n 'Mystery Joker 60000',\n 'Aztec Palace0',\n 'Fancy Fruits Respins of Amun Re0',\n 'Alaskan Fishing0',\n '88 Riches1',\n 'Books & Bulls RHFP0',\n 'Wild Dragon0',\n 'Gemix 20',\n 'Reel Rush1',\n 'Thor: Hammer Time0',\n 'Siren Symphony1',\n 'Ladies Nite0',\n \"Gonzo's Quest1\",\n \"Gordon Ramsay Hell's Kitchen0\",\n 'Crusader0',\n 'Double Stacks0',\n 'Fenix Play 27 Deluxe0',\n 'Reel Fruitz Frenzy0',\n 'Chaos Crew0',\n 'Agent of Hearts0',\n 'Kingdom of the Dead0',\n ...]"
     },
     "execution_count": 59,
     "metadata": {},
     "output_type": "execute_result"
    }
   ],
   "source": [
    "all_imgs"
   ],
   "metadata": {
    "collapsed": false,
    "ExecuteTime": {
     "end_time": "2023-09-11T03:14:22.391777400Z",
     "start_time": "2023-09-11T03:14:22.318599993Z"
    }
   },
   "id": "65da7cccfed4d17f"
  },
  {
   "cell_type": "code",
   "execution_count": 75,
   "outputs": [
    {
     "name": "stdout",
     "output_type": "stream",
     "text": [
      "Hot Slot: 777 Crown1\n",
      "Pink Elephants 20\n",
      "Wild Turkey0\n",
      "Dynamite Fruits0\n",
      "Dork Unit0\n",
      "Irish Gold0\n",
      "Divine Diamonds0\n",
      "Vampires vs Wolves0\n",
      "Mighty Kong0\n",
      "Midas Coins0\n",
      "Long Pao0\n",
      "Boat Bonanza0\n",
      "Johnny Cash0\n",
      "Vampires vs Wolves1\n",
      "Crystal Sun0\n",
      "Midas Coins1\n",
      "The Wiz0\n",
      "Knight Hot Spotz0\n",
      "Books & Temples0\n",
      "1 Reel Fruits0\n"
     ]
    }
   ],
   "source": [
    "saves___ = [i.split(\"/\")[-1].split(\".\")[0] for i in glob.glob(\"/home/jjjj/Pictures/FINALE_ALL/*/*\")]\n",
    "\n",
    "for i in all_imgs:\n",
    "    if i not in x_list:\n",
    "        if i not in saves___:\n",
    "            print(i)\n"
   ],
   "metadata": {
    "collapsed": false,
    "ExecuteTime": {
     "end_time": "2023-09-11T03:28:45.102159456Z",
     "start_time": "2023-09-11T03:28:44.928696489Z"
    }
   },
   "id": "bc7b0c4c60afe652"
  },
  {
   "cell_type": "code",
   "execution_count": null,
   "outputs": [],
   "source": [],
   "metadata": {
    "collapsed": false
   },
   "id": "c630fcc6b24f176a"
  },
  {
   "cell_type": "code",
   "execution_count": 71,
   "outputs": [
    {
     "data": {
      "text/plain": "False"
     },
     "execution_count": 71,
     "metadata": {},
     "output_type": "execute_result"
    }
   ],
   "source": [
    "\"Burning Reels0\" in saves___"
   ],
   "metadata": {
    "collapsed": false,
    "ExecuteTime": {
     "end_time": "2023-09-11T03:25:19.164216249Z",
     "start_time": "2023-09-11T03:25:19.038003927Z"
    }
   },
   "id": "4c213f1dc503a2f5"
  },
  {
   "cell_type": "code",
   "execution_count": 64,
   "outputs": [
    {
     "data": {
      "text/plain": "['Magic Powers Megaways0',\n 'In The Rabbit Hole0',\n 'Jewel Scarabs0',\n \"Pirates' Plenty Megaways0\",\n 'Lucky Halloween0',\n 'Genie Nights0',\n '5 Families0',\n 'Aztec Spins0',\n 'Mega Rise0',\n 'Jackpot Quest0',\n 'The Wish Master Megaways0',\n \"Dragon's Fire0\",\n 'Lucky Fridays1',\n 'Treasure Mine Power Reels1',\n 'Ancient Script0',\n 'Midas Gold1',\n 'Magic Tricks0',\n 'Grand Wheel0',\n 'Happy Apples0',\n 'Zillard King0',\n 'Knights Of Avalon0',\n 'Here Kitty Kitty0',\n 'Reel Heist0',\n 'Cash Ultimate0',\n 'Jingle Ways Megaways0',\n 'Esqueleto Mariachi0',\n 'Hot Hot Chilli Pot0',\n 'Zeus Lightning Power Reels0',\n 'Reptizillions Power Reels1',\n '777 Strike1',\n 'Three Musketeers0',\n 'Leprechauns Magic Power Reels0',\n 'Fortune Fest1',\n 'Winter Wonders0',\n 'Lucky Oktoberfest0',\n 'Stolen Treasures1',\n 'Golden Cryptex0',\n 'Mystery Reels0',\n 'Emerald Diamond1',\n 'Blue Diamond0',\n 'Stolen Treasures2',\n \"Leprechaun's Magic1\",\n 'Crystal Mirror0',\n 'Three Kingdoms0',\n '10001 Nights0',\n 'Ancient Disco0',\n 'Wolfkin0',\n 'Eagle Riches0',\n 'Mystery Reels Deluxe0',\n 'Amazon Island Megaways0',\n 'Shah Mat0',\n 'Ninja Ways0',\n 'Emerald Diamond0',\n 'Aurum Codex0',\n \"Puss'n Boots0\",\n 'The Wisecracker Lightning0',\n 'Fortune Fest0',\n 'Lucky Easter0',\n 'Sumo Spins0',\n 'Epic Journey0',\n 'Diamond Royale0',\n 'Neon Links1',\n 'Big Cat Rescue Megaways0',\n 'Apache Way0',\n 'Mayhem0',\n 'Regal Beasts0',\n 'Reactor0',\n 'Piggy Riches Megaways0',\n 'Bounty Raid0',\n 'Wild Cats Multiline0',\n 'Midas Gold2',\n 'The Equalizer0',\n 'Wild Expedition0',\n 'Cirque De La Fortune0',\n 'London Tube0',\n 'Rainbow Jackpots2',\n '777 Strike0',\n 'Mega Dragon0',\n 'Wild Circus0',\n 'Dream Destiny0',\n 'Dynamite Riches1',\n 'Lucky Valentine0',\n \"Gonzita's Quest0\",\n \"Pirates' Plenty Battle For Gold0\",\n 'Wild Elements0',\n 'Sylvan Spirits0',\n 'Red Diamond0',\n 'Risque Megaways0',\n 'Fruit Snap0',\n 'Reel Keeper1',\n 'Hammer Gods0',\n 'Multiplier Riches0',\n 'Bulls Run Wild0',\n 'Robin Hoods Wild Forest0',\n 'Gems Gone Wild Power Reels0',\n 'Blobsters Clusterbuster0',\n \"Yucatan's Mystery0\",\n 'Blazing Clusters0',\n 'Cash Volt0',\n 'Astronaut0',\n 'Egypt Megaways0',\n 'Dracula Awakening0',\n 'Zillard King1',\n 'Crazy Genie0',\n \"Devil's Number0\",\n 'Cyber Attack0',\n 'Wild Fight0',\n 'Doggy Riches Megaways0',\n 'Bombuster0',\n 'Tiki Fruits Totem Frenzy0',\n 'Stage 8880',\n 'Regal Streak0',\n 'Chinese Treasures0',\n 'Lucky Wizard0',\n 'Flodder0',\n \"Zaida's Fortune0\",\n 'Fortune House Power Reels0',\n 'Wanted Wildz0',\n 'Five Star Power Reels0',\n 'Fortune Charm0',\n 'Wild Hot Chilli Reels0',\n 'Five Star1',\n \"Lion's Hoard0\",\n \"Wrigley's World0\",\n 'Flaming Fox0',\n 'Arcade Bomb0',\n 'Cotton Gang Affair0',\n 'Santa Spins1',\n 'Vault Cracker0',\n 'Mega Jade0',\n 'Mystery Reels Mega Ways0',\n \"Thor's Vengeance0\",\n 'Primate King0',\n 'Jester Spins0',\n 'Laser Fruit0',\n 'Reptizillions Power Reels0',\n 'Agent Royale0',\n 'Win Escalator0',\n 'Mystery Reels Power Reels0',\n 'Vicky Ventura0',\n 'Spin Town0',\n 'Dragons Clusterbuster0',\n 'Golden Tsar0',\n 'The Greatest Train Robbery0',\n 'Well Of Wishes0',\n 'Totem Lightning Power Reels0',\n 'Gems Gone Wild1',\n 'Piggy Pirates0',\n 'Cai Shen 1680',\n 'Ancients Blessing0',\n 'Majestic Mysteries Power Reels0',\n 'Wild Nords0',\n 'Persian Fortune0',\n 'Tiki Fruits1',\n 'Totem Lightning0',\n 'Ten Elements0',\n \"Ali Baba's Luck Megaways0\",\n '24 Hour Grand Prix0',\n 'Shadow Society0',\n \"Dragon's Luck1\",\n 'Joe Exotic1',\n 'Lucky Little Devil0',\n 'Ocean Fortune0',\n \"Dragon's Luck Power Reels0\",\n 'Dice Dice Dice0',\n 'Rainbow Jackpots Power Lines0',\n 'Magic Gate0',\n 'The Wish Master Megaways1',\n \"Gonzo's Quest Megaways0\",\n 'Beriched0',\n 'Epic Treasure0',\n \"Thor's Lightning0\",\n 'Gems Gone Wild2',\n 'Bass Boss0',\n 'Great Gold0',\n 'Lucky Fridays0',\n 'Reel King Mega0',\n 'Last Chance Saloon0',\n 'Gemtastic0',\n 'Jingle Bells Power Reels0',\n \"Ra's Legend0\",\n 'Wild Tundra0',\n 'Golden Lotus0',\n 'Monsters Unchained0',\n 'The Wild Hatter0',\n 'Stolen Treasures0',\n 'Good Luck Clusterbuster0',\n 'Dream Destiny1',\n 'Casino Spin1',\n '1942: Sky Warrior0',\n 'Diamond Blitz0',\n \"Dragon's Luck Deluxe0\",\n 'Jingle Bells0',\n 'Hammer Gods1',\n 'Mystic Staxx0',\n 'Golden Cryptex1',\n 'Joe Exotic0',\n 'War Of Gods0',\n 'Ali Baba Power Reels0',\n \"Leprechaun's Magic Megaways0\",\n 'Gems Inferno Megaways0',\n 'Treasure Mine Power Reels0',\n 'Rocket Men0',\n 'Neon Links0',\n 'Golden Temple0',\n 'Rio Stars0',\n 'Gods Of Troy0',\n 'Phoenix Fire Power Reels0',\n 'Imperial Palace0',\n 'Wild Wild Chest0',\n 'Fruit Blox0',\n 'Sheep Gone Wild0',\n 'Mystic Wheel0',\n 'Phoenix6',\n \"Pirates' Plenty1\",\n 'Mayan Gods0',\n 'Fa Fa Babies1',\n 'Peggy Sweets0',\n 'Reel Keeper Power Reels0',\n 'Narcos Mexico0',\n 'Santa Spins0',\n 'Gems Gone Wild3',\n 'Casino Spin0',\n 'Fortune House0',\n 'Rainbow Jackpots1',\n \"Cinderella's Ball0\",\n 'Mega Pyramid0',\n 'Gold Star0',\n 'Legendary Excalibur0',\n \"Ali Baba's Luck1\",\n 'Golden Offer0',\n 'Fa Fa Babies0',\n 'Pinatas & Ponies0',\n 'Wild Spartans0',\n 'Elven Magic0',\n 'Treasure Mine0',\n 'The Trillionaire0',\n \"Forever 7's0\",\n 'Holy Diver0',\n 'Big Bad Bison0',\n 'Big Bad Bison1',\n 'Royal Mint0',\n 'aa7c1e7069a845ee8f35aba1feabb036',\n 'dd1caf3d58554b458c8b644bdb044796',\n 'f7dae6af698f4e40a28f7eb0cb120e9d',\n '820c1f2f3e174bb9b2057e250eca851b',\n 'e07c18eb0f10431fbe9181944e18ff8a',\n '2ad3779504b1d383911a13baf5ca488f46eed5d0',\n 'ba92e1e5f2ab2d9dfe97fbce8e55c80cb3080aae',\n 'a8527018f31342e08fccc189551fc4ec',\n '58af673d72e44107a663523d78f04989',\n 'f7782554f02240b49f5e1af8152c2671',\n '2b15dae86e0dd73e5d90ab7e8c8fedd60cb17d9c',\n 'Sleepy Grandpa0',\n 'Lord Venom0',\n '2f59b8e63db64a5c90a688c8ac5f73c3',\n '5ce5de53ff824f059a88814aa0b746fb',\n 'f2328676ef49470abe5e80988b7fdf1c',\n '8e5fb7d2c7294e179edfa9b735c4b02f',\n 'Coba0',\n 'Miss Wildfire0',\n 'Nitropolis 40',\n 'Cygnus 30',\n 'Dreamzone0',\n 'Vegas Diamonds0',\n 'Poltava0',\n 'Sumo Sumo0',\n 'Nitropolis3',\n 'Katmandu X0',\n 'Micro Knights0',\n 'Hongkong Tower0',\n 'Hit It Big0',\n 'Grand Galore0',\n 'Route 7770',\n 'Platooners0',\n 'Bloopers0',\n 'Ho Ho Tower0',\n 'Mystic Orbs0',\n 'Zulu Gold0',\n 'Rabbit Royale0',\n 'Pacific Gold0',\n 'Pirots1',\n 'Ashoka1',\n 'Crusader0',\n 'Katmandu Gold0',\n 'Phoenix Graveyard0',\n 'Visitors0',\n 'Propaganda0',\n 'Dream Diver0',\n 'Cygnus 20',\n 'Blood Lust0',\n 'Kaiju0',\n 'Avalon Gold0',\n 'Win Win0',\n 'Pirots0',\n 'Ice Wolf0',\n 'Knockout Diamonds0',\n 'Illogicool0',\n 'Birthday!0',\n 'Ivanhoe0',\n 'Ashoka0',\n 'Io0',\n 'Diablo Reels0',\n 'Joker Gems0',\n 'Ecuador Gold0',\n 'Tropicool 20',\n 'Cluster Slide0',\n 'Taco Brothers1',\n 'Cygnus2',\n 'Nitropolis 20',\n 'Hit It Hard0',\n 'Voodoo Gold0',\n 'Nitropolis 30',\n \"Lake's Five0\",\n 'Bompers0',\n 'Tahiti Gold0',\n 'Hidden0',\n 'Toro Shogun0',\n 'Buffalo Toro0',\n 'Toro 7s0',\n 'Wild Toro0',\n 'Black River Gold0',\n 'Respin Circus0',\n 'Tropicool1',\n 'Electric Sam0',\n 'Dropz0',\n 'Coba Reborn0',\n 'Taco Brother Saving Christmas0',\n 'Taco Brothers Derailed0',\n 'Moooving Wilds0',\n 'Sunstrike Respin0',\n 'Siren Symphony1',\n 'Victoria Wild Deluxe0',\n 'Sunstrike Respin1',\n 'Aloha: Fruit Bonanza0',\n 'Victoria Wild1',\n 'Guns, Love & Therapy0',\n 'Circus Fruits0',\n 'Circus Fruits1',\n 'Ultra Hot Reels1',\n 'Viking Runes0',\n 'Siren Symphony0',\n 'Christmas Tree 20',\n 'Wild Pumpkins0',\n 'Ultra Hot Reels0',\n 'Crazy Mix0',\n 'Sunstrike2',\n 'Victoria Wild West0',\n 'Alice In Adventureland1',\n 'Alice In Adventureland0',\n 'Wins Of Winter0',\n 'Volatile Egypt Dream Drop0',\n 'Dwarfs Gone Wild0',\n 'Beastwood0',\n \"Rapunzel's Tower0\",\n 'High Street Heist0',\n 'King Colossus0',\n 'Hidden Valley 1200',\n 'King Colossus1',\n 'Big Bot Crew0',\n \"Pirate's Charm0\",\n 'Genies Touch0',\n \"Reno 7's0\",\n 'Spinions2',\n 'Wild Chase: Tokyo Go0',\n 'Sticky Bandits: Wild Return0',\n 'Brooklyn Bootleggers0',\n 'Monster Domination0',\n 'High Roller Bonanza0',\n 'Lucky Stones0',\n 'Jewel Race0',\n 'Wild Fusion0',\n 'Wild Dragon0',\n 'Mystery Box0',\n 'Mystery Box1',\n 'Wild Fusion1',\n 'Macau 80',\n 'Double Luck0',\n 'Jewel Race Sakura0',\n 'Golden Wheel0',\n 'Jewel Race Halloween0',\n 'Golden Wheel1',\n 'Mystery Star0',\n 'Ninja Hero Goemon0',\n 'Imperial Colours0',\n 'Reel Bonanza0',\n 'f4521a6c6189481dae4a03c95fe28b38',\n 'be2f810855fdb62e0486b678508da50c2b82abea',\n '1913bbc36fac64bdcc5fe53453f679dc6ddc0ed1',\n 'e636ab6d7dfa15712d9cb67cf740ed3c30077824',\n 'c477974422576539e0a5c2e7f93ae650d40f7309',\n 'a4b45751dae97943be5907048b5c88b00b39b92f',\n '99fab09f1208b8a8027d697b5c62dbc150ff9b14',\n '39d7b44acff0b258600d29ce65c3005d38ce4856',\n '3bd9466c3f946b09306ebeda409715d364582cda',\n '0852e197ea095b63dd69f27658ae23e203769d4f',\n '3073a6d36ca222afcec4ce649d3acee3edc416cd',\n '8be8751f2b44b62fd4985dec9fcb8cced9a75b3f',\n 'd44f233a5e4cf99b47ff0cf187f3c527f6cdba03',\n '44e6c8ddc9903976b304f2c4fdef845ddfb74e83',\n 'cdee9014e4d2f1811fca73b151d093dddab267bd',\n '4e1be74f6fe5d33ba3f14bfed42a6ff33e2fbc35',\n '12d129f7cb2be5967fb273597a45abffb72ee9d5',\n 'f904fb6d0cad2b39f91da40b720c2433c6cff8ba',\n 'King Of Ghosts0',\n 'fe38b9de0f44ac5892261d426ba39cd1aa410807',\n 'f17bc09acb1f1e2e70ddb768b11dea153a27adff',\n '69f8c541fdf2332f00ae4e441b5a27538d3edd04',\n 'e59fc50ab8543fc449cc0d4531104d528f8399c9',\n '9c63d5af7b76698c6571604e84d28fa0b87f51ec',\n '8dffc02dcdfdd1ba15c25699ce1b7565c0fb8952',\n '6c266e630d4ead8ee43a5f06998df7fd32bd007b_2',\n 'dcdeb90134c13e44fd52e71be20742dcd8762cc7',\n 'ca96b0f048baca0b75f7a5b4a32d99e59f807610',\n '50b8a0b236f174c83c1de52ba920db8ce7ffcfc4',\n 'Asgardians Dice1',\n '53ef854130fb7e8f159959d20bbd82a51441576f',\n 'a2cee5db64c681afbbff699646078b6f5507740f',\n '49ffcc157ee2416086820b1f76c7f1e0',\n '5c4e59008fafdb9111718ac3e03ab5e83fdb3d4a',\n 'af7b23b5087431217f2fdc508d250958898908d2',\n '53ef854130fb7e8f159959d20bbd82a51441576f_1',\n 'Cricket Heroes0',\n '6bb32337552201c85ff0b28671c484ffe85dea91',\n '5a79e026a6b33f3e50d75e679f86b0c4d26d63a5_1',\n 'fbc394c0198ae51986a640fb690e8ad5c8b1001b',\n 'c788481f33eb7a43e860a8ecacb433d5a2bad227',\n 'Lucky Streak Dice 30',\n '391c3ab8218651dc1ecae35c95d091f5e9990883',\n 'Asgardians Dice0',\n '2575297d5cf30d71b856ca0cb4691d1523e07052',\n '44b7b962292be0d7374ba2e95c3c404308395ad2',\n '3a401e0d9ea0f379a92439bb31e875cd1c2aad40',\n '74e5214a7ba80c52dc1d8ccbda40735d151c701d',\n '9ca107747757ee957974763f64f10dbca09b0395',\n '4ad9203d5c494c0a741c860bf4408789332ed119',\n '0a4d2d49e36879b06db629b32f6f81daa96a4612',\n '447eebaff41fdc9c36cf680720ea2ce321d33b67',\n 'b5a8ab186c1b7e358b365253a7d17c2e71e4826e',\n 'd88b26fc88c8938b5d17c89e2768354cf3c04cc4',\n '488f42af3ce137662c430e9ad18c3c67dea60ec5',\n '5e5e94d3b300206b6d182edce58180eed8e9e935',\n '764a25945aeb1448baecec7f1315b510fb9ea712',\n '894a8517374295967dd75e4751bbb77cc0c48d73',\n '5111b171119b9d8dddf0a7d20f013aab936fad6e_1',\n 'Almighty Sparta Dice0',\n '489772320e07684ee5e89b47a735f3f97520ac01',\n '54a389572a74b7f46ad042aebc730cd3bcc77c78',\n '05ab8fe4dfc954450d9ca1a04018b84518062090_1',\n '8d94eed2306a00706ac48c5f2e3de335bf2642bd',\n 'a9213353837e8b922cb33a9981553946b6441514',\n 'a766a316e8838ed29f0b9dcff9a9327404bb296b',\n 'Lucky Streak Dice 10',\n 'fa0495498a6561a2bfcf2cc6ab1c26df6c35f93a',\n \"Undine's Deep0\",\n '7ba0bff087f321e0023637597ee837a43d149149',\n '0957cfb56ac430e5ed3ab72f8ea900ffb97bd0a5',\n '9793e0b66c09959884c1a605b8dacf12d51c378e',\n 'e7e70a626d7f71d05b8e68030dd254ae6b2babd3',\n '2c689564684e42f6cae5db00b7b2b6da0c5a9319',\n 'a687b918e6d84b158c0652cce9738ada',\n '41199d76bffde4da79fa9166337f736a600dbe1a',\n '13e7d7edf3f8117ee915d08f2e3771a946735fba',\n 'Mongol Treasures: Archer Competition0',\n '12f0beecb0387c31249e309ac2e0bededc4e6f73',\n 'a5852ca0844358dfcdd6a3bb94c6f58b0179adf3',\n 'Satoshis Secret0',\n 'bdad4dcaca47b264f54b39789446a7e0551ed5b0',\n 'a886db153dfc9e3dca5931eb60d946b13ad4573c',\n '33485b7bc35fd88f052e6eedbb593287020d4dbd',\n 'ea4623761f296bb6a6fbc6f6b2e40d5465c6a1ff',\n 'b074a2e5f0f1a8ec225554d9692d01194ce86f6c',\n 'ef5aa848cb6234dd6ff6a4610bfb6b8c8ecdcf96',\n 'fc2047c01c564daa2fe52b8ef0db1495970d8971',\n '541b4452973ed7dc01cdb385da8d04b36b475b1e',\n 'Mongol Treasure0',\n 'e842578591860260630536b5c4e6716962e9d32e',\n '0470b388545ecf996830b3ba1d399ce2358ab6f4',\n '642a1f708beae26a11e31fdae2df2f0fa32973ec',\n 'Football: 20220',\n '7ec6b006b889c9287c32a0da7efc4d8eb0601d00',\n '#luxurylife0',\n '84117c03e84b33126b1ca8e1ccdf8411ac85ab94',\n '508fa018b662281e5daf1c5dadfcb2d849d5e93f',\n '6c266e630d4ead8ee43a5f06998df7fd32bd007b',\n '423b1f5041d649ef65a7c6ae0c1cc7c5b19a43ff',\n '7e4352eb49dad04b797ce6b1c6a2e99dcd378f74',\n '3fff077ef6165196648c91d076d0e811947ee143',\n 'Lucky Streak Dice 20',\n '4910247bd57c9ace63f059adcb9c0e620ee9cd19',\n '38651906921e4aec72793984a91127bfdc300885',\n 'ab3caf12a964ef856e2f933e689ee3a4616895a6',\n 'The Vampires 20',\n '0fca5e1c18598f46600f4fa3d3167ffcb132ae41',\n '9b60951767718c8deea4cb1f0713076e3c24cfab',\n 'Little Panda Dice0',\n '17677c81042fc0beb8dbf6079258388a6f27b39c',\n '397f96eb2f0b70a51a3524ab6e2a4344ee717a3c',\n '17d81b360492017b21a10b42544ee73ff3281707',\n '015f33aa30a1c420f4792e40064e9c90e9b9b33c',\n '340a5f79ad086fd922a985135a502819e187c220',\n 'ced71849cca41b199df6858b1c239d6dfda97eb7',\n '2b8b1ed06ba6482b499d7fbab5bb89e3070e1621',\n 'f37e6a729e883ee291ea7bd644cfc74eaccdc758',\n 'f9b7cfb47b07078115151980a4b996ff99b4924f',\n '1d59e64d81495da6be6e4c8b7e6dfc6d7a93f255',\n '7487f0fac9049c9ee0dd0635a8ce5f5bfe04cd15',\n 'Disc of Athena0',\n 'Fancy Fruits RHFP0',\n 'HelioPOPolis0',\n 'Tsai Shen 10K Ways Dream Drop0',\n 'TABOO0',\n 'God of Fire0',\n 'Dragons Luck MegaWays0',\n 'Dead or Alive 2 Feature Buy0',\n 'Riddle of the Sphinx0',\n 'Angels and Demons0',\n 'KD: Sushi Mania0',\n 'Rage of the Seas0',\n 'Book of 990',\n 'ARRR! 10K Ways0',\n 'The Legend of Shangri-La: Cluster Pays0',\n 'Day and Night0',\n 'Super Rich God: Hold and Win0',\n 'Stars of Orion0',\n 'Fancy Fruits GDN0',\n 'Africa X UP0',\n 'Rex the Hunt!0',\n \"Shogun's Secret CCS0\",\n 'Madame Mystique Megaways Enhanced RTP0',\n 'Fire and Roses Joker0',\n 'Aura of Jupiter1',\n 'Starburst XXXtreme0',\n 'Ways of The Samurai0',\n 'Demi Gods IV: The Golden Era0',\n 'Tower of Power0',\n 'Tricks and Treats0',\n 'Queen of the Sun0',\n 'DJ Wild0',\n 'Pyramid: Quest for Immortality0',\n 'Lost City of the Djinn0',\n 'Slushie Party Enhanced RTP0',\n 'Gates of Aztec0',\n 'Queen of The Crystal Rays0',\n 'Royal Seven XXL RHFP0',\n 'An Escape from Alcatraz0',\n 'Books & Bulls GDN0',\n 'Kingdom of Asgard0',\n 'Zombie aPOPalypse0',\n 'Fortuna De Los Muertos II0',\n 'Hyper Strike HyperSpins0',\n 'Wings of Ra0',\n 'Napoleon: Rise of an Empire0',\n 'Big Bass Bonanza - Keeping it Reel0',\n 'Stacks of Jacks0',\n 'Maaax Diamonds GDN0',\n 'Age of Akkadia0',\n 'TnT Tumble0',\n 'Links of Fire0',\n 'Buffalo on Fire!0',\n 'Book of Oz: Lock n Spin0',\n 'Charlie Chance XReelz0',\n 'Baron Bloodmore and the Crimson Castle0',\n \"Athena's Glory: Story of Arachne0\",\n 'Books and Pearls Respins of Amun-Re0',\n 'RockNLock0',\n 'Spinions X-Mas Party0',\n \"Tiger's Gold: Hold and Win1\",\n 'Break Da Bank Again MEGAWAYS0',\n 'Pharaos Riches GDN0',\n 'Festival 10K Ways0',\n 'KISS Reels of Rock0',\n 'Tales of Asgard - Lokis Fortune0',\n 'Dragons Fire MegaWays0',\n 'Crystal Ball GDN0',\n 'Royal Seven XXL Easter Egg0',\n 'Rich Wilde and the Shield of Athena0',\n 'Micropirates & the Kraken of the Caribbean0',\n 'Buffalo Mania MegaWays0',\n 'Commander of Tridents0',\n 'Sword of Khans0',\n '6 Tokens of Gold0',\n 'Dio: Killing the Dragon0',\n 'NFT Megaways0',\n 'Reel of Riches0',\n 'Book of Champions Reloaded1',\n 'Book of Crazy Chicken GDN0',\n 'Land of Zenith0',\n \"Stick 'Em0\",\n 'Pharaos Riches RHFP0',\n 'Fruits of the Amazon0',\n 'Book of Tut0',\n 'Dragon King: Legend of the Seas1',\n 'BARs & 7s0',\n '4Squad0',\n 'DragonFall0',\n 'Finn and the Swirly Spin0',\n 'Master of Lightning0',\n 'Dead or Alive1',\n 'Royal Seven XXL1',\n '11 Coins of Fire0',\n 'La Dolce Vita GDN0',\n 'Adventures of Captain Blackjack0',\n 'What the Fox Megaways0',\n 'Tomb of Dead: Power 4 slots0',\n '2023 Hit slot0',\n 'Taco Fury XXXtreme0',\n 'Yo-Ho Gold!0',\n 'Rich Wilde and the Tome of Madness0',\n 'Legacy of Oz0',\n 'Blood Suckers II0',\n 'Book of Stake0',\n 'Crystal Burst XXL0',\n 'Loco the Monkey0',\n 'ANAKI SkyWalkers0',\n 'Scroll of Jiuweihu0',\n '777 Gems ReSpin0',\n 'Books and Pearls0',\n 'Wild Heist at Peacock Manor0',\n \"Vegas: Chase'N'Win0\",\n 'EggOMatic0',\n 'Power of Gods: Hades Football Edition0',\n 'Book of Oz1',\n 'Crypts of Fortune0',\n 'Madame Mystique Megaways Enhanced RTP2',\n 'Sword of Shoguns0',\n \"Fishin' BIGGER Pots Of Gold0\",\n 'Fruit Mania GDN0',\n 'Hand of Anubis0',\n 'God of Wealth0',\n '24K Dragon0',\n 'Beat the Beast: Mighty Sphinx0',\n 'Fancy Fruits Respins of Amun Re0',\n 'Books & Bulls RHFP0',\n 'Kingdom of the Dead0',\n 'Game of Gladiators Uprising0',\n 'Cutie Cat CCS0',\n 'Book Of Demi Gods III: The Golden Era0',\n 'Story Of Medusa II: The Golden Era0',\n 'Fruit Mania RHFP0',\n \"Halloween: Chase'N'Win0\",\n 'Victorious MAX0',\n 'Wings of Riches0',\n 'King Of The Jungle GDN0',\n 'Story of Gaia0',\n 'Age of Conquest0',\n \"Beat the Beast: Cerberus' Inferno0\",\n 'Lord Fortune 2: Hold and Win0',\n 'Jack and the Beanstalk0',\n '9 Masks of Fire HyperSpins0',\n 'Ticket to Riches0',\n 'Aura of Jupiter CCS0',\n 'Queens of Glory Legacy0',\n 'Sweet Fiesta Enhanced RTP0',\n 'Bar-X Safecracker Megaways0',\n 'Crystal Ball RHFP1',\n 'Wonders of Christmas0',\n 'Power of Sun: Svarog1',\n 'Book Of Demi Gods IV: The Golden Era0',\n 'Relic Hunters and the Book of Faith0',\n 'Bolt X UP0',\n \"Beat the Beast: Griffin's Gold0\",\n 'Story of Egypt - 10 Lines0',\n 'Wild West Bounty Enhanced RTP0',\n 'Win a Beest0',\n \"Stack 'Em0\",\n 'Pick a Fruit - Fire Blaze0',\n 'Book of Sirens: The Golden Era0',\n 'Book of Skulls0',\n 'Red Hot BBQ0',\n 'Cake and Ice Cream0',\n 'Jack in a pot0',\n 'Lord Merlin and the Lady of the Lake0',\n 'Diamonds of Egypt0',\n 'Hades: River of Souls0',\n 'Lucky Twins Link&Win0',\n 'Gods of Rock1',\n 'Rich Wilde and the Book of Dead0',\n 'The Dog Mansion Megaways Enhanced RTP0',\n 'The Finer Reels of Life WOWPOT0',\n 'Madame Mystique Megaways Enhanced RTP1',\n 'Story of Vikings - Christmas Edition0',\n 'King of 3 Kingdoms0',\n 'Wild Cash x99901',\n 'Wanted Dead or a Wild0',\n 'Secrets of Atlantis0',\n 'Fairytale Legends: Hansel and Gretel0',\n 'Court of Hearts0',\n 'Rich Wilde and the Amulet of the Dead0',\n '777 Super BIG BuildUp Deluxe0',\n 'Sugar Twist Enhanced RTP0',\n 'Gods of Rock0',\n 'Book of Stylebender0',\n 'Book of Champions Reloaded0',\n 'Lord of the Seas0',\n 'Book of Truth0',\n 'Jewel Bonanza Enhanced RTP0',\n 'Titan Thunder Wrath of Hades0',\n 'Shamrock Money Pot 10K Ways0',\n 'Book of Toro0',\n 'DJ Wild1',\n 'Kitty POPpins0',\n 'Golden Leprechaun MegaWays0',\n 'Story of Vikings: The Golden Era0',\n \"Book of Justice: Athena's Glory0\",\n 'Book of The Divine: Egyptian Darkness0',\n 'Super Rich God: Hold and Win1',\n 'Demi Gods II - Christmas Edition0',\n 'Book of Horror0',\n 'Demi Gods IV3',\n 'Snow Wild and the 7 Features0',\n 'Stumpy McDoodles 20',\n 'Milkshake XXXtreme0',\n 'Duck Shooter CCS0',\n 'Pharaos Riches GDN1',\n 'Chronicles of Olympus X UP0',\n 'KD: BBQ Frenzy0',\n 'Book of Demi Gods II - Reloaded0',\n 'Book of Shadows0',\n 'Mercy of the Gods0',\n 'Jacks or Better Double Up0',\n '6 Rubies of Tribute0',\n 'Grab the Gold!0',\n 'Wheel of Wonders0',\n 'Crystal Ball RHFP0',\n 'Rise of Maya0',\n 'Ramses Book RHFP0',\n 'Dynamite Riches MegaWays0',\n 'Take 5 GDN0',\n 'Ark of Ra0',\n 'Book of Sun: Choice0',\n 'Bison Spirit Enhanced RTP0',\n 'Book of Madness Respins of Amun-Re0',\n 'Demi Gods IV - Thunderstorm0',\n 'EggOMatic1',\n 'Blood Suckers MegaWays0',\n \"Fish 'Em Up0\",\n 'Transylvania: Night of Blood0',\n 'Tomb of Akhenaten0',\n 'La Dolce Vita RHFP0',\n 'Power of Gods: Medusa1',\n 'Royal League Book of Raider0',\n 'Lucky Phoenix Megaways Enhanced RTP0',\n 'Thunderstruck II Mega Moolah0',\n 'Links of Ra0',\n 'Wish Upon a Jackpot Megaways0',\n 'King of Cats0',\n 'Piles of Presents0',\n 'Dragon King: Legend of the Seas0',\n 'Temple of Treasures Megaways0',\n '10,001 Nights MegaWays1',\n '9 Masks of Fire0',\n 'Fear the Dark0',\n 'Tomb of Nefertiti0',\n 'ReefPop0',\n 'HipHopPop0',\n 'Coins of Egypt0',\n '777 Gems ReSpin1',\n 'Stars of Orion1',\n 'Queen of Alexandria1',\n 'Wild Rubies RHFP0',\n 'UFO Joe0',\n 'Book of Crazy Chicken0',\n 'Rise of Samurai 30',\n 'Dia del Mariachi MEGAWAYS0',\n \"Wild O'Clock0\",\n '*NSYNC Pop0',\n 'PixiePOP0',\n 'Hand of Anubis1',\n 'Legend of the Sword0',\n 'Book of Skulls Reloaded0',\n 'Zeus vs Hades: Gods of War0',\n 'Alexander the Great World Conqueror0',\n 'Super Marble: Hold and Win0',\n 'Lucky Drink in Egypt0',\n 'Tomb of Nefertiti1',\n 'Dungeons and Diamonds0',\n 'Secret of the Stones0',\n 'Book of Rampage - Christmas Edition0',\n 'Sons of Monarchy0',\n 'Ramses Book Respins of Amun Re0',\n \"Patrick's Day: Chase'N'Win0\",\n 'Warlords: Crystals of Power0',\n 'Cash or Nothing0',\n 'ImmorTails of Egypt0',\n 'Luckys Fish and Chips0',\n 'Sticky Diamonds RHFP0',\n 'TNT Tumble Dream Drop0',\n \"Tiger's Gold: Hold and Win0\",\n 'Jungle Spirit: Call of the Wild0',\n 'Dogmasons MegaWOOF0',\n 'Moon Sisters: Hold and Win0',\n '9 Pots of Gold1',\n 'FairyTale Legends: Red Riding Hood0',\n 'Mask of Amun0',\n 'Yeti Battle of Greenhat peak1',\n \"POP O'Gold0\",\n 'Tome of Life0',\n 'Book of Oasis0',\n '40 Finest XXL0',\n 'Fate of Fortune0',\n 'Book of Romeo and Julia1',\n 'Back to the Fruits0',\n 'ZZ Top Roadside Riches0',\n 'Super Duper Cherry RHFP0',\n 'Egyptian Rebirth II 10 Line0',\n 'Ryse of the Mighty Gods0',\n 'Africa Gold II0',\n '9 Skulls of Gold0',\n 'Dragon of the Princess0',\n 'GEMiX0',\n 'Power of Gods: The Pantheon0',\n 'Story of Egypt - Christmas Edition0',\n 'Gods of Gold INFINIREELS0',\n 'LooneyPop0',\n 'Age of Pirates - 15 Lines0',\n 'Book of Shadows1',\n 'Times of Egypt0',\n 'Book of Romeo and Julia GDN0',\n 'King Of The Jungle RHFP0',\n 'Hall of the Mountain King0',\n 'Queen of Alexandria WOWPOT!0',\n 'Temple of Nudges0',\n 'Creature from the Black Lagoon0',\n 'Story of the Samurai1',\n 'Cairo Link&Win0',\n 'Stake Demi Gods II0',\n 'Sisters of Oz Jackpots0',\n \"Cash 'N Riches WOWPOT! Megaways0\",\n 'Hot Slot: Great Book of Magic0',\n \"Wacky Monkey: Chase'N'Win0\",\n 'Gates of Heaven Enhanced RTP0',\n 'Land Of Heroes GDN0',\n 'Well of Wonders0',\n 'Little Gem Hold and Spin0',\n 'Alice in WildLand0',\n 'Book of Time0',\n 'Book of Ages0',\n 'Word of Thoth0',\n 'Rich Wilde and the Aztec Idols0',\n 'Ramses Book GDN0',\n 'Parthenon: Quest for Immortality0',\n 'Book of Madness1',\n 'Goddess of Lotus - Christmas Edition0',\n 'Blaze of Ra0',\n 'Ancient Riches RHFP0',\n 'Well of Wilds MegaWays0',\n 'Chicago, bang, bang!0',\n 'Vault of Anubis0',\n 'Take 5 RHFP0',\n 'Leprechaun Goes to Hell0',\n 'Betty, Boris and Boo0',\n 'Kings of Crystals0',\n 'Yeti Battle of Greenhat peak0',\n 'Wild Toro II1',\n 'Fancy Fruits CCS0',\n 'Akiva: Claws of Power0',\n 'Hoard of Poseidon0',\n 'Wild Toro II0',\n 'Roman Legion GDN0',\n 'Tales of Asgard - Lokis Fortune1',\n 'Stake Book of Tribes0',\n 'Demi Gods II - Expanded Edition0',\n 'The Mystery of Eldorado0',\n 'HarleCoin0',\n 'Alice Cooper & the Tome of Madness0',\n 'Royal Seven GDN0',\n 'Pharaos Riches RHFP1',\n 'SIzzling Bells0',\n 'Adventures of Doubloon Island0',\n 'Wild Cash x99900',\n 'Mimi and Magic Staff0',\n 'Wild Rubies GDN0',\n 'Story Of The Samurai - The last Ronin0',\n 'Cash-o-Matic0',\n 'Cats of the Caribbean0',\n \"Patrick's Day: Chase'N'Win1\",\n 'Legend of Athena0',\n 'Story of Medusa II0',\n 'Golden Egg of Crazy Chicken CCS0',\n 'Book of Sam0',\n '8 Golden Skulls of the Holly Roger Megaways0',\n 'Piggy Bjorn 2: Winter is Coming0',\n 'Sparky and Shortz Hidden Joules0',\n 'Book of Aztec King0',\n 'Sisters of Oz WOWPOT0',\n 'Rise of Samurai Megaways0',\n 'Book of Wizard: Crystal Chance0',\n 'Gates of Persia0',\n 'Book of King Arthur0',\n 'Book of the Fallen0',\n '10,000 Wonders 10K Ways0',\n 'Secrets of Christmas0',\n \"Who's the Bride0\",\n 'Ancient Fortunes: Poseidon WowPot! MEGAWAYS0',\n 'Plenty of Presents0',\n 'Golden Egg of Crazy Chicken0',\n 'Codex of Fortune0',\n 'King of Slots0',\n 'Clash of the Beasts0',\n 'Power of Gods: Medusa Easter0',\n 'The Bandit and the Baron0',\n 'Bison Rising MegaWays0',\n 'Book of Rampage0',\n 'AbraCatDabra0',\n 'Riders of the Storm0',\n 'Power of Gods: Valhalla!0',\n 'The Legend of Shangri-La: Cluster Pays1',\n 'Book of Sun Multichance0',\n 'Cyberslot MegaClusters0',\n '2027ISS1',\n 'Power of Gods: Medusa0',\n 'Explodiac RHFP0',\n 'Book of Captain Silver0',\n 'Hit the Gold! Hold and Win0',\n 'Power of Sun: Svarog Easter0',\n 'Animals of Africa0',\n 'King of the Jungle0',\n 'Book of Skulls Reloaded1',\n '2027ISS0',\n '9 Pots of Gold HyperSpins0',\n 'Born WILD0',\n 'Guardian of Athens0',\n '10,001 Nights MegaWays0',\n 'RIP City0',\n 'Simply the Best0',\n 'Bork The Berzerker0',\n 'Jaguar Temple0',\n 'Fortune Cats Golden Stacks0',\n 'Arcader0',\n 'The Falcon Huntress0',\n 'Spectra0',\n 'Midas Golden Touch0',\n 'Pink Elephants 21',\n 'Divine Lotus0',\n 'Flame Busters0',\n 'Carnival Queen0',\n 'Jiggly Cash0',\n 'Crystal Quest: Arcane Tower0',\n 'Zoom0',\n 'Crystal Quest: Deep Jungle0',\n 'Rocket Fellas Inc0',\n 'Pyramyth0',\n 'Crystal Quest: Frostlands0',\n 'Not Enough Kittens1',\n 'Fruit Warp0',\n 'Babushkas0',\n 'Not Enough Kittens0',\n 'Esqueleto Explosivo 20',\n 'Phoenix Paradise0',\n 'Dionysus Golden Feast0',\n 'Turning Totems0',\n 'Dragon Horn0',\n 'Sunset Delight1',\n \"Kraken's Lair0\",\n 'Cosmic Voyager0',\n 'Barbershop: Uncut0',\n 'Tiger Rush0',\n '1429 Uncharted Seas0',\n 'The Wildos0',\n 'Toki Time0',\n 'Flux0',\n 'Shifting Seas0',\n 'Sunset Delight0',\n 'Triple Royal Gold0',\n 'Big Fin Bay0',\n 'The Rift0',\n 'Frog Grog0',\n \"Raven's Eye0\",\n 'Magicious0',\n 'Lava Lava0',\n 'Full Moon Romance0',\n 'Pink Elephants0',\n 'Luchadora0',\n '82ba708b3ad7ca797a215110072264591fc0657f_1',\n '49ff80a3ff8e46d99d2c1c86ab8bca29',\n 'f97984decf1766535f7b92fd7e0763d57566d5be',\n '5a0f40840fe3baad8822fef922f3b5bc64b1c6c0',\n '7be106162eed80dadc1e13cc64309ad680e09c89',\n 'Fruit Million Oktoberfest0',\n 'fa3a7a3de0434788dc42459414bcad3950fbb692',\n '522de2ce56c756d540d022128ececaaae686328b',\n '40407848f3fe2f5f8493be28edf62b07f580f47d',\n '8b761e07965a35d799dc9476d66eb9189fe9431e',\n '2798a856c5c5c4520f5663fb0bd8f2b83be1ba92',\n 'aade810dddb654abc4d91f1bc0ea2311c3b844b7',\n '33182334cd83b0e10e19629f4fa4ac71132f9943',\n 'f9c3a1c079e058f17f1c3cca44de7bf5ec58ce1c',\n 'd0b96f5b0f0f4d839058b89a2581bb76',\n '5c1d2bade9a6125fb4d997c8c912b368e15d65ae',\n 'd6769fcc63f7783f62f51ca3fd1d14f70cdb77c9',\n 'ee53f9bd211cd06f43375a55eb203be60f6718a1',\n '00346d451fe046d2302e76409cbf6e5bc386a173',\n 'a84177c80055b8f45bbc8969434d280f5005c797',\n 'a329ffb617b248ca8c5b402377851b04',\n 'd3475f29ae4a4163b85ac2617948f96e',\n '554aa26e65bf41a892e311e8cd21ca9b',\n '99ec3ef58d75f31e47e3b8916886f0320b0fa6ca',\n 'Book Of Cats Megaways0',\n 'b636ddadc0061919e14b054f9a6d0f0e15a13e0c',\n ...]"
     },
     "execution_count": 64,
     "metadata": {},
     "output_type": "execute_result"
    }
   ],
   "source": [
    "saves___"
   ],
   "metadata": {
    "collapsed": false,
    "ExecuteTime": {
     "end_time": "2023-09-11T03:23:02.286465146Z",
     "start_time": "2023-09-11T03:23:02.211422394Z"
    }
   },
   "id": "7357a2f241167762"
  },
  {
   "cell_type": "code",
   "execution_count": 58,
   "outputs": [
    {
     "data": {
      "text/plain": "['Magic Powers Megaways0',\n 'In The Rabbit Hole0',\n 'Jewel Scarabs0',\n \"Pirates' Plenty Megaways0\",\n 'Lucky Halloween0',\n 'Genie Nights0',\n '5 Families0',\n 'Aztec Spins0',\n 'Mega Rise0',\n 'Jackpot Quest0',\n 'The Wish Master Megaways0',\n \"Dragon's Fire0\",\n 'Lucky Fridays1',\n 'Treasure Mine Power Reels1',\n 'Ancient Script0',\n 'Midas Gold1',\n 'Magic Tricks0',\n 'Grand Wheel0',\n 'Happy Apples0',\n 'Zillard King0',\n 'Knights Of Avalon0',\n 'Here Kitty Kitty0',\n 'Reel Heist0',\n 'Cash Ultimate0',\n 'Jingle Ways Megaways0',\n 'Esqueleto Mariachi0',\n 'Hot Hot Chilli Pot0',\n 'Zeus Lightning Power Reels0',\n 'Reptizillions Power Reels1',\n '777 Strike1',\n 'Three Musketeers0',\n 'Leprechauns Magic Power Reels0',\n 'Fortune Fest1',\n 'Winter Wonders0',\n 'Lucky Oktoberfest0',\n 'Stolen Treasures1',\n 'Golden Cryptex0',\n 'Mystery Reels0',\n 'Emerald Diamond1',\n 'Blue Diamond0',\n 'Stolen Treasures2',\n \"Leprechaun's Magic1\",\n 'Crystal Mirror0',\n 'Three Kingdoms0',\n '10001 Nights0',\n 'Ancient Disco0',\n 'Wolfkin0',\n 'Eagle Riches0',\n 'Mystery Reels Deluxe0',\n 'Amazon Island Megaways0',\n 'Shah Mat0',\n 'Ninja Ways0',\n 'Emerald Diamond0',\n 'Aurum Codex0',\n \"Puss'n Boots0\",\n 'The Wisecracker Lightning0',\n 'Fortune Fest0',\n 'Lucky Easter0',\n 'Sumo Spins0',\n 'Epic Journey0',\n 'Diamond Royale0',\n 'Neon Links1',\n 'Big Cat Rescue Megaways0',\n 'Apache Way0',\n 'Mayhem0',\n 'Regal Beasts0',\n 'Reactor0',\n 'Piggy Riches Megaways0',\n 'Bounty Raid0',\n 'Wild Cats Multiline0',\n 'Midas Gold2',\n 'The Equalizer0',\n 'Wild Expedition0',\n 'Cirque De La Fortune0',\n 'London Tube0',\n 'Rainbow Jackpots2',\n '777 Strike0',\n 'Mega Dragon0',\n 'Wild Circus0',\n 'Dream Destiny0',\n 'Dynamite Riches1',\n 'Lucky Valentine0',\n \"Gonzita's Quest0\",\n \"Pirates' Plenty Battle For Gold0\",\n 'Wild Elements0',\n 'Sylvan Spirits0',\n 'Red Diamond0',\n 'Risque Megaways0',\n 'Fruit Snap0',\n 'Reel Keeper1',\n 'Hammer Gods0',\n 'Multiplier Riches0',\n 'Bulls Run Wild0',\n 'Robin Hoods Wild Forest0',\n 'Gems Gone Wild Power Reels0',\n 'Blobsters Clusterbuster0',\n \"Yucatan's Mystery0\",\n 'Blazing Clusters0',\n 'Cash Volt0',\n 'Astronaut0',\n 'Egypt Megaways0',\n 'Dracula Awakening0',\n 'Zillard King1',\n 'Crazy Genie0',\n \"Devil's Number0\",\n 'Cyber Attack0',\n 'Wild Fight0',\n 'Doggy Riches Megaways0',\n 'Bombuster0',\n 'Tiki Fruits Totem Frenzy0',\n 'Stage 8880',\n 'Regal Streak0',\n 'Chinese Treasures0',\n 'Lucky Wizard0',\n 'Flodder0',\n \"Zaida's Fortune0\",\n 'Fortune House Power Reels0',\n 'Wanted Wildz0',\n 'Five Star Power Reels0',\n 'Fortune Charm0',\n 'Wild Hot Chilli Reels0',\n 'Five Star1',\n \"Lion's Hoard0\",\n \"Wrigley's World0\",\n 'Flaming Fox0',\n 'Arcade Bomb0',\n 'Cotton Gang Affair0',\n 'Santa Spins1',\n 'Vault Cracker0',\n 'Mega Jade0',\n 'Mystery Reels Mega Ways0',\n \"Thor's Vengeance0\",\n 'Primate King0',\n 'Jester Spins0',\n 'Laser Fruit0',\n 'Reptizillions Power Reels0',\n 'Agent Royale0',\n 'Win Escalator0',\n 'Mystery Reels Power Reels0',\n 'Vicky Ventura0',\n 'Spin Town0',\n 'Dragons Clusterbuster0',\n 'Golden Tsar0',\n 'The Greatest Train Robbery0',\n 'Well Of Wishes0',\n 'Totem Lightning Power Reels0',\n 'Gems Gone Wild1',\n 'Piggy Pirates0',\n 'Cai Shen 1680',\n 'Ancients Blessing0',\n 'Majestic Mysteries Power Reels0',\n 'Wild Nords0',\n 'Persian Fortune0',\n 'Tiki Fruits1',\n 'Totem Lightning0',\n 'Ten Elements0',\n \"Ali Baba's Luck Megaways0\",\n '24 Hour Grand Prix0',\n 'Shadow Society0',\n \"Dragon's Luck1\",\n 'Joe Exotic1',\n 'Lucky Little Devil0',\n 'Ocean Fortune0',\n \"Dragon's Luck Power Reels0\",\n 'Dice Dice Dice0',\n 'Rainbow Jackpots Power Lines0',\n 'Magic Gate0',\n 'The Wish Master Megaways1',\n \"Gonzo's Quest Megaways0\",\n 'Beriched0',\n 'Epic Treasure0',\n \"Thor's Lightning0\",\n 'Gems Gone Wild2',\n 'Bass Boss0',\n 'Great Gold0',\n 'Lucky Fridays0',\n 'Reel King Mega0',\n 'Last Chance Saloon0',\n 'Gemtastic0',\n 'Jingle Bells Power Reels0',\n \"Ra's Legend0\",\n 'Wild Tundra0',\n 'Golden Lotus0',\n 'Monsters Unchained0',\n 'The Wild Hatter0',\n 'Stolen Treasures0',\n 'Good Luck Clusterbuster0',\n 'Dream Destiny1',\n 'Casino Spin1',\n '1942: Sky Warrior0',\n 'Diamond Blitz0',\n \"Dragon's Luck Deluxe0\",\n 'Jingle Bells0',\n 'Hammer Gods1',\n 'Mystic Staxx0',\n 'Golden Cryptex1',\n 'Joe Exotic0',\n 'War Of Gods0',\n 'Ali Baba Power Reels0',\n \"Leprechaun's Magic Megaways0\",\n 'Gems Inferno Megaways0',\n 'Treasure Mine Power Reels0',\n 'Rocket Men0',\n 'Neon Links0',\n 'Golden Temple0',\n 'Rio Stars0',\n 'Gods Of Troy0',\n 'Phoenix Fire Power Reels0',\n 'Imperial Palace0',\n 'Wild Wild Chest0',\n 'Fruit Blox0',\n 'Sheep Gone Wild0',\n 'Mystic Wheel0',\n 'Phoenix6',\n \"Pirates' Plenty1\",\n 'Mayan Gods0',\n 'Fa Fa Babies1',\n 'Peggy Sweets0',\n 'Reel Keeper Power Reels0',\n 'Narcos Mexico0',\n 'Santa Spins0',\n 'Gems Gone Wild3',\n 'Casino Spin0',\n 'Fortune House0',\n 'Rainbow Jackpots1',\n \"Cinderella's Ball0\",\n 'Mega Pyramid0',\n 'Gold Star0',\n 'Legendary Excalibur0',\n \"Ali Baba's Luck1\",\n 'Golden Offer0',\n 'Fa Fa Babies0',\n 'Pinatas & Ponies0',\n 'Wild Spartans0',\n 'Elven Magic0',\n 'Treasure Mine0',\n 'The Trillionaire0',\n \"Forever 7's0\",\n 'Holy Diver0',\n 'Big Bad Bison0',\n 'Big Bad Bison1',\n 'Royal Mint0',\n 'aa7c1e7069a845ee8f35aba1feabb036',\n 'dd1caf3d58554b458c8b644bdb044796',\n 'f7dae6af698f4e40a28f7eb0cb120e9d',\n '820c1f2f3e174bb9b2057e250eca851b',\n 'e07c18eb0f10431fbe9181944e18ff8a',\n '2ad3779504b1d383911a13baf5ca488f46eed5d0',\n 'ba92e1e5f2ab2d9dfe97fbce8e55c80cb3080aae',\n 'a8527018f31342e08fccc189551fc4ec',\n '58af673d72e44107a663523d78f04989',\n 'f7782554f02240b49f5e1af8152c2671',\n '2b15dae86e0dd73e5d90ab7e8c8fedd60cb17d9c',\n 'Sleepy Grandpa0',\n 'Lord Venom0',\n '2f59b8e63db64a5c90a688c8ac5f73c3',\n '5ce5de53ff824f059a88814aa0b746fb',\n 'f2328676ef49470abe5e80988b7fdf1c',\n '8e5fb7d2c7294e179edfa9b735c4b02f',\n 'Coba0',\n 'Miss Wildfire0',\n 'Nitropolis 40',\n 'Cygnus 30',\n 'Dreamzone0',\n 'Vegas Diamonds0',\n 'Poltava0',\n 'Sumo Sumo0',\n 'Nitropolis3',\n 'Katmandu X0',\n 'Micro Knights0',\n 'Hongkong Tower0',\n 'Hit It Big0',\n 'Grand Galore0',\n 'Route 7770',\n 'Platooners0',\n 'Bloopers0',\n 'Ho Ho Tower0',\n 'Mystic Orbs0',\n 'Zulu Gold0',\n 'Rabbit Royale0',\n 'Pacific Gold0',\n 'Pirots1',\n 'Ashoka1',\n 'Crusader0',\n 'Katmandu Gold0',\n 'Phoenix Graveyard0',\n 'Visitors0',\n 'Propaganda0',\n 'Dream Diver0',\n 'Cygnus 20',\n 'Blood Lust0',\n 'Kaiju0',\n 'Avalon Gold0',\n 'Win Win0',\n 'Pirots0',\n 'Ice Wolf0',\n 'Knockout Diamonds0',\n 'Illogicool0',\n 'Birthday!0',\n 'Ivanhoe0',\n 'Ashoka0',\n 'Io0',\n 'Diablo Reels0',\n 'Joker Gems0',\n 'Ecuador Gold0',\n 'Tropicool 20',\n 'Cluster Slide0',\n 'Taco Brothers1',\n 'Cygnus2',\n 'Nitropolis 20',\n 'Hit It Hard0',\n 'Voodoo Gold0',\n 'Nitropolis 30',\n \"Lake's Five0\",\n 'Bompers0',\n 'Tahiti Gold0',\n 'Hidden0',\n 'Toro Shogun0',\n 'Buffalo Toro0',\n 'Toro 7s0',\n 'Wild Toro0',\n 'Black River Gold0',\n 'Respin Circus0',\n 'Tropicool1',\n 'Electric Sam0',\n 'Dropz0',\n 'Coba Reborn0',\n 'Taco Brother Saving Christmas0',\n 'Taco Brothers Derailed0',\n 'Moooving Wilds0',\n 'Sunstrike Respin0',\n 'Siren Symphony1',\n 'Victoria Wild Deluxe0',\n 'Sunstrike Respin1',\n 'Aloha: Fruit Bonanza0',\n 'Victoria Wild1',\n 'Guns, Love & Therapy0',\n 'Circus Fruits0',\n 'Circus Fruits1',\n 'Ultra Hot Reels1',\n 'Viking Runes0',\n 'Siren Symphony0',\n 'Christmas Tree 20',\n 'Wild Pumpkins0',\n 'Ultra Hot Reels0',\n 'Crazy Mix0',\n 'Sunstrike2',\n 'Victoria Wild West0',\n 'Alice In Adventureland1',\n 'Alice In Adventureland0',\n 'Wins Of Winter0',\n 'Volatile Egypt Dream Drop0',\n 'Dwarfs Gone Wild0',\n 'Beastwood0',\n \"Rapunzel's Tower0\",\n 'High Street Heist0',\n 'King Colossus0',\n 'Hidden Valley 1200',\n 'King Colossus1',\n 'Big Bot Crew0',\n \"Pirate's Charm0\",\n 'Genies Touch0',\n \"Reno 7's0\",\n 'Spinions2',\n 'Wild Chase: Tokyo Go0',\n 'Sticky Bandits: Wild Return0',\n 'Brooklyn Bootleggers0',\n 'Monster Domination0',\n 'High Roller Bonanza0',\n 'Lucky Stones0',\n 'Jewel Race0',\n 'Wild Fusion0',\n 'Wild Dragon0',\n 'Mystery Box0',\n 'Mystery Box1',\n 'Wild Fusion1',\n 'Macau 80',\n 'Double Luck0',\n 'Jewel Race Sakura0',\n 'Golden Wheel0',\n 'Jewel Race Halloween0',\n 'Golden Wheel1',\n 'Mystery Star0',\n 'Ninja Hero Goemon0',\n 'Imperial Colours0',\n 'Reel Bonanza0',\n 'f4521a6c6189481dae4a03c95fe28b38',\n 'be2f810855fdb62e0486b678508da50c2b82abea',\n '1913bbc36fac64bdcc5fe53453f679dc6ddc0ed1',\n 'e636ab6d7dfa15712d9cb67cf740ed3c30077824',\n 'c477974422576539e0a5c2e7f93ae650d40f7309',\n 'a4b45751dae97943be5907048b5c88b00b39b92f',\n '99fab09f1208b8a8027d697b5c62dbc150ff9b14',\n '39d7b44acff0b258600d29ce65c3005d38ce4856',\n '3bd9466c3f946b09306ebeda409715d364582cda',\n '0852e197ea095b63dd69f27658ae23e203769d4f',\n '3073a6d36ca222afcec4ce649d3acee3edc416cd',\n '8be8751f2b44b62fd4985dec9fcb8cced9a75b3f',\n 'd44f233a5e4cf99b47ff0cf187f3c527f6cdba03',\n '44e6c8ddc9903976b304f2c4fdef845ddfb74e83',\n 'cdee9014e4d2f1811fca73b151d093dddab267bd',\n '4e1be74f6fe5d33ba3f14bfed42a6ff33e2fbc35',\n '12d129f7cb2be5967fb273597a45abffb72ee9d5',\n 'f904fb6d0cad2b39f91da40b720c2433c6cff8ba',\n 'King Of Ghosts0',\n 'fe38b9de0f44ac5892261d426ba39cd1aa410807',\n 'f17bc09acb1f1e2e70ddb768b11dea153a27adff',\n '69f8c541fdf2332f00ae4e441b5a27538d3edd04',\n 'e59fc50ab8543fc449cc0d4531104d528f8399c9',\n '9c63d5af7b76698c6571604e84d28fa0b87f51ec',\n '8dffc02dcdfdd1ba15c25699ce1b7565c0fb8952',\n '6c266e630d4ead8ee43a5f06998df7fd32bd007b_2',\n 'dcdeb90134c13e44fd52e71be20742dcd8762cc7',\n 'ca96b0f048baca0b75f7a5b4a32d99e59f807610',\n '50b8a0b236f174c83c1de52ba920db8ce7ffcfc4',\n 'Asgardians Dice1',\n '53ef854130fb7e8f159959d20bbd82a51441576f',\n 'a2cee5db64c681afbbff699646078b6f5507740f',\n '49ffcc157ee2416086820b1f76c7f1e0',\n '5c4e59008fafdb9111718ac3e03ab5e83fdb3d4a',\n 'af7b23b5087431217f2fdc508d250958898908d2',\n '53ef854130fb7e8f159959d20bbd82a51441576f_1',\n 'Cricket Heroes0',\n '6bb32337552201c85ff0b28671c484ffe85dea91',\n '5a79e026a6b33f3e50d75e679f86b0c4d26d63a5_1',\n 'fbc394c0198ae51986a640fb690e8ad5c8b1001b',\n 'c788481f33eb7a43e860a8ecacb433d5a2bad227',\n 'Lucky Streak Dice 30',\n '391c3ab8218651dc1ecae35c95d091f5e9990883',\n 'Asgardians Dice0',\n '2575297d5cf30d71b856ca0cb4691d1523e07052',\n '44b7b962292be0d7374ba2e95c3c404308395ad2',\n '3a401e0d9ea0f379a92439bb31e875cd1c2aad40',\n '74e5214a7ba80c52dc1d8ccbda40735d151c701d',\n '9ca107747757ee957974763f64f10dbca09b0395',\n '4ad9203d5c494c0a741c860bf4408789332ed119',\n '0a4d2d49e36879b06db629b32f6f81daa96a4612',\n '447eebaff41fdc9c36cf680720ea2ce321d33b67',\n 'b5a8ab186c1b7e358b365253a7d17c2e71e4826e',\n 'd88b26fc88c8938b5d17c89e2768354cf3c04cc4',\n '488f42af3ce137662c430e9ad18c3c67dea60ec5',\n '5e5e94d3b300206b6d182edce58180eed8e9e935',\n '764a25945aeb1448baecec7f1315b510fb9ea712',\n '894a8517374295967dd75e4751bbb77cc0c48d73',\n '5111b171119b9d8dddf0a7d20f013aab936fad6e_1',\n 'Almighty Sparta Dice0',\n '489772320e07684ee5e89b47a735f3f97520ac01',\n '54a389572a74b7f46ad042aebc730cd3bcc77c78',\n '05ab8fe4dfc954450d9ca1a04018b84518062090_1',\n '8d94eed2306a00706ac48c5f2e3de335bf2642bd',\n 'a9213353837e8b922cb33a9981553946b6441514',\n 'a766a316e8838ed29f0b9dcff9a9327404bb296b',\n 'Lucky Streak Dice 10',\n 'fa0495498a6561a2bfcf2cc6ab1c26df6c35f93a',\n \"Undine's Deep0\",\n '7ba0bff087f321e0023637597ee837a43d149149',\n '0957cfb56ac430e5ed3ab72f8ea900ffb97bd0a5',\n '9793e0b66c09959884c1a605b8dacf12d51c378e',\n 'e7e70a626d7f71d05b8e68030dd254ae6b2babd3',\n '2c689564684e42f6cae5db00b7b2b6da0c5a9319',\n 'a687b918e6d84b158c0652cce9738ada',\n '41199d76bffde4da79fa9166337f736a600dbe1a',\n '13e7d7edf3f8117ee915d08f2e3771a946735fba',\n 'Mongol Treasures: Archer Competition0',\n '12f0beecb0387c31249e309ac2e0bededc4e6f73',\n 'a5852ca0844358dfcdd6a3bb94c6f58b0179adf3',\n 'Satoshis Secret0',\n 'bdad4dcaca47b264f54b39789446a7e0551ed5b0',\n 'a886db153dfc9e3dca5931eb60d946b13ad4573c',\n '33485b7bc35fd88f052e6eedbb593287020d4dbd',\n 'ea4623761f296bb6a6fbc6f6b2e40d5465c6a1ff',\n 'b074a2e5f0f1a8ec225554d9692d01194ce86f6c',\n 'ef5aa848cb6234dd6ff6a4610bfb6b8c8ecdcf96',\n 'fc2047c01c564daa2fe52b8ef0db1495970d8971',\n '541b4452973ed7dc01cdb385da8d04b36b475b1e',\n 'Mongol Treasure0',\n 'e842578591860260630536b5c4e6716962e9d32e',\n '0470b388545ecf996830b3ba1d399ce2358ab6f4',\n '642a1f708beae26a11e31fdae2df2f0fa32973ec',\n 'Football: 20220',\n '7ec6b006b889c9287c32a0da7efc4d8eb0601d00',\n '#luxurylife0',\n '84117c03e84b33126b1ca8e1ccdf8411ac85ab94',\n '508fa018b662281e5daf1c5dadfcb2d849d5e93f',\n '6c266e630d4ead8ee43a5f06998df7fd32bd007b',\n '423b1f5041d649ef65a7c6ae0c1cc7c5b19a43ff',\n '7e4352eb49dad04b797ce6b1c6a2e99dcd378f74',\n '3fff077ef6165196648c91d076d0e811947ee143',\n 'Lucky Streak Dice 20',\n '4910247bd57c9ace63f059adcb9c0e620ee9cd19',\n '38651906921e4aec72793984a91127bfdc300885',\n 'ab3caf12a964ef856e2f933e689ee3a4616895a6',\n 'The Vampires 20',\n '0fca5e1c18598f46600f4fa3d3167ffcb132ae41',\n '9b60951767718c8deea4cb1f0713076e3c24cfab',\n 'Little Panda Dice0',\n '17677c81042fc0beb8dbf6079258388a6f27b39c',\n '397f96eb2f0b70a51a3524ab6e2a4344ee717a3c',\n '17d81b360492017b21a10b42544ee73ff3281707',\n '015f33aa30a1c420f4792e40064e9c90e9b9b33c',\n '340a5f79ad086fd922a985135a502819e187c220',\n 'ced71849cca41b199df6858b1c239d6dfda97eb7',\n '2b8b1ed06ba6482b499d7fbab5bb89e3070e1621',\n 'f37e6a729e883ee291ea7bd644cfc74eaccdc758',\n 'f9b7cfb47b07078115151980a4b996ff99b4924f',\n '1d59e64d81495da6be6e4c8b7e6dfc6d7a93f255',\n '7487f0fac9049c9ee0dd0635a8ce5f5bfe04cd15',\n 'Disc of Athena0',\n 'Fancy Fruits RHFP0',\n 'HelioPOPolis0',\n 'Tsai Shen 10K Ways Dream Drop0',\n 'TABOO0',\n 'God of Fire0',\n 'Dragons Luck MegaWays0',\n 'Dead or Alive 2 Feature Buy0',\n 'Riddle of the Sphinx0',\n 'Angels and Demons0',\n 'KD: Sushi Mania0',\n 'Rage of the Seas0',\n 'Book of 990',\n 'ARRR! 10K Ways0',\n 'The Legend of Shangri-La: Cluster Pays0',\n 'Day and Night0',\n 'Super Rich God: Hold and Win0',\n 'Stars of Orion0',\n 'Fancy Fruits GDN0',\n 'Africa X UP0',\n 'Rex the Hunt!0',\n \"Shogun's Secret CCS0\",\n 'Madame Mystique Megaways Enhanced RTP0',\n 'Fire and Roses Joker0',\n 'Aura of Jupiter1',\n 'Starburst XXXtreme0',\n 'Ways of The Samurai0',\n 'Demi Gods IV: The Golden Era0',\n 'Tower of Power0',\n 'Tricks and Treats0',\n 'Queen of the Sun0',\n 'DJ Wild0',\n 'Pyramid: Quest for Immortality0',\n 'Lost City of the Djinn0',\n 'Slushie Party Enhanced RTP0',\n 'Gates of Aztec0',\n 'Queen of The Crystal Rays0',\n 'Royal Seven XXL RHFP0',\n 'An Escape from Alcatraz0',\n 'Books & Bulls GDN0',\n 'Kingdom of Asgard0',\n 'Zombie aPOPalypse0',\n 'Fortuna De Los Muertos II0',\n 'Hyper Strike HyperSpins0',\n 'Wings of Ra0',\n 'Napoleon: Rise of an Empire0',\n 'Big Bass Bonanza - Keeping it Reel0',\n 'Stacks of Jacks0',\n 'Maaax Diamonds GDN0',\n 'Age of Akkadia0',\n 'TnT Tumble0',\n 'Links of Fire0',\n 'Buffalo on Fire!0',\n 'Book of Oz: Lock n Spin0',\n 'Charlie Chance XReelz0',\n 'Baron Bloodmore and the Crimson Castle0',\n \"Athena's Glory: Story of Arachne0\",\n 'Books and Pearls Respins of Amun-Re0',\n 'RockNLock0',\n 'Spinions X-Mas Party0',\n \"Tiger's Gold: Hold and Win1\",\n 'Break Da Bank Again MEGAWAYS0',\n 'Pharaos Riches GDN0',\n 'Festival 10K Ways0',\n 'KISS Reels of Rock0',\n 'Tales of Asgard - Lokis Fortune0',\n 'Dragons Fire MegaWays0',\n 'Crystal Ball GDN0',\n 'Royal Seven XXL Easter Egg0',\n 'Rich Wilde and the Shield of Athena0',\n 'Micropirates & the Kraken of the Caribbean0',\n 'Buffalo Mania MegaWays0',\n 'Commander of Tridents0',\n 'Sword of Khans0',\n '6 Tokens of Gold0',\n 'Dio: Killing the Dragon0',\n 'NFT Megaways0',\n 'Reel of Riches0',\n 'Book of Champions Reloaded1',\n 'Book of Crazy Chicken GDN0',\n 'Land of Zenith0',\n \"Stick 'Em0\",\n 'Pharaos Riches RHFP0',\n 'Fruits of the Amazon0',\n 'Book of Tut0',\n 'Dragon King: Legend of the Seas1',\n 'BARs & 7s0',\n '4Squad0',\n 'DragonFall0',\n 'Finn and the Swirly Spin0',\n 'Master of Lightning0',\n 'Dead or Alive1',\n 'Royal Seven XXL1',\n '11 Coins of Fire0',\n 'La Dolce Vita GDN0',\n 'Adventures of Captain Blackjack0',\n 'What the Fox Megaways0',\n 'Tomb of Dead: Power 4 slots0',\n '2023 Hit slot0',\n 'Taco Fury XXXtreme0',\n 'Yo-Ho Gold!0',\n 'Rich Wilde and the Tome of Madness0',\n 'Legacy of Oz0',\n 'Blood Suckers II0',\n 'Book of Stake0',\n 'Crystal Burst XXL0',\n 'Loco the Monkey0',\n 'ANAKI SkyWalkers0',\n 'Scroll of Jiuweihu0',\n '777 Gems ReSpin0',\n 'Books and Pearls0',\n 'Wild Heist at Peacock Manor0',\n \"Vegas: Chase'N'Win0\",\n 'EggOMatic0',\n 'Power of Gods: Hades Football Edition0',\n 'Book of Oz1',\n 'Crypts of Fortune0',\n 'Madame Mystique Megaways Enhanced RTP2',\n 'Sword of Shoguns0',\n \"Fishin' BIGGER Pots Of Gold0\",\n 'Fruit Mania GDN0',\n 'Hand of Anubis0',\n 'God of Wealth0',\n '24K Dragon0',\n 'Beat the Beast: Mighty Sphinx0',\n 'Fancy Fruits Respins of Amun Re0',\n 'Books & Bulls RHFP0',\n 'Kingdom of the Dead0',\n 'Game of Gladiators Uprising0',\n 'Cutie Cat CCS0',\n 'Book Of Demi Gods III: The Golden Era0',\n 'Story Of Medusa II: The Golden Era0',\n 'Fruit Mania RHFP0',\n \"Halloween: Chase'N'Win0\",\n 'Victorious MAX0',\n 'Wings of Riches0',\n 'King Of The Jungle GDN0',\n 'Story of Gaia0',\n 'Age of Conquest0',\n \"Beat the Beast: Cerberus' Inferno0\",\n 'Lord Fortune 2: Hold and Win0',\n 'Jack and the Beanstalk0',\n '9 Masks of Fire HyperSpins0',\n 'Ticket to Riches0',\n 'Aura of Jupiter CCS0',\n 'Queens of Glory Legacy0',\n 'Sweet Fiesta Enhanced RTP0',\n 'Bar-X Safecracker Megaways0',\n 'Crystal Ball RHFP1',\n 'Wonders of Christmas0',\n 'Power of Sun: Svarog1',\n 'Book Of Demi Gods IV: The Golden Era0',\n 'Relic Hunters and the Book of Faith0',\n 'Bolt X UP0',\n \"Beat the Beast: Griffin's Gold0\",\n 'Story of Egypt - 10 Lines0',\n 'Wild West Bounty Enhanced RTP0',\n 'Win a Beest0',\n \"Stack 'Em0\",\n 'Pick a Fruit - Fire Blaze0',\n 'Book of Sirens: The Golden Era0',\n 'Book of Skulls0',\n 'Red Hot BBQ0',\n 'Cake and Ice Cream0',\n 'Jack in a pot0',\n 'Lord Merlin and the Lady of the Lake0',\n 'Diamonds of Egypt0',\n 'Hades: River of Souls0',\n 'Lucky Twins Link&Win0',\n 'Gods of Rock1',\n 'Rich Wilde and the Book of Dead0',\n 'The Dog Mansion Megaways Enhanced RTP0',\n 'The Finer Reels of Life WOWPOT0',\n 'Madame Mystique Megaways Enhanced RTP1',\n 'Story of Vikings - Christmas Edition0',\n 'King of 3 Kingdoms0',\n 'Wild Cash x99901',\n 'Wanted Dead or a Wild0',\n 'Secrets of Atlantis0',\n 'Fairytale Legends: Hansel and Gretel0',\n 'Court of Hearts0',\n 'Rich Wilde and the Amulet of the Dead0',\n '777 Super BIG BuildUp Deluxe0',\n 'Sugar Twist Enhanced RTP0',\n 'Gods of Rock0',\n 'Book of Stylebender0',\n 'Book of Champions Reloaded0',\n 'Lord of the Seas0',\n 'Book of Truth0',\n 'Jewel Bonanza Enhanced RTP0',\n 'Titan Thunder Wrath of Hades0',\n 'Shamrock Money Pot 10K Ways0',\n 'Book of Toro0',\n 'DJ Wild1',\n 'Kitty POPpins0',\n 'Golden Leprechaun MegaWays0',\n 'Story of Vikings: The Golden Era0',\n \"Book of Justice: Athena's Glory0\",\n 'Book of The Divine: Egyptian Darkness0',\n 'Super Rich God: Hold and Win1',\n 'Demi Gods II - Christmas Edition0',\n 'Book of Horror0',\n 'Demi Gods IV3',\n 'Snow Wild and the 7 Features0',\n 'Stumpy McDoodles 20',\n 'Milkshake XXXtreme0',\n 'Duck Shooter CCS0',\n 'Pharaos Riches GDN1',\n 'Chronicles of Olympus X UP0',\n 'KD: BBQ Frenzy0',\n 'Book of Demi Gods II - Reloaded0',\n 'Book of Shadows0',\n 'Mercy of the Gods0',\n 'Jacks or Better Double Up0',\n '6 Rubies of Tribute0',\n 'Grab the Gold!0',\n 'Wheel of Wonders0',\n 'Crystal Ball RHFP0',\n 'Rise of Maya0',\n 'Ramses Book RHFP0',\n 'Dynamite Riches MegaWays0',\n 'Take 5 GDN0',\n 'Ark of Ra0',\n 'Book of Sun: Choice0',\n 'Bison Spirit Enhanced RTP0',\n 'Book of Madness Respins of Amun-Re0',\n 'Demi Gods IV - Thunderstorm0',\n 'EggOMatic1',\n 'Blood Suckers MegaWays0',\n \"Fish 'Em Up0\",\n 'Transylvania: Night of Blood0',\n 'Tomb of Akhenaten0',\n 'La Dolce Vita RHFP0',\n 'Power of Gods: Medusa1',\n 'Royal League Book of Raider0',\n 'Lucky Phoenix Megaways Enhanced RTP0',\n 'Thunderstruck II Mega Moolah0',\n 'Links of Ra0',\n 'Wish Upon a Jackpot Megaways0',\n 'King of Cats0',\n 'Piles of Presents0',\n 'Dragon King: Legend of the Seas0',\n 'Temple of Treasures Megaways0',\n '10,001 Nights MegaWays1',\n '9 Masks of Fire0',\n 'Fear the Dark0',\n 'Tomb of Nefertiti0',\n 'ReefPop0',\n 'HipHopPop0',\n 'Coins of Egypt0',\n '777 Gems ReSpin1',\n 'Stars of Orion1',\n 'Queen of Alexandria1',\n 'Wild Rubies RHFP0',\n 'UFO Joe0',\n 'Book of Crazy Chicken0',\n 'Rise of Samurai 30',\n 'Dia del Mariachi MEGAWAYS0',\n \"Wild O'Clock0\",\n '*NSYNC Pop0',\n 'PixiePOP0',\n 'Hand of Anubis1',\n 'Legend of the Sword0',\n 'Book of Skulls Reloaded0',\n 'Zeus vs Hades: Gods of War0',\n 'Alexander the Great World Conqueror0',\n 'Super Marble: Hold and Win0',\n 'Lucky Drink in Egypt0',\n 'Tomb of Nefertiti1',\n 'Dungeons and Diamonds0',\n 'Secret of the Stones0',\n 'Book of Rampage - Christmas Edition0',\n 'Sons of Monarchy0',\n 'Ramses Book Respins of Amun Re0',\n \"Patrick's Day: Chase'N'Win0\",\n 'Warlords: Crystals of Power0',\n 'Cash or Nothing0',\n 'ImmorTails of Egypt0',\n 'Luckys Fish and Chips0',\n 'Sticky Diamonds RHFP0',\n 'TNT Tumble Dream Drop0',\n \"Tiger's Gold: Hold and Win0\",\n 'Jungle Spirit: Call of the Wild0',\n 'Dogmasons MegaWOOF0',\n 'Moon Sisters: Hold and Win0',\n '9 Pots of Gold1',\n 'FairyTale Legends: Red Riding Hood0',\n 'Mask of Amun0',\n 'Yeti Battle of Greenhat peak1',\n \"POP O'Gold0\",\n 'Tome of Life0',\n 'Book of Oasis0',\n '40 Finest XXL0',\n 'Fate of Fortune0',\n 'Book of Romeo and Julia1',\n 'Back to the Fruits0',\n 'ZZ Top Roadside Riches0',\n 'Super Duper Cherry RHFP0',\n 'Egyptian Rebirth II 10 Line0',\n 'Ryse of the Mighty Gods0',\n 'Africa Gold II0',\n '9 Skulls of Gold0',\n 'Dragon of the Princess0',\n 'GEMiX0',\n 'Power of Gods: The Pantheon0',\n 'Story of Egypt - Christmas Edition0',\n 'Gods of Gold INFINIREELS0',\n 'LooneyPop0',\n 'Age of Pirates - 15 Lines0',\n 'Book of Shadows1',\n 'Times of Egypt0',\n 'Book of Romeo and Julia GDN0',\n 'King Of The Jungle RHFP0',\n 'Hall of the Mountain King0',\n 'Queen of Alexandria WOWPOT!0',\n 'Temple of Nudges0',\n 'Creature from the Black Lagoon0',\n 'Story of the Samurai1',\n 'Cairo Link&Win0',\n 'Stake Demi Gods II0',\n 'Sisters of Oz Jackpots0',\n \"Cash 'N Riches WOWPOT! Megaways0\",\n 'Hot Slot: Great Book of Magic0',\n \"Wacky Monkey: Chase'N'Win0\",\n 'Gates of Heaven Enhanced RTP0',\n 'Land Of Heroes GDN0',\n 'Well of Wonders0',\n 'Little Gem Hold and Spin0',\n 'Alice in WildLand0',\n 'Book of Time0',\n 'Book of Ages0',\n 'Word of Thoth0',\n 'Rich Wilde and the Aztec Idols0',\n 'Ramses Book GDN0',\n 'Parthenon: Quest for Immortality0',\n 'Book of Madness1',\n 'Goddess of Lotus - Christmas Edition0',\n 'Blaze of Ra0',\n 'Ancient Riches RHFP0',\n 'Well of Wilds MegaWays0',\n 'Chicago, bang, bang!0',\n 'Vault of Anubis0',\n 'Take 5 RHFP0',\n 'Leprechaun Goes to Hell0',\n 'Betty, Boris and Boo0',\n 'Kings of Crystals0',\n 'Yeti Battle of Greenhat peak0',\n 'Wild Toro II1',\n 'Fancy Fruits CCS0',\n 'Akiva: Claws of Power0',\n 'Hoard of Poseidon0',\n 'Wild Toro II0',\n 'Roman Legion GDN0',\n 'Tales of Asgard - Lokis Fortune1',\n 'Stake Book of Tribes0',\n 'Demi Gods II - Expanded Edition0',\n 'The Mystery of Eldorado0',\n 'HarleCoin0',\n 'Alice Cooper & the Tome of Madness0',\n 'Royal Seven GDN0',\n 'Pharaos Riches RHFP1',\n 'SIzzling Bells0',\n 'Adventures of Doubloon Island0',\n 'Wild Cash x99900',\n 'Mimi and Magic Staff0',\n 'Wild Rubies GDN0',\n 'Story Of The Samurai - The last Ronin0',\n 'Cash-o-Matic0',\n 'Cats of the Caribbean0',\n \"Patrick's Day: Chase'N'Win1\",\n 'Legend of Athena0',\n 'Story of Medusa II0',\n 'Golden Egg of Crazy Chicken CCS0',\n 'Book of Sam0',\n '8 Golden Skulls of the Holly Roger Megaways0',\n 'Piggy Bjorn 2: Winter is Coming0',\n 'Sparky and Shortz Hidden Joules0',\n 'Book of Aztec King0',\n 'Sisters of Oz WOWPOT0',\n 'Rise of Samurai Megaways0',\n 'Book of Wizard: Crystal Chance0',\n 'Gates of Persia0',\n 'Book of King Arthur0',\n 'Book of the Fallen0',\n '10,000 Wonders 10K Ways0',\n 'Secrets of Christmas0',\n \"Who's the Bride0\",\n 'Ancient Fortunes: Poseidon WowPot! MEGAWAYS0',\n 'Plenty of Presents0',\n 'Golden Egg of Crazy Chicken0',\n 'Codex of Fortune0',\n 'King of Slots0',\n 'Clash of the Beasts0',\n 'Power of Gods: Medusa Easter0',\n 'The Bandit and the Baron0',\n 'Bison Rising MegaWays0',\n 'Book of Rampage0',\n 'AbraCatDabra0',\n 'Riders of the Storm0',\n 'Power of Gods: Valhalla!0',\n 'The Legend of Shangri-La: Cluster Pays1',\n 'Book of Sun Multichance0',\n 'Cyberslot MegaClusters0',\n '2027ISS1',\n 'Power of Gods: Medusa0',\n 'Explodiac RHFP0',\n 'Book of Captain Silver0',\n 'Hit the Gold! Hold and Win0',\n 'Power of Sun: Svarog Easter0',\n 'Animals of Africa0',\n 'King of the Jungle0',\n 'Book of Skulls Reloaded1',\n '2027ISS0',\n '9 Pots of Gold HyperSpins0',\n 'Born WILD0',\n 'Guardian of Athens0',\n '10,001 Nights MegaWays0',\n 'RIP City0',\n 'Simply the Best0',\n 'Bork The Berzerker0',\n 'Jaguar Temple0',\n 'Fortune Cats Golden Stacks0',\n 'Arcader0',\n 'The Falcon Huntress0',\n 'Spectra0',\n 'Midas Golden Touch0',\n 'Pink Elephants 21',\n 'Divine Lotus0',\n 'Flame Busters0',\n 'Carnival Queen0',\n 'Jiggly Cash0',\n 'Crystal Quest: Arcane Tower0',\n 'Zoom0',\n 'Crystal Quest: Deep Jungle0',\n 'Rocket Fellas Inc0',\n 'Pyramyth0',\n 'Crystal Quest: Frostlands0',\n 'Not Enough Kittens1',\n 'Fruit Warp0',\n 'Babushkas0',\n 'Not Enough Kittens0',\n 'Esqueleto Explosivo 20',\n 'Phoenix Paradise0',\n 'Dionysus Golden Feast0',\n 'Turning Totems0',\n 'Dragon Horn0',\n 'Sunset Delight1',\n \"Kraken's Lair0\",\n 'Cosmic Voyager0',\n 'Barbershop: Uncut0',\n 'Tiger Rush0',\n '1429 Uncharted Seas0',\n 'The Wildos0',\n 'Toki Time0',\n 'Flux0',\n 'Shifting Seas0',\n 'Sunset Delight0',\n 'Triple Royal Gold0',\n 'Big Fin Bay0',\n 'The Rift0',\n 'Frog Grog0',\n \"Raven's Eye0\",\n 'Magicious0',\n 'Lava Lava0',\n 'Full Moon Romance0',\n 'Pink Elephants0',\n 'Luchadora0',\n '82ba708b3ad7ca797a215110072264591fc0657f_1',\n '49ff80a3ff8e46d99d2c1c86ab8bca29',\n 'f97984decf1766535f7b92fd7e0763d57566d5be',\n '5a0f40840fe3baad8822fef922f3b5bc64b1c6c0',\n '7be106162eed80dadc1e13cc64309ad680e09c89',\n 'Fruit Million Oktoberfest0',\n 'fa3a7a3de0434788dc42459414bcad3950fbb692',\n '522de2ce56c756d540d022128ececaaae686328b',\n '40407848f3fe2f5f8493be28edf62b07f580f47d',\n '8b761e07965a35d799dc9476d66eb9189fe9431e',\n '2798a856c5c5c4520f5663fb0bd8f2b83be1ba92',\n 'aade810dddb654abc4d91f1bc0ea2311c3b844b7',\n '33182334cd83b0e10e19629f4fa4ac71132f9943',\n 'f9c3a1c079e058f17f1c3cca44de7bf5ec58ce1c',\n 'd0b96f5b0f0f4d839058b89a2581bb76',\n '5c1d2bade9a6125fb4d997c8c912b368e15d65ae',\n 'd6769fcc63f7783f62f51ca3fd1d14f70cdb77c9',\n 'ee53f9bd211cd06f43375a55eb203be60f6718a1',\n '00346d451fe046d2302e76409cbf6e5bc386a173',\n 'a84177c80055b8f45bbc8969434d280f5005c797',\n 'a329ffb617b248ca8c5b402377851b04',\n 'd3475f29ae4a4163b85ac2617948f96e',\n '554aa26e65bf41a892e311e8cd21ca9b',\n '99ec3ef58d75f31e47e3b8916886f0320b0fa6ca',\n 'Book Of Cats Megaways0',\n 'b636ddadc0061919e14b054f9a6d0f0e15a13e0c',\n ...]"
     },
     "execution_count": 58,
     "metadata": {},
     "output_type": "execute_result"
    }
   ],
   "source": [
    "saves___"
   ],
   "metadata": {
    "collapsed": false,
    "ExecuteTime": {
     "end_time": "2023-09-11T03:14:14.493755561Z",
     "start_time": "2023-09-11T03:14:14.420952698Z"
    }
   },
   "id": "a2c6b49236d31dd0"
  },
  {
   "cell_type": "code",
   "execution_count": null,
   "outputs": [],
   "source": [
    "for i in all"
   ],
   "metadata": {
    "collapsed": false
   },
   "id": "ea17ff203b885880"
  },
  {
   "cell_type": "code",
   "execution_count": 55,
   "outputs": [
    {
     "data": {
      "text/plain": "False"
     },
     "execution_count": 55,
     "metadata": {},
     "output_type": "execute_result"
    }
   ],
   "source": [
    "\"822f51b334667e13e97053e84b639706cb80a3b7\" in x_list"
   ],
   "metadata": {
    "collapsed": false,
    "ExecuteTime": {
     "end_time": "2023-09-11T03:12:10.583829115Z",
     "start_time": "2023-09-11T03:12:10.528240919Z"
    }
   },
   "id": "785ebe21898b8ae3"
  },
  {
   "cell_type": "code",
   "execution_count": 56,
   "outputs": [
    {
     "data": {
      "text/plain": "['6e7ce771e65a138e5e8a5d5d1fc5e3970ad5a507',\n 'f15f7c4d56ccaeceb6ea3959dffb63342325c19f',\n 'eb541baaf6d84ca4ac81722c898d1537',\n '507713916f3edaf7c7cae027d40d80f3216802ca',\n '207431e1828743e7bbfff8c5ae45f17e',\n 'df75f1fcf0b87526e8ac0d46a8efb39409ee5598',\n '9d2ac14371a5b5e851ea74a1a2421db1ef7da24a',\n '00d214b9d2cf7e86935dbe37c1d4e8f8ef50bd78',\n 'e1a23a12880f4b94be5c25f56c518713',\n 'fe38b9de0f44ac5892261d426ba39cd1aa410807',\n 'fa8eb548e34740a3a7dd56724101d662',\n '8be41c82035e9a5a2789dd63cd06b57cb5558288',\n '4bb371fa58334accbac4889dd098767f',\n '0f95726078cc17be5222dc4cc72bc4c90053ef38',\n '68242a43d20b466caca1a89ef403191a',\n '3d2ddf12cc8244e299f2635ba8254730',\n '1a5ba7ca666145ef82837cf96486b788',\n '03f4c89207be4570bd2d14c86cc3ccc8',\n '7984764d651dcbb3a8ab2b279ec43149759d4ca3',\n 'dbfb975c996f4f5a96fe78cfbe57d0e0',\n '32e9e5a11c58f308bd628bbc282a7192e28856e7',\n 'da2c2126aae24563848296c7d8caf713',\n 'bd4f05b7e78c4de4a6eacf197da011c1',\n '55ca9fd1352082acc209bf51d9a68a07aa833fc1',\n '8a2a2c725bab4250bed9c2e5cdd77897',\n 'ea4623761f296bb6a6fbc6f6b2e40d5465c6a1ff',\n 'd65e52174363f366766d4222043203432a9297a9',\n '36db8dec6d6143bea1f28e946f36117b',\n '31b63895d71e45969020ad15ad8e9d5a',\n '65d52f489fc086c3235d88957260ad5cf73f1fd0',\n '8a4a76136c718cfcba1c0ee70e524ebb88c17e41',\n '489772320e07684ee5e89b47a735f3f97520ac01',\n 'a2687b576c7974367dcdafe30048ede54ee9a048',\n '7ad95cffecb7c36a26ac8dda019c35f077534324',\n '81c8a9717939268d174e905a8769a8afe55a5a12',\n 'cbb5b78d9922404e85b5bc0d1e02c16a',\n 'a4b45751dae97943be5907048b5c88b00b39b92f',\n '7aa5fc7fe850569d98c5476850452f6c3fac00da',\n 'f5da8bfd7ec0e5b75574699f0212e344fb64b7e0',\n '2bd4c97bb9086f678b0aa02bb88ac2bf5f12b565',\n 'dcdeb90134c13e44fd52e71be20742dcd8762cc7',\n 'ac437469dda9d4e0a82059d405540eec85d111d2',\n 'b5a05b131e88093d9c63dc401e0246d1413dab16',\n 'dcd04da127681d99c7725eccaa3ff771950c4676',\n '4ad9203d5c494c0a741c860bf4408789332ed119',\n 'c3d1c7ef01814db88f01137faac6f2c5',\n 'd0bfb0501c634e31a88471cd8a434615',\n 'd1bae6d38b5929684cc9f0a11b621c534911836e',\n 'd49e149051444107a21836966e920c5d',\n '2e52baa5a8a047c3bb67d501fb4562ff',\n '541b4452973ed7dc01cdb385da8d04b36b475b1e',\n 'dc5d116d08dd40e193d94d102bfc5798',\n '8a0ed0127b29422b97e0390177441407',\n '83ea9ad0c1eb41c69e191dc8e179bd8a',\n 'a82e8f18fe954bec8f91d85ce1c51289',\n '1f5d1d045fba80074323c2ea19ecd0cafcffaf95',\n '015f33aa30a1c420f4792e40064e9c90e9b9b33c',\n '9aacc75fe88940de8209e7e61c1a2e78',\n '09544657a3adf3c57d875e5a102bad621e8828b3',\n 'a2cee5db64c681afbbff699646078b6f5507740f',\n 'abf4cf0a9cba7e0115967735a98da1a11a313277',\n 'c31d5e534b0685838a421086139d2d5b15d423ca',\n 'ccd0131d409fdc8c6b02e6371d5cf36627491bf5',\n '31b63895d71e45969020ad15ad8e9d5a',\n '514f97476d68c4e5aa219bbbf7563c78a72f65be',\n '2cba63020b5cd4bb70eea03a211f191ab6c0118f',\n '49d03e8129a842a9904c4b13bd804ead',\n '86708fc9918b6f8cdc0b869687f35711f82ae6be',\n 'b0a92b0a636b478d8b7cb1b556401083',\n '2798a856c5c5c4520f5663fb0bd8f2b83be1ba92',\n '7b0591746228536000b785db119645915613a463',\n '9dea142d529c4e09a95bea750f597efa',\n '84f290d3447c4c1bacfcdeca93dafb30',\n 'ecabce3f2461e64d6409c8c666dc8dd40c77abc3',\n 'f9b7cfb47b07078115151980a4b996ff99b4924f',\n '0d4f9d942cc74f38bc3d2f46d23215aa',\n 'b8b6fdbdea059786f32b0cbcfa31787ae844add3',\n '41cb5434d2d87a1f6f79ede002ad7fc0518ae122',\n '1b6231825485ba9404b96a69e68714f22538c524',\n '082d0a4caae9455c842761e44f9f8f57',\n 'a35ba034d66e0acfd1046961fa1b5242f219a347',\n 'a89adb313d00af8c653028177f5fe1f4e5bb3729',\n 'c40da5e201ad441ab2e998f181698c3c',\n 'f85e6f269fa8d9bd73ccc3f3555d8b4323eaaa13',\n 'cb20167bb2b8b1b87d6eebf9c977e45eb2fc71c3',\n '963ac9a51b2e40a085da4f7c4260591b',\n 'b9731141b59840cf8923335ed5a436e0',\n '40407848f3fe2f5f8493be28edf62b07f580f47d',\n '8c176a5073ad091582348532db14db7932c05e80',\n '6eb68c475bd14ac8959a824d3a170735',\n 'fb8c9b57190792d68dbffc17b084c0cbb096a9ff',\n '33264476c073e3950acb774c54536c304db40964',\n '32a008b0ff7d09f68e67098e4b225444c641cb29',\n 'd1d04d625106ff4987dc79e688eb1882711ec579',\n '2d4fd44cdeb4450e9f0b8104db5fbd8c',\n 'ed0f860cb9ae34d822d9665c5f233b58fafb6ef7',\n 'b168cb9d159fe31f01dd3dfcf10a9208be73b629',\n '876b3d1576dc43b38d1bc13d9ff5e556_1',\n '22eb3edbb9f9f2292d265f941c136c1377dc7941',\n 'c4b0f2f3724b4f55856995f35e4f28c8',\n '54a389572a74b7f46ad042aebc730cd3bcc77c78',\n '1629797886a04a77908462975aaa2b27',\n '5dfdd2141f794ae792f8ab60e48b37d1',\n 'cbb35fa493c54d5fa2f6c4e328927508',\n 'fc23ed097af24970a01e6b91a91abd1b',\n '9938ebf0151d45b890cc04a9fe42dbba',\n 'a7041e7781894824aa017d0af7f1c2af',\n '8029c0740c674414b695db7e23d24d30',\n '561b65a789f76625d1d26b75a292323bfcc7a1f1',\n 'f2f3d48935ef275389a83ac6575572df5805571a',\n '1ef11118420344d7a974029c73165e8b',\n 'a48824bcf809420b872c22cef172bab2',\n 'ab3caf12a964ef856e2f933e689ee3a4616895a6',\n '234e11dff3d84cdf82adc454133adfc1',\n 'bae512fc842b44cba6924e127ef09e2a',\n '81dfc21caeb542fc9919dc398dff828e',\n 'e0d16f3a9cda4c99bfd2013b86e1311c',\n '4e74778621c7231329ee9f53cdf4349e74030ba7',\n 'd6501eff87d44ba9bc9235a95d058882',\n '7c404e44d4d631aed5002302856c1faab3c08146_1',\n '811ca942d1ed4957a02285ea9d69c80b',\n '876e885b37e63089538dbc4cc9d5bbac5bdfa644',\n 'ec4d3b3eed970b798f247eb1b6566e0fbc692a03',\n '3fff077ef6165196648c91d076d0e811947ee143',\n '8b8505002ad9a1e2637816af860b9839fca3252a',\n '56e16897bce240cdb6ffffa4deffb808',\n '2c689564684e42f6cae5db00b7b2b6da0c5a9319',\n 'f73cf13d2f6d400aa0373ec5be49510c',\n '290b80f84e0817aa8ef08cd8d9bdb61473180c47',\n 'fa9b9e369e1c0af493f2209c83c7422b0b865960',\n '9f24dabed78697de846065a08bd7f981d4985cfe',\n 'e842578591860260630536b5c4e6716962e9d32e',\n 'e624cc410998dedd13d006c791bc21b681f94685',\n '0fca5e1c18598f46600f4fa3d3167ffcb132ae41',\n '9bbe1dec074937e5f32e807af3aae69048429da8',\n '822f51b334667e13e97053e84b639706cb80a3b7_1',\n '8b761e07965a35d799dc9476d66eb9189fe9431e',\n '46a8a5d3d757af3ce6b87461242de78dead3de63_1',\n 'ed0a4a85eb9d4825aba408c1a3ebe24c',\n 'bf78ace128e48346f306c02e80a3a62dc4417257',\n '4910247bd57c9ace63f059adcb9c0e620ee9cd19',\n '02a8c7220689ecbbcd715998dc9299b504292512',\n '6e95cef1cef64c64a2772fb8c36b4d29',\n 'e9f96ee25ffa44d4b7d224d2ed170d71',\n '7025e6ba3704a631d4451e9dfce2bb130dca9c90',\n 'af7b23b5087431217f2fdc508d250958898908d2',\n '6acb2e901517c0731362b60b6072a40e',\n '60d9fd6a1cb3387c9af39b3c6ddd56126e2898c6',\n 'cd0727d0d8394a4f8fca01ebd1b6ce70d88a61a2',\n '014c08a781e04ebb8478b73f520301b0',\n 'ea4680974de64540be1c04a51dec3a65',\n '7be106162eed80dadc1e13cc64309ad680e09c89',\n 'cf14d2f3e7ca19857ccb9aadffdcdc8823e3b830',\n 'c8ec93ebbb0ea1269cb7046149d68217e76b93c1',\n '7383a6ca5e36408faa0eebcd73f5984e',\n 'ce45c207e24244d390816f19d8d61d35',\n '621ead271103416a8bfb1713135c3017',\n 'ed0a4a85eb9d4825aba408c1a3ebe24c',\n 'e965b77afdf0ce2afdbeb70b5e3bfafd24fb142a',\n 'dce399d3c47ac47f4712c767d4c22cc588f2bfcd',\n '5b21f9105be1db0def92bdfa3c19d3ac7f674e24',\n '1149fe8b5e19802809f9128c6d2beddcedae2179',\n '656099d9d6b91e1c7aa35115577253fab0134c37',\n 'be4ecb35892640b99af3ee73e689490c',\n '107ce2a9bd297fec539f20e2b7b49b77828511aa',\n '205cc6d6e06a24d6f314cf5f70cdc8f49dde54e0',\n '76f082e855519f652e65e99e9e2729b24a3acffa',\n 'b7558c93bcbc45128b6e4f60bc607bc9',\n '95aa7c1f2fd57ed8821659404a797e4b500052fc',\n 'b3cfcf6ef0f844a5abfab64312816a27',\n 'b5a8ab186c1b7e358b365253a7d17c2e71e4826e',\n '2345af2dcfd84b448fb26df440ac779a',\n '3c8a7fee12ad3d291c276e3893fa4cee52876f79',\n '3d664bad4033c262d913bcfd02ca89a159417900',\n '62602f85b8184cdf965b3f0f73ed1918',\n '58f4c959715349ba89ac026bccc953b0',\n '139862882e7642c286411eedd23bcc47',\n '7487f0fac9049c9ee0dd0635a8ce5f5bfe04cd15',\n '329d170d3d1b464da589626e354349f2',\n 'bdad4dcaca47b264f54b39789446a7e0551ed5b0',\n '13510eeb9b1b87e2961c558f3818a8f79f260a44',\n 'a51c91449f65468287455fad7434fde0',\n 'b8946ab92d20445ea2e9a03847cbe3d3',\n 'bd4d1ce29b7b4211909e3376c6d08439',\n '397f96eb2f0b70a51a3524ab6e2a4344ee717a3c',\n '080ad435821944ccabffb34749fed889',\n '04712e3c69bf4684a543a317b1fe1f35',\n '9e793392f56e4c57b30cc1b36cb95da3',\n 'f4b0d810603744758f7227efa530fc5c',\n '2503d7dced5a435e93e622e43e4951a8',\n 'ccc52fb6caae9caa6ad6cdcdae3f820a3aacd440',\n 'c29ac2c24e5040768ba0b318f15abd33',\n 'b03ed1831b86412d8f7f67a778a12507',\n '5165099741db8d6fc798ffd0fa0c026b887dfd47',\n '94b2a51a528f4128b0ad3e32766a5c64',\n '1a8113c7402d216dccb7c1fd97b5b12a45294f60',\n '84cdd18937ef366fbcd9f33cc84ed6fc58585df8',\n '49ffcc157ee2416086820b1f76c7f1e0',\n '0d3c86ac1ef4411c9db4bfc78bcc0343',\n '4c0b44a98a7cf716a20f8ff30addf672d144a27e',\n 'fe53bcf1e15f0fdf0dc9097d1366e578400394a6',\n 'd1ee0c59d15e441bb256e1623bb45ebf',\n '0764784c9b2c8bf9347583af0a4315d869e8bf88',\n 'fb3d71b247f9495da0d5a6ceedb4dda1',\n '69f8d0e2251e11c54c0708ba04bed3226e625883',\n '7bd08816aaf5d3d41f88a7592c6556e3',\n 'fcfeb248a3ef47a4b29850da59dd2ba7',\n '77f520846b60c1bfc4063e7dcb4ed64007a229f6',\n 'ab0e2d1e3805b29e4f5b29de1dee9ec683e498a0',\n '6c266e630d4ead8ee43a5f06998df7fd32bd007b_2',\n 'a5ac7ae965dbd19a6f7d9e0254452c1d0ae095e8',\n '1d63990ef0db4400b8bf9537bbcafc2b',\n '5ef0d40861bb43978dcfb625bcb08892',\n 'daa8f8158923131fc6477910e320da85f47388e9',\n '4aaf8adba74e41b83987bfcf6c1e41a575f5aa50',\n 'd5fed9a8ca0258e2064c71d53a894266',\n 'aa66405431bf99c65132679ddcbb0501edf95623',\n '329677178f29449a8f204507b9351b07102c692c',\n '0a5acb8757c87fa3d4780494fba8e9e7043eeafd',\n '2dd342fa5ceb710036b75645a39f735d',\n '8e5fb7d2c7294e179edfa9b735c4b02f',\n '12d9eb7b20b44c01808d7da3a8cf00ca',\n '514584cf249b1621f3f3a16c0fa6be1d',\n '612e40dec67d4e50a778a07cc142ef1c',\n 'bf433b7b81789c110e3a29a54e9846c057bfa25b',\n '78dbf2940d8648e394efa6453cba5d54',\n 'de0c296c3c8c48608773ee36406812f7',\n 'ba1a9e8e337d41f689983ece2c6db389',\n 'f5f039e81f3b84c629a7c40646cc1dea8d24b24b',\n '048d68e8a264d18534c65cec2c75d99f2fc62d0f',\n 'd98a42bd76a44259985fc9d32f38e6e8',\n 'b1473395a1684dcc8762eda32f8051f4',\n '67c234375c9e4fd588353c458dbde9fa',\n '810fdf0ac3c246b1a172aff0e664d80d',\n '201a27db832449429db39b46a45144d4',\n 'dad6d9f3d14f107d611197ee7c205c6b1df4ffee',\n 'f1876876af30d1a0dc96437c333a985d41a8d73f',\n '22a577e67761c06382644ec158e45b1763c3f595',\n '5786af72ea4749559ee4979830e87996',\n 'd44f233a5e4cf99b47ff0cf187f3c527f6cdba03',\n '76c36fd0a78f9c7536eb44986fe1420841c77341',\n 'e7393c8898c6020a6ff40167dffd121ca93017e6',\n '03ab2a1f6369f356e4e6a3e077c6eee878ba2dc0',\n '9f43bd1f38cd415ebd20a7f447b15a95',\n '4aa3541f242142e0a5ff0b5d24bb2989',\n '6b700db3a5c94fa5a7825d0492c79100',\n 'c5814c69e2b19e1bc781aed44554c4f4d319e6de',\n '42919aa54cbd49c7a75416e00c68fbbd',\n '13d33093ccd208fd2827300e5d415e7f57940d13',\n '1a874db7ccec3dc60c38fef4e9da7140b8a9a130',\n 'cc6dd5a91fe5b7a55eabf59876d3d17fbf609ef1',\n 'ae04bf00580001a4b55c95fc39b5ea25060aefde',\n '80341a1808be2c79d8e7dd2c55f69393b99a10d3',\n '2aba0c97effa4b329386f16810a01551',\n 'cf5a5256c8bb122225d2b8b004adc45970f458ca',\n '5da765110364d2ac8b6d053ffc94c045eb099bc4_10',\n '19de618e4bf64edd8c3bba33bea87f13',\n 'd5c0412f92edad2a51a2a5fec8220f9a006a926b',\n 'e192c07b0e432aab7517995db33b2c17d921de45',\n 'daaab90dd07d4a70b86f6ebe434e9084',\n '71a36ab2935d9c9cfe210a74f55ba9d5a80a9bca',\n '9dc7d34a400537c54fdaa2ae5874fa859c80969d',\n '7f8be504e882495ba924f8da99efef94',\n 'aeae687fdee54a45984ef4c91257f95d',\n '9262f8aa60de4285a5e108fdba59e1c5',\n '48f8f033d83e49c887b9512e164617a5',\n 'c1bc4c797f204110bedc50087800d74b',\n 'cdee9014e4d2f1811fca73b151d093dddab267bd',\n '9513acae13a9411ca02553938397644d',\n '15a6221e9346e5aa1684f5e7b575020f67bf78ed',\n '320a88c50a8c973d054aa7804d4fda064ecc1e09',\n 'a5ab92659f3097ac65f89673a1a541f1b04e01a1',\n '4df4bc8efad247cf9b3de818610f0bc9',\n '63aac2bed5f647b981e18fd435dac68d',\n 'f47c2baa26846937de1115bb633428397d195269',\n 'abdb1a4cce7a4b218c7b6b846c065d31',\n 'ffe5020c34324606a050adcdb103b381',\n 'aa760484975ffff9f1b17956320c5664f7375181',\n 'd8f118e9bfd01ace4f417a8adf3c72845788a658',\n '09f55cc36baa43cbbb8d30ddad8a0e08f40f19e6',\n 'a3102d669e4265b8068d649f4926b4c9bf800a03',\n 'b8e0e4d71c872b6cd90813fdcbbc3430185c6e0f_1',\n 'dbe5c3c100edd8924556902a4487b8eb402cfbd5',\n '351395c796c70799f80b1db73b6c68920899598c',\n '54d326018b7e422ba10a55725d79cd5e',\n '5cf971b8800bafbd8d28eceecf7c6497ad7d9883',\n '4dc3a1c60ea206c522b5121206461caf9a54218a',\n '463114f1ceab3bc594719226fbd88ab3bfadcb70',\n '5ec1261a3b0641a3b0e76065df3abac6',\n 'ca96b0f048baca0b75f7a5b4a32d99e59f807610',\n '236e24af00ba472a855945af5c7104ba',\n '3797a3a506444327926a6e459b08e37c',\n '6cf238e263e6e5fa5fa5bf25e2e6c1af80a19d9b',\n '0e1e273ae5e84b3c9f861cd42813fdfb',\n '41424db5d7da42b89a09d6ac423d3565',\n 'f97554a7e482889bc27c2ee5a092f0f37d16a076',\n '238f9a0ab983bd81f7f3cfcb3e9b038b954019bc_1',\n '4e1be74f6fe5d33ba3f14bfed42a6ff33e2fbc35',\n '87a16a460737c65d045f1d92c2dd36713a8d11ff',\n '330aa9fe28e246b3b0216cf7656c19fa',\n '8a44e70cefb053b577287310cfa35c3692c70823_1',\n 'f269148f55e6fe806cf4603ba103ec655fd49a25',\n '8eebe503eea892b14a68e514af1a38098acd5451',\n 'a9cfc399582056c0c36e4a2b192f4a10f3922a13',\n 'd7142270d6fd89e3195f511115b7208f292dd7d3',\n '74c7d85a599360d1c4fd5cd803dd24aed30fb0b0',\n 'aacef32128f55b73e8c2907a17464ad7d203b29e',\n '650070aba7184467ab25d405582a961c',\n '45b57e381a8d591a25464ed9068a2217b4e30448',\n '77c2ad11a017471e80b8be4461d80e5e',\n '82ba708b3ad7ca797a215110072264591fc0657f_1',\n 'c2f5796c163e432fbb5dca262f5a8e27',\n '72e4c5161b98c14e4d5adcd7d1c9b7d910d06dcc',\n '267b3494806c68ada9b3fb3e51cb5e7ce5cd54f3',\n '0aac8b0bec1d41b789870d690babeb75',\n '579530cb7a4bf23e7ffd7bb1dc8e364648dbb60e',\n '1a351556bf195c9087eb1c3b40b9e73470e3acb3',\n '16fdf0b50cea40818ccc8a8587668b77',\n '00714b924388af12552713dc65fa4446df3986e8',\n 'afdd8b8b2c0eb2d11da4319cde9194901e2a5d3e',\n 'e42c47747a3bc40ef55c66438e693c24d967d390',\n '2d3c104fd65844e77b8ebf0a6cfd4ee8a84a9dbe',\n 'ec371acd3c2f40efb6c999c6878fb509',\n '8082d61e2e12451ca750594d9acda1d4',\n '898268f591e2c5effd13d68e9dbebd3293a5a27e',\n '0c02709dc73389975252e7e0e65b8a6d55974910',\n 'a134cbe88726f82c8e14d9b3a0ea40e9c3076b27',\n '2b827a805a1648fab8bbaf27fe70a45f',\n '3ae8639c456570b081d0521636b351537ebda961',\n '1cb7f95bc258c50e23cfde19c9e386018b942820',\n 'ee2a4f5bacf740f62fdd7ca7e2e75e941709204a',\n '7976d35a5055716ed855598466b784f37844445b',\n '1cf73406f7f8cd4649d1ff52ce78cd21',\n '7d8700e124fb407f92b0e97ca43e789e',\n '1913bbc36fac64bdcc5fe53453f679dc6ddc0ed1',\n 'd08659d6611d46678a46db276657acc2',\n '5250b6a7eeb54bd7605a66282e24c8576f460c6f',\n 'bc9782def83e90ec230f7cd880d234cfec1d79f7',\n '33374dad92906abcabcc60e30b44159ecd05b306',\n '24af37f89f48429eb57f315f3c5c80d7',\n '3dbea6db3042f5a519f6f432b6fe1c0f0b1aee59',\n 'c579e4ce96a2bae12b5b8f40eca224c240293141',\n '2565e5b77b6f4a608899c279f15edc08',\n '13e7d7edf3f8117ee915d08f2e3771a946735fba',\n '4b9c86e02684d14eacab4d623a9d65d823c635a5',\n '83d4bd279ba5491fb945c7119822dea9',\n '0538f84e453591c4ce1ccb77a2500b784f15fd1b',\n '30a1db3f677f468eb42eb993222bcb71',\n 'e212a96953cee4304a2544eb51294af1ccd3f872',\n '1756ff057503415d916b96536bff2420',\n 'b13bc69e840c40c693c39b1d279a2f5d',\n '3ea4af04c30ad043f61f16b6fac8d9587585efb0',\n '9317b2c0100748ce9d642368b929e27e',\n 'e7e70a626d7f71d05b8e68030dd254ae6b2babd3',\n '1c4bfd238e23edf723711ded45807b38ea31ecdd',\n '84f64500a5c048a5994c7aed23a421fc',\n 'c0eb1f2181a0c40b0cae45e2faad308011359e66',\n 'f16b22e140afe22e3783d28d38dae72fdc138152',\n 'f11623259131959fceb7ad78fc84ff9ef6bd14c8',\n '1668b39f10428a60b004d6c1ae67bf7168bce169',\n '8eacb2198a8e415886a71f1eb86b865d',\n '7c6c04a5d624cba0f78aa15b0b151724cbb4e530',\n '2430e0862dd0b076cae8ff64f3c4944c3080c610',\n '54430dbd4fbfab7abab817dd59b2c2ad2ae3abd5',\n '6d23ba79e856a878723e1f98b2afdf26b0e8a235',\n 'ea19544e4c2b4be2a3d82a2df84594df',\n '6812a8f1a6a344be9698aeabdea4699f',\n '831dc55e653744f9821c6308913a4810',\n 'eda84b9de13147a6b34253010512894a',\n '3087597d85604b02b5b0540667fce406',\n '21afb1d2ed0939d6be2867135e4187a0f2bca85f',\n '85dfaa51c8ff5bebcde9f7d52a0f13d8e2ef92f9',\n '28e009d9bafa2336d5bbd6ef322d082b8fd0312a',\n '36ba49f58b075a06713ec5ad29538e8386cb3228',\n '7990d971f4ac4c9296d2c14ec0bd6ac9',\n '64cbdd33cde19dd186fe4b185bf02a95e17011d7',\n 'bed28c76ee188ddfca99796e441a76337aedbf4e',\n 'e268b9d3475b4409ac5db12ba52d82df',\n '9b7721131bd246779b0cbd602b5033f7',\n 'da8b959b93d54849b5fb4852d79eda58',\n '6528a9ebc8a64c588fff1641d15f4bda',\n '8945e366e62a45d0a6e66745d61821d1',\n 'b62b904446ce1e7218e80b14349822f1ff16aef4',\n '3dd40b62654f46589479391f492ec23c',\n 'cafda5c2b0a885b30b11db2c897c6c36d96a3596',\n '2553d3e6591e4d5ebf2066f5326e91f4',\n 'af2f1fd1fc9f4b62ab48ebaf414ba686',\n '5dd86511dee84ceb99561d2d72b53877',\n 'a8742ddc82b44384a72ad30165ac6cd3',\n '647afdc63a934f888f072bfc2c452008',\n '0c4490fe1bd3bd2381d81308c6731d4ef1bb2ba6',\n '6b6ada59828b286c1ddeae0df52815b7497f97cf',\n '598e5ae52d6c40d6fa5201fef63a441147263bf0',\n 'f9e029c0570574268720872d5244005c3fb63c9d',\n 'a4612ceb116c5ba7ebdf94255879f96345b3bbfe',\n '6987e64b880a829e3079b9d15593cfa7297deb8a',\n '4e4eab774606454aafd70a722907c022',\n '60d4f897e14c4a4ea4b9d08092144d19',\n '6987e64b880a829e3079b9d15593cfa7297deb8a',\n '89c38af5c376b7dde285febd7a000e765f68d9de',\n '959a75ea24810b12441c50b4ecbcec776089270f',\n 'e4f26af7f461ad0c63f2112eae3cd6758acf7b97',\n 'c064b0ac9168a6b0cb1ed6f4061b9efc3853995b',\n '8c27604ce0984184920933d22d3f603f',\n '3e4a5de1a1fbc35b0ef8d62ef05a9103df715d20',\n '82bc786f894e4c789a1e847b701a770b',\n '61ee202a5cb74711940e84174e803b49',\n '2f8879d921cb0bca56ab9b7c48c967ff0b52fbe3',\n 'db81382589cb6c96b93b69fcc62465f02bc48079',\n '881510899151ce2e2e2d63b7842d4096beb2bb6e',\n '453d53ddeaa25d206d27c41b1d17639684dbfc36',\n '3702c4e1c93940a999f6b5a09dba9ea7',\n '4b201b08cf054ac69b84c0bdafb8c4b0',\n '483a572b3b6348cb821e002888eeca98',\n '404093ccfcd50e5075dcaaafb958f8fe295826b6',\n '2d5dffb6db3b4180b6128ed1b603ae86',\n 'e1fa4a508b19f520b651832ccb1f1ec2b60f0f2f',\n '42b1f20a911ad1e2983603fe97567f7837ffa6ea',\n 'ea572d33f6a94b457d273f88c587dad7342d34df',\n 'cb20167bb2b8b1b87d6eebf9c977e45eb2fc71c3',\n 'c4d0e44aa2ecfca2d91a36e19b8fbe8784c9fd15',\n 'c1ea9f50907ad04b2b1ccf6320f1d97b9a71537e',\n '8431edfde83a40cdc84b6f93102cc885bdba3f03',\n '6fbd8ed7fea74eb8862210c32e8f7b4e',\n '6339c99e87ff4b3cb2104d48d8fe4993',\n '12f0beecb0387c31249e309ac2e0bededc4e6f73',\n '7e3382206bf51c7e308b50e117d1dab22e147802',\n 'd6026ae5ceb247e0bc7f1d0b39972b64',\n '39a40c09edc34886b4f7e0837f11109f',\n 'b3127ac5130741e4b37498cfde41072d',\n '442c8b0b2aa842ff9389b8198d9fde5d',\n 'cbca724e35b142a08cf9230da717f3c2',\n '4ec216aabbbb0464b078f25d04d949990fecb7ae',\n '292e4e91fc734437b69205c6cb3c654e',\n '11c40eb85287578758ca29ff932408d69e5995b3',\n '44e6c8ddc9903976b304f2c4fdef845ddfb74e83',\n '10a68c65954a4313887aa9b39b0bc7f6',\n '993b1d77a918f498f26cfb11beec5500dd9463e1',\n 'ed21e93018b3fc19f39ccd0cf0c06822',\n '082e2819adde245252d11fd62703fe92d2300417',\n '7b14d3fa87185437a6d54402fc45b556ca4807b0',\n '29cd8b500fc9307409fc960f10647a31790fa5f2',\n 'bee8b18318e6449ea0776d3769e19290',\n '27392d40045241afb226daba3bfe4c50',\n '843223658b2e16ea4fac2f34ffae5456e43d376f',\n '5165099741db8d6fc798ffd0fa0c026b887dfd47',\n '0913d3ea74233a5dd473279d8812eb4298af4763',\n 'b30d2c6a802f02d2c57539e71a7de5e1ad058d29',\n '0471e200f9004a81ec547ac7b4260debfd0c7356',\n '12047eb56e8643149dca6fc06daeb4be',\n 'c3be163cd78943879fffa8023cb1d86c',\n '24edc61154544ba89376ddd766252458',\n '506c267482c8be11aeb20419088336462bbdeac7',\n '359c8891e24a89d925d240aba9c3b56c8618cb29',\n '887f0571b78e97df10aac8ff11b81fce5d1cbd32',\n 'dd7f67fdeed34a8292ea6b149674183070629029',\n '9d39b1390c0bf5325c3a6f8d285597cac6084891',\n 'a2af64cc2e3a53316b9641f5eff8fba129b083ef',\n 'b87da8b814ab43cabab46408dc2cc2de',\n '89c6baec43a2416dbba82d084fa12b6a',\n '950128467ff159ffbf355c04a6c2adc4',\n 'a4094dd049e54ed29b669da9047c940c',\n 'f24df3b8e35140fb98ff876399b09d3b',\n '58af673d72e44107a663523d78f04989',\n 'ef5aa848cb6234dd6ff6a4610bfb6b8c8ecdcf96',\n '43442d7f4d464cb69b7ddd1c5679d0d2',\n 'd3475f29ae4a4163b85ac2617948f96e',\n '2d5dffb6db3b4180b6128ed1b603ae86',\n 'df132fd2e74f63625f60cf8c4964934d52bebce8',\n '9229c23070a81e5bf670b1c68dc25590f201c70d',\n '2f59b8e63db64a5c90a688c8ac5f73c3',\n 'e6a00864ee60a0f2b23e75649574874435eb75da',\n '168bc8195f3445c18d1faeec0ff1ea22',\n '2628d043b15f4a369ed932aee1fc39b4',\n 'b88aa6d0ab5b404abd4f9be513056721',\n '8c4cd19ba8cc7a511db5e1c8a22e11978d5e440d',\n '8d9f0a7556f6f3d9b5c44422f05849f3',\n '5e992d7c190545a3bc238e0d24a50331',\n 'aea7094ca363498dba954f9084900a45',\n '228b3e80626ab0c154a51a26122969a8889b87dc',\n '957b631ccae942f5bdf4f5674dddfd71',\n '7da786c206d673b871fcee979ceccdb1508be4ea',\n '75cfc63cd12441a58d5b30b07c51c4b8',\n '2bd4c97bb9086f678b0aa02bb88ac2bf5f12b565',\n '27392d40045241afb226daba3bfe4c50',\n 'dc4babb735e64092bc260f0d5429339a',\n 'a67aca65c0efae95e45b14148a33d297f3d6c2bc',\n '6812a8f1a6a344be9698aeabdea4699f',\n 'b66dfe10512ae032cc5edd646a3a125814f483fd',\n '86819b2cf04e4368aebe62df499fcca2',\n '5867f6ea554d39fefbada3c95b0f93b8d7428ea4',\n '55bfd02b295203858a5a9728eb0dade47f7cf1b0',\n '7f2af652a18344ccb71e91214d727422',\n '0049ec255fa44e59f6a2c89327ce9617',\n '880e759a0d9f4ac49a54f5f3620789b4',\n 'a354904c2599c4052d2a9c9256771d0e0c9b5db9',\n 'c38385661ac24617bbc0a3f9280584ce',\n 'e621af6f9c734e26ab11203567a0ddf7',\n '2873c749bcdc41909d82eeada87fdb7e',\n '207431e1828743e7bbfff8c5ae45f17e',\n '6053d847bc8447da81b9f0fdb26d01d6',\n '64603b6758044b5fb0fa5ce882dbfe2d',\n 'da49443a7258379b54a1c0a2c45d3f744b0e5bbe',\n '08448cac46004cab8628c24b3c5bda8d',\n 'ba5473ca1ede4d11ade8be7cd717acc7cf81acbc',\n 'a8527018f31342e08fccc189551fc4ec',\n '5f364a2f5ed07f9dc861ef5abba1fb4034972c4e',\n 'b2baa6b46b5642c6a6c624a6edf4ecd5',\n 'c705694338fc6a1b91e814b20fac16850a06133e',\n '156e0bdf07e847c8b45efb5f43a2c1cd',\n '4b7ac824daec2a004fe2a414cc089f582a5cc67f',\n 'afe11438b26714f554b20d435fcae0e94cbcd900',\n '7b9517ab0a6a4208a8080edfaee445a0',\n '7b518c9606594573bdf9de3e6cd74d15',\n '3f2d6cbe71c7c841fde50627b359cdc7ed6bb68a',\n '3bd9466c3f946b09306ebeda409715d364582cda',\n 'c2686e9caa5abef58891b5159b8e05008d96fd8e',\n 'abb0cb6eca9b99c4541250ff5857f299178033e1',\n '996db5950d35426a9ced51b168035533',\n 'b03ed1831b86412d8f7f67a778a12507',\n 'd3b6d125247effd678cb9aafb9fc18ecccfa2ebb',\n '8c3ad7b4e81bc732c506877e0f291f9c15bb32d5',\n '28a01bf1e75890ac83ed3aa45a18fccd276aa79b',\n '67e7784ab3fb4ab092455069b4560b1b',\n '454988c4498024ea490e292b8699a3f8a63a55d7',\n 'c788481f33eb7a43e860a8ecacb433d5a2bad227',\n 'f3c42107564311d20c86b70f3f2a90a3c76e59df',\n '3070e12c540e4c4993ff4ce8ce845615',\n '7d6429c68388b3245f611870f0d2582e1fa91a39',\n 'e624cc410998dedd13d006c791bc21b681f94685',\n '2e070219c3b77fc93d8b939d4973825fdc76dc5a',\n '7340c3c8cd7a4beb820067134c23682d',\n '2fb56ff0cd2e4f3280df8a00cfa696c9',\n 'e2aef5c1f0be40e5a25276d7900fd0b8',\n '7ed9e079ddb755e89be7bf4544c341ed1cb8c3fa',\n 'c876686a5abb163b00bedc9e5626d5745c1b2796',\n '85a135d934dfeeaefc01704368609461443c9286',\n '685d5b9f3b0312fc8379a6ba30a3979f9214998c',\n 'c34a7c3a1c0c034c0d99be6a41296f4203627920',\n '2777dd2fc3b64c9b986a95bfa62d6264',\n '467ed41697f84143850e4aae541be2c5',\n '449fa4701dd74003926a4cca27d839d5',\n '0d213e54577f48f41264c319b0800417064ac5cc',\n '543bfe16f994158568c5db1e65be1e3f15ef817d',\n '12d129f7cb2be5967fb273597a45abffb72ee9d5',\n '57affd7e13974b9c8b38e9e6b2ce1ebe',\n 'c40da5e201ad441ab2e998f181698c3c',\n '3708bf80a63c5fd7146d83545e5789ae6a91e814',\n 'bfe91cc24fdff446ddb32a13458f97af919054c2',\n '88ac0b8f1a68abe28e90ef833df5eb1f54e42bc5',\n 'ecb05b607d2ede82f6589c0aab819803450867e9',\n '11a96406a262b172f48afdb00b028ca9536ef7a6',\n '1cc072c9688af2112fc478caf60f0bafdb2433b2',\n '7cb7e751d47a81a745b6e4beec4288eb908c3d25',\n '84117c03e84b33126b1ca8e1ccdf8411ac85ab94',\n 'df26d9e3011e4fc989133b1bd85c46b4',\n 'aade810dddb654abc4d91f1bc0ea2311c3b844b7',\n 'c9a45f790c364d6aab504c3a4127dd2b',\n '99c3f70f501f42be9ee80d5fab22c445',\n '4edc6a2c885257991ec8634eb199a20cd5b60c88',\n 'ab1c2723256b4abd22d83d9b22541169d85a2aff',\n '13bbb754c4773748532d3039abc21309d69d71e3',\n 'de28ffc0e67e44278f5b2d1552422a1c',\n '99a9f667ee2b4380aa3f0642c7c27728',\n 'fa05fbab709a913d75fbbfc1b2413fb2f8b7ff89',\n '062ba0cae85139402febb5a0a98809a4097f0caa',\n '4e38833e42e14ab3805ebac77f97d582',\n 'c9eca72487ae068536df85e9248fbafebc486b9f',\n '58c3401b98e44518966a14673f44d5a1',\n '977eaed07cc24b6fb6a98e54760419c4',\n 'acce824d2bcb45519ff22f8d374bde72',\n '49ffaba1ed0f6c8dc6fc19def4ae1fd2761a6e29',\n 'a5852ca0844358dfcdd6a3bb94c6f58b0179adf3',\n '14fb396d5dde440eae6250a8800a6182',\n 'ae80a9e3aead488da59fba8093370ecd',\n '397f96eb2f0b70a51a3524ab6e2a4344ee717a3c',\n 'bd841c7615cc458aa2d5eb16ed0356c4',\n '458b3f313bf3406ca2267b267ce4b83a',\n 'df135c75a9c340d599e53da2f924b0d8',\n 'cbe7396071baf3cf1a092b3f1d3b2509b9b5ebe9',\n '89f89bb66e8f316dc72383d174460dc3e1083d47',\n '64f75acf1f1f14c579f61c6828eecf39fe155edd',\n '3a401e0d9ea0f379a92439bb31e875cd1c2aad40',\n 'a26ba16f468e672c6cf954e0554d9014389374bc',\n '2bbb7defd6dae65e081e94e32dcdba34f36d03d5',\n 'bc3d93d5ea3cc691ed72f54e5627cd5a75d8dea7',\n '2fd7bc40d105448739bbfeef902fb0f7a9368867',\n '1e1c8957fe5e491794afe51f4065c391',\n '9f9703002bda47cc47e0f349e0269d7e0286ec02',\n '221b2d78e49f4b75975a97055d62c8b8',\n '67c021e40bcf4808b9f5572147dfc53c',\n '51c59667321210a91b5e5b9a7cb708132c7eb1f6',\n '9ac950fabf0180eb4d582c9d1e6599b0fa684b0b',\n 'ad8d44b1fc58825239addd0e1edd25ba',\n '0c2b1cfb52944ecaa7ac50dc243236df',\n '66570594c8e43794b30d068ecc2bfd8faa0bb07e',\n 'bc5a74ae86a8495f8159967e972d8c0d',\n 'e8d49ed76af3d6ec3222794d951c234f_1',\n 'b454e6c1b367461585e68848f7d29ab6',\n 'fac8b5c6e79a456fb7df8a235bab1364',\n 'aa7c1e7069a845ee8f35aba1feabb036',\n '948aed1bd075aa1ed5760ddfde3d1a51afaa4478',\n '41199d76bffde4da79fa9166337f736a600dbe1a',\n '7ccaef015671451392df4a3f7227ea36',\n '554aa26e65bf41a892e311e8cd21ca9b',\n '1692c0fe0095160a648d78fc535ed59c2580afca',\n 'cd297a479d198e38c90720c2e7788991399251e2',\n '9b1409a3105e3a411ecd545aad46cae3c29a5186',\n '39d7b44acff0b258600d29ce65c3005d38ce4856',\n 'ad768fb66e8f41d39554721857de7e3b',\n 'fdf003ed00a77f12ab7e2a50ec2b4dcf786ddc86',\n 'e898cd465b793ca5b41bd05ae404451e0d267cbd',\n '0d92a5cd0e0541988c57d5ed5241bd3b',\n '5a64416c10b545cebf2d5520702aa500',\n '70dd18cf980647a9bce2638d29203b319b2bae34',\n '0fe64ba07b61412e90ce20683460980a659b4799',\n '2692a7f310123839b7deda1624f604a0d1b129d3',\n '2f59b8e63db64a5c90a688c8ac5f73c3',\n '83869379830349ccb574f42a30b37bc8',\n '0b6e2e38d76c4a40bf6ab7235f92c5e7',\n 'bac78d3ae2384733a6e9eca0f3bc22bd',\n 'c75a3df627864bf79a1d1a73d20dec88',\n '447eebaff41fdc9c36cf680720ea2ce321d33b67',\n '488f42af3ce137662c430e9ad18c3c67dea60ec5',\n 'e1a5fe0f860b4654a07d2f481b645e7a',\n 'a246af089903bfcf7de8c64d051905deb7b6a1fc',\n '62f8cca1448246d39dee4eab0bc7a9dc',\n '637a1cfb68f249bca1aa8ea31825770b',\n '508fa018b662281e5daf1c5dadfcb2d849d5e93f',\n '7e5ca23c65ed236bd1ba141a1e4080f41dd525cf',\n '2bd12a3e61ef44439ee7786d95e3f5c3',\n '9f2fd8f5b51342d6777bdd4ca670bc316a088748',\n '8375678187194a50bc8968d32ee32aa4',\n 'c4a0d5159ee24435a2f90f505f8f34da',\n '6557febcce7b41109814679d6fb18274',\n '23fb6fc340e65dd148ca1b13be6b5f5504d4515a',\n 'ab4c358d9dc0422681086f2294f5aa02',\n '1d59e64d81495da6be6e4c8b7e6dfc6d7a93f255',\n '9d5a61c041741860636827a47db0b437189a82a5',\n 'af890cd09f6bb898be67af4e3c256db566dfaf4d',\n '26d0a2ea75360c1e9973ef349941d1ae9391cb5c',\n 'fd70754b176444dfa65656de52c6d5e7',\n 'b439aa44870a4542a7c688b8f10f7423',\n 'd598d5e4555244ffb73b0d8926832229',\n '522de2ce56c756d540d022128ececaaae686328b',\n '0d07a0c9422ef88920252393d50d9119',\n '66634a8860614ec586a905ba4df04654',\n 'fb79a613cc49ff3ee200cea5c974b9ef71a825b2',\n '2b05786293aa4cabb1bcae256cc163a9',\n 'ab24bd6272c956a8ed98dba469b6f05d3b4faf2f',\n '0aa21bec5f384b8b86b23ab5760c3491',\n '68f02a5469a492976b7ad4dfe9d691cc013335a6',\n 'e992e2482798185d021b1d04116a96904be4bc2a',\n 'af7123137bbdd68832f01470c97261bafe896ef0',\n '87d4d8b799db41358862974aaf601e5d',\n 'e59fc50ab8543fc449cc0d4531104d528f8399c9',\n '672455e07c2687ca6bf3bc7af06960edef3290fa',\n 'fb278f36651e4038ab40b51975e7203a',\n '00c7f49da88247ffa93708ac516d45e6',\n '5a59f64aafa54719831dab2008b3a9b4',\n 'b5789f75c01ec49db4b61352ffe7a4b021af47a1',\n 'e858a5591cea321c1e94a5ebc946933ae9c33bfd_1',\n '554aa26e65bf41a892e311e8cd21ca9b',\n '1aa3cbf45ad0cb239c8444c29dfcd112805d76d2_1',\n 'e2aef5c1f0be40e5a25276d7900fd0b8',\n '2f07cc0de97b496dab214b8f70dbe261',\n 'edc3186e8dea986edddd733a42dd56238e24b6ef',\n 'f2e8252ee3dcd8558bdd2ae86a5a88837595208f',\n '4296827069a641649f117fa6defc493b',\n '6040bd3fd53892b784ea446ee1b9dfb8cfa3a25d',\n 'f9ab8726066d0214cb1bf60a12d00231f685333c',\n '293d61fa90714e188aeefb78c126c52f',\n '3babb8d813ea4d378120527c1456e419',\n '6031f8e70911c96a6f8c7ab5dead6c478595e1db',\n 'b22f3aac5ec5d8e4f649e8b10602d23efb6ed233',\n '36dc1c2b66bf4208b7f420bb85ec957c',\n 'fd99161db8bc3b66140c817008ce1d9cfe970be9',\n '66aa9b6dc34e0b3fdec70ef625939215d99c324d',\n '1cf0e4da1e9c49f1be8a3dfef6a09019',\n '2c689564684e42f6cae5db00b7b2b6da0c5a9319',\n 'bbba6a823c58448aa08d43bc0351bb9c',\n '926e1fb20633aa9e9b044c6b0ae6daed6cf2b1b3_1',\n '6245aa04160a5585c161aa0ae8d9dc67e39c4080',\n '564bf6b9c3e540feb50b6e2d8dd986205444b4b7',\n 'c310e4fb2e324b1da17672ef7bb10a0e',\n '372bfcfab9ec1efc25538266529f0e7fb283ef16',\n 'cb1928188895c5a7fa72ad8017b0d6eda6996153',\n '64fe8c660a030a523dc6f9ba8e631ec5b5205808',\n 'd6769fcc63f7783f62f51ca3fd1d14f70cdb77c9',\n 'e33470ae96064ae9888c3f7267ca9a34',\n 'fa391e826450cc595ef8323b3e55e42539c99c39',\n '753e0fbb3be7c9130894b2993b4b565d38b5f7b8',\n 'ea12d0533cc98cdf10ed100d39402e13e2c1baeb',\n '9b60951767718c8deea4cb1f0713076e3c24cfab',\n '517a7cf6076df2c421a1e7799382f424de51a53d',\n '71c0e12918b64a9d94a49683489f3db8',\n '1d3d0ebd02b742ebb9ff1b20b6a65dc3',\n '5a0f40840fe3baad8822fef922f3b5bc64b1c6c0',\n '91c0335cb677f816f2dcdd26354d99035d1a1a95',\n '9b1409a3105e3a411ecd545aad46cae3c29a5186',\n '90830b8e5s9371634e71bb2564991594c73d525gj',\n '6987e64b880a829e3079b9d15593cfa7297deb8a',\n '65a1386fc1a5539c1670ca17baf239831f123809',\n '539ee635b7814a49ba324c474add15df',\n '32072c41642342d48f1b8ec0de313987',\n '74e5214a7ba80c52dc1d8ccbda40735d151c701d',\n '6243ba16385f4a95a644082b142ef571',\n '275472182c2e96016126f6900fae9604a886d91f',\n 'a93ccf418224958b31228036a617d8781d42ac31',\n 'f37e6a729e883ee291ea7bd644cfc74eaccdc758',\n 'bb72ae966aea4cf7a5d6fcb24d58b80a',\n '01b5cf5b3814bed2acfb37786cbd19b4',\n 'e9c97c4e7eb144adbf23680fc5212198',\n 'fd99161db8bc3b66140c817008ce1d9cfe970be9',\n '6b6ada59828b286c1ddeae0df52815b7497f97cf',\n 'ced11e28c52f42f8e895637d313eb7551bd6f3bf',\n '7ec6b006b889c9287c32a0da7efc4d8eb0601d00',\n '6ea99a1856718f43542b3ed0e242d78794faa3bf',\n '38651906921e4aec72793984a91127bfdc300885',\n 'a02b1de1bdea4aa89f0c1d45d1b87442',\n '514f97476d68c4e5aa219bbbf7563c78a72f65be',\n '05288d979850fcaeada0a82903e038271f1e1f18',\n 'b8946ab92d20445ea2e9a03847cbe3d3',\n 'f80abf6464bb442592db84c6ab41b33a',\n 'e2e48587237d7c1e7e57233fcb97c71b15994780',\n 'c1beef818ada827c3f4926d3775349b4970ed70d',\n '6f093db8745c488976981f7a520c586e89f1438e',\n 'c47e3ec560f14cbea4abbcba9d4795a5',\n 'a9213353837e8b922cb33a9981553946b6441514',\n 'd9a1a04feace47908ebbf1eda04065d3',\n 'a3be6b2258fce6a57ab6646f620c806b2a2463fb',\n '37c963fca4b84e96b2ab92753eaad8c0',\n 'c149d889c686da574c35c5960b2bae71a2907711',\n 'c1f2f50b7d904c4ea007f4ad48fc8903',\n '539ee635b7814a49ba324c474add15df',\n '2bd137c79a83406282eadee5090cfa04',\n '3a4f838cdaac4cad9f832f91ccc1e604',\n '7255d5612c38444c921a601207175017',\n 'a42378b0f7481f05aa3de3b00116c6f0de3648e7',\n '1919f3bd794c362bb89e59c6cfe9b5dd8a3bf002',\n 'd8769fb91fef13b52fd7147b3acd3e84073129b9',\n '2424737e6a444f2784e32011af2854cc',\n '0f9431ed1b604181887e817da538327d',\n 'a470e210f85d4d7f9986a6e4f241dda4',\n 'f04a503e724a61cd8fb218f27b4c1a273c96cbf2',\n '99c9b6b97a6f2521e512f13453701ed9de01ed05',\n '2d94e3a3f9be486b8bd54ed17c79c9ff',\n '295c073575992bb09a20ca9335f18401fbf0f675',\n 'e7f2b769a7ba46ce8b0030463b37d326',\n '80f81c30c07b4a1d9dc6faf9b8b64294',\n '33182334cd83b0e10e19629f4fa4ac71132f9943',\n '668179b7c1324408a1d00a61b454886d',\n '1bbd040600d64014b824c43a48efe33a',\n '5784a0bfded64200b48fea68ea01c418',\n '28e3ee95b86eba2e827a10bab4ad540a54a89e98',\n '928e060ea82f24a3a2af9442f166925ceaaff23e',\n 'f0219627041e6c800a4fe7d057ebdd53e277d455',\n 'ec79df921795898132d3bb89d01b3305b6868235',\n '4ee1cd50884e7fa435c62b0d9b914cc9d43ce43c',\n 'e9fdf2f0252145eebcc06fe5cd909b01',\n 'b77972ecadfbaace79bba25bb3af0b27ce128ea6',\n 'e1d4a08352fe49059181972573f3bc81',\n '9ce06fbe78e5db25cccadda295de3b961cf3041c',\n '6adf3554af70151d11a29750884256d6e77084d9',\n '622d3c0e0a2347c0b91beff505c7714f',\n '2ad3779504b1d383911a13baf5ca488f46eed5d0',\n '2084016fd72a4a2ba147e17bda516744',\n 'a4b3617836b148c0b17c9a23169b421a',\n '3db4a256f90494298ed3760278b19e3d3f8849c4',\n '7a0f583b7132eea55d11cb41fca3811b60e8ecdd',\n '0852e197ea095b63dd69f27658ae23e203769d4f',\n '0538f84e453591c4ce1ccb77a2500b784f15fd1b',\n '3856c84397fbef488bf03fade831ff767878b14e',\n 'afcb6627bf714d7cbc3c66b16db76b33',\n '3f0995b5274b43e6b81a22c84a8351aa',\n '8c2bb3f61ec7f2b2f6514766db06cb73_1',\n '3073a6d36ca222afcec4ce649d3acee3edc416cd',\n '946fe74abdd0115915eae847b8d4650aa28fdbfd',\n '6f98c88fd123031accd2512d7fab0a059335de0c',\n '4e0db3b0c585b11d6090f299c35cb7a239535254',\n '4edc6a2c885257991ec8634eb199a20cd5b60c88',\n 'c8ec93ebbb0ea1269cb7046149d68217e76b93c1',\n '155d3249179d45ce877896dece296d1f',\n '50d4e38fdc4f4f5a8259a80f893c42eb',\n 'ddfbbabda1faee1e58d9cbdc4aa8d2308ac669fb',\n '89891e59f654a6910f4b7f58bb9a7360303d6d9f',\n 'b9a42ecf23ec5d9405b0713fa824214d68a94451',\n '04bf612d7627c7d26a626c8d70fb99aedac68695',\n '126a077adc1a3feaa5bc1bcb770139de7d04805b',\n '51df918a0f7275a3d79691efd176b0449ae29f12',\n 'd88b26fc88c8938b5d17c89e2768354cf3c04cc4',\n 'd1272a48ba2103dd3df65f8461b3ae3c4d8d0c30',\n '29c6a80fa81823047a5e55659f05fa82d4fc710a',\n 'e8f0ef6dbadd98c752b98a5566456baba3ab7221',\n '35574fc06f96d166cb7027996ab2ec95da2f07ff',\n '5d66344ee018225ac20c106d89d76b91f2894bf7',\n '5177745aec8feb1ad1c339c39204d4105fdc07d9',\n 'c5988799b253439da99b3d6aa306f7a3',\n '7ba0bff087f321e0023637597ee837a43d149149',\n '7dfdba859a3f4071921e788fe4e694ab',\n '3072599876d04ecfb9c44b637e3e9c9e',\n '3fdf86bb64747e629f297b7ded645ba4b725c841',\n '7d1f5da5db2b4aa795b0061435fd9f14',\n '769c484b28f74498944a74837e6fc424',\n '7813e797ebbd99422b2707ceee31549a56b48d0f',\n '996e95ce68a94cc6ab13781e9e207385',\n 'eb1242770a992dd72d0805155bc9e8c968cecce6',\n '73c8b5303c2e4245b75ce0b4debd77a2',\n '320a88c50a8c973d054aa7804d4fda064ecc1e09',\n '8be41c82035e9a5a2789dd63cd06b57cb5558288',\n '2c1c42365ba14af4963b964ebf3dec03',\n 'b6f51de185a048f5af1fc0a7826dc43d',\n '8b7a6795380744c8a5acbfa9443fd6f0',\n '0ccd03d07bf141a5ba2a134d07057e48',\n 'ebf8939a2302f95b834b024e9661b760',\n 'ce19fdf1b7204c6c9cba9bd53fb3ab23',\n '5e3adcc1cdd7c9e8dea9c30cb2f942bc0b3db5e6',\n '444a1a13f95ed389531c05415516a8758c6b022e',\n 'f4c29d6652ed46b29764f1a6cdaab671',\n '40de890ae4334d29f05216944462931587cbb70f',\n '31180d38d38f55fa1aa518578a190b8f3f9749d3',\n '64b6a1a7205ea3a69e1e36e86c9b5d23012fe97b',\n '5fc8654db0b65e6dd624f055039ad9e4757618d8',\n 'd1d678d0e957216f82182b04ed46a76c',\n '46fd364683164ddbb528466ff23987e1',\n 'bf119ea12917b444e7acf1ce8c91de6afcc3cd28',\n '71260ef49118049bea3bfb8808232dbd0effdb81',\n 'a768e39a7918d0757705a258f355effe39215414',\n '365909efae094b52af9d9ba0e0a517c0',\n '74c7d85a599360d1c4fd5cd803dd24aed30fb0b0',\n '0194e6f6af5244798f20b262e58956afa0c95877',\n '990f4802d25b43eba7248531de6591b2',\n 'f78e5f868269b52d3e92f9f27d820e79',\n 'f818272ac69c4d06b8a3c92410bc7744',\n '56f749eb70d5b54e4076549027e8e48c8d024ba5',\n 'ba92e1e5f2ab2d9dfe97fbce8e55c80cb3080aae',\n '8f6c6f3a0e51465483784206eb9780e0',\n '5d83b861562a497fa6c1de7e28130d18',\n 'c14914466b780c1e75a355193dbdafc39e90b656',\n '78327596e06e47eb88cfcb006448c7b0',\n '6bf59beaae704fee92ec316f9f5d6538',\n 'be6fd3c9e05a469f9763cbe3aea296ff',\n '541d5166180d4e5eaeec7e95523dd4c1',\n '41d9bbcd73c24e7faef82347e188f0e4',\n 'd13ce905f7dc4843836c9e4c65f90667',\n '8e8eef6c0adbbea86219219209715533190c048b',\n '72e7d06a5f3e2adddd4d6b9fd746d997f76315da',\n '438fe862e32b485b8dd3e5848995acae',\n '69af3abc0f9000a4057ae0787018a94e3c7dcc57',\n '4dafaff0ac1a3530693491c9da158c47906b945b',\n '8d94eed2306a00706ac48c5f2e3de335bf2642bd',\n '190a4462a59b4fb9b927d3a29be33dab',\n '6458218507d190196f866a4f420ebb64b87d7759',\n '6357c9086c73348025ba00d25d37668c197787b4',\n '8eb7f519a9f744f466deb3b6e781da8f',\n '53ef854130fb7e8f159959d20bbd82a51441576f_1',\n '6b6216ec968d4913f4a66e9465a5241579ee6099',\n '650710e90ac77e0fd30676d05f8685bd9f9e41bd',\n 'f8c35a3c8ec0441bbaa8893654228b3d',\n '71c8c7aac2f94c65bb994ff83c8866ec',\n '58732f8b75944836bfb01dfc37d3c848',\n '88311e835db84c3ca28e63e27ec5d50f',\n 'bb0edfb06c154e70bcd42e026cbad665',\n '6da5c1b2e1fe662cf79cf42ddab78dc09ded029a',\n '31c6b0a0b49fcf5e8663150cfbf4d662e0847c13',\n '9918e745dfff456692e980f7feed9b55',\n '70b4d615e17f49a78986cb07b284b3ed',\n '1668b39f10428a60b004d6c1ae67bf7168bce169',\n '8c53cc6cbb9541c1905a8183becf335f',\n '5032591dca4348a1a4763938a62c5b60',\n 'd304cbd364e645c6b492c9c483b61a2a',\n '2fb0f72b1d4e1aa54f18f2f2c264045e9b3549e8',\n 'f17bc09acb1f1e2e70ddb768b11dea153a27adff',\n 'dd370ae6a7ea4a2c8011b8a4505d91d2',\n '9b0752b9b3faafdcd99aebd0512c1379e2ccaee9',\n '7bf7644aa2892c448f1181e45efcac97a48b386f',\n 'd6b719a8b72208981b9fa195c3d1f4e8ac2c2228',\n 'd5d774e12ef34f5296395ae8e96963cca61c4835',\n '9ca107747757ee957974763f64f10dbca09b0395',\n 'bee8b18318e6449ea0776d3769e19290',\n '3428bec81d9e64101b40b878c05582aa525481a2',\n 'e4036fe7bc4f4a57883e472362fcd9d4',\n 'e103ef9427537cfd6c0bb5a627cce377e0af92a4',\n 'fc171752fcf4a813e415c7698605c93dbd1e314d',\n '1a8113c7402d216dccb7c1fd97b5b12a45294f60',\n '99f59e9feb91bfa7b1fcf3f6a493b6fbb38fddfe',\n '13ff365128904c98a59b3a471a0ebd6d',\n 'f89cf2158f762d3cbe93df486e7c21f424c8e178',\n 'f7782554f02240b49f5e1af8152c2671',\n 'c9921ed51ed94a0897015e112ae07fc5',\n '507713916f3edaf7c7cae027d40d80f3216802ca',\n '5d3a3c88b06848ed88ae5c7815923124',\n '2f98dd47c64b429399e559678d104cb6',\n '37869f4f15a9d37fe53abd7bbf9a929eed1614f4',\n '610296e4bc544a57941b771642847c5f',\n '8e3785e54136463b83996af7d9368146',\n '4e0db3b0c585b11d6090f299c35cb7a239535254',\n 'b2645118aa064e22a6a54482cd384c92',\n 'aba810af2ba2ed78d3ae4ad8208b40e643488482',\n '1b659fe3aef248b88e8eb42c2e52ff95',\n 'da0f4cdea1a74516b2e0e704cf3392c8',\n 'dd1caf3d58554b458c8b644bdb044796',\n '052b76887b0a1cbb4d6e5c95cdc636f86fd593c0',\n '919c823c1c35c488914d53ea6d280a51cee5dfb8',\n '495f04e2f4e743df98edf1efb3e1cafd',\n '984fa0193be44c3696e88c541e2ec66f',\n '7be106162eed80dadc1e13cc64309ad680e09c89',\n 'c7e1ec7627db37e3038bfab6602bd70c',\n 'c788481f33eb7a43e860a8ecacb433d5a2bad227',\n '7844e18ba8be57a61988fb987423564148da386f',\n '07e36e89478b4850a56e05e78707244e',\n '67c234375c9e4fd588353c458dbde9fa',\n '1259c5a86382fced5d40258bd7c4d16141b910d1',\n 'b77ac8027af540ba9837dc4492a8b299',\n 'd6501eff87d44ba9bc9235a95d058882',\n '2f0fb5e0b7bab62f4dda026f928ec3393cae524c',\n '89036ac2e9312ee688d20fce04b41cf76129d387',\n 'f8dcb99c0df54d9595bd9f4a7d85a6ae',\n 'd1c7293ab50446c8a445843bcce5c263',\n '31e6c83c5d79d0bf145802c82ef46c83db841553',\n '77f5b095d7adff538c1802e93d709c414fb920d8',\n '2e9eeb62f85b97d63c1a4e21789169cc47ac3021',\n '9e793392f56e4c57b30cc1b36cb95da3',\n '187470904da64fcf8784d20557ef217c',\n 'e588c024bd914cd9916fefa930d08445',\n '409413336f5f4be188fca00c57a648be',\n 'a3a783d71ce244b2a04f9bec6ddb37d7',\n 'a44d89b3d1234e4790a0bdb9ac175300',\n '9e028390f8c244389b615744bbc116dc',\n '565d594021a4ae57d0e7d66975c116668ff38bfe',\n '1f65ba0a087c0be22a5fb1ad5f2a100f1de646d9_1',\n 'f424564bdb5342b7ac8c14a84ebbf287',\n '7358d4a5594c7a1e67e182acdbc9808a84d03f07',\n '8a921363b8e2425c98d389102f2c2e58',\n '6a00f208341445feb64ea78ffbc1d2f8',\n 'e30daaec58c326da194261108e9e9f562600b703',\n '50b8a0b236f174c83c1de52ba920db8ce7ffcfc4',\n '3457fd63e0f2875d72db6e7634aceff6033c1c2f_1',\n '13af54fd0a84430e8ce40d79858484af',\n 'efea4af0f0f24f679ab5d5a7587252d9',\n '77c2ad11a017471e80b8be4461d80e5e',\n 'ac580bf42bd6539820aa8d6277b2bc406580d073',\n '749586da8d1e3a1860530aa3072d4bfd251daa18',\n '7a177009e7024cf1bef67e3550f985e3',\n '896d8824a89843e3ab5f4825bf85804d',\n '3a88ca5cf830f5296940f8ab0158e5f4423c22ea',\n 'a13daa8078a04296a1f4de0f8b340fef',\n 'fb99e12899a813260e11d27dce732a7cbabad463',\n 'a3e3b4c8eec1413781f08454f8def209',\n '01cb7d5e74b211bcbb50ada83c79aa7729d07f1e',\n '9374207ef2aae18ddf3acdf472039cfeafdbaff6',\n '63d6866a7465a5c194d651b8aa24f22aa5f49f2f',\n '978d1205293b05e213506f406c446ae88d4a3b2f',\n '4545df2dea3edc399b266103e32f8cba5604f23a',\n '4f7a7f643525b86bdc841b3cc50d9b153546d680',\n '82806fb79449489f946ff6dcd1296f7c',\n 'fc2047c01c564daa2fe52b8ef0db1495970d8971',\n 'd6b3f2b2aa334f9a9191ecc833da9891',\n '21777acb912a5c54d6efd1d21756ae83c1f09d3a',\n '9c63d5af7b76698c6571604e84d28fa0b87f51ec',\n '5c1d2bade9a6125fb4d997c8c912b368e15d65ae',\n 'fe36472f9e77460a9453e808d9885915',\n '86e2936c13f34fd68934aa191c79793d',\n 'aadc67268466ccd7fc6972bdbf719c0c538fbcc2',\n 'b3de29d375724760beb24f2f40d56576',\n '82d85d2454c03341799879d5553ecb3484eca5a4',\n '2a11db277f97426ea2ee28d6a9b36418',\n 'b3a22c28284e4de69efb358940838cb1',\n '0782dd2aba4877b3cfa0acd8a18ba9df5386bb92',\n '3b33b1fec97646899c58e90df6b71a84',\n 'd0c930655096459aa2f0e38edbe587b8',\n 'a367f8328c818126f7bc0cfb205e88be6fce1711',\n '0ba7b7d724cf4fd5a84525eae8bf11f0',\n '122ceaa096963aa5b1a073e735f336dcb2cca9ca',\n '0ccd03d07bf141a5ba2a134d07057e48',\n '2611c4af5c254acb9303de51063617f0',\n 'b66f7b4698be4d468baf3aa1d7c1da67',\n '1a350f42f40a687666124d31dda0fb43b18e3f27',\n '487824fd0de785408f4b9536a5e51cb937e70503_2',\n '6987e64b880a829e3079b9d15593cfa7297deb8a',\n '928a86fd60cb4f3f928e7394d8719b93',\n '92bc23d820c44ccf97eb7e1381391721',\n 'a766a316e8838ed29f0b9dcff9a9327404bb296b',\n '0a4d2d49e36879b06db629b32f6f81daa96a4612',\n '2159250c4a524576559d57d15ffc9789d2e64787',\n 'ddc8f77cc0bb4f0e82d79f2727bce84f',\n '61bb0cb282c1f9cab12883994a2843202dca9bb0',\n '15f7776903a744c6aab085ca1d6e8a14',\n '08bb51abd226464f82378196a175e8f7',\n '26f8f4fc1c34f1c9194d37c74c6b1ae1ff961a06',\n '7e4352eb49dad04b797ce6b1c6a2e99dcd378f74',\n 'e36e45b9f3921df5916144d97ad18dca72b0964b',\n 'e12f5d4817fe410b987fccfd764d1f79',\n '9b20ff89d51d34c337ec8bbbe65da5f49655a217',\n '4667b0f4bacfe71baea4285e6ca8854ccf4cb218',\n 'd6af172439fa41d497ee4d55ead09fc3',\n 'd848381c9ffc42bbb00c3668fd0e624d',\n 'eb920247b15089e20447c535e3701233db766858',\n 'b4fca1f241eb48199020184a4b30420c',\n '75fd75792401499f96fd0640ae1e9126',\n ...]"
     },
     "execution_count": 56,
     "metadata": {},
     "output_type": "execute_result"
    }
   ],
   "source": [
    "x_list"
   ],
   "metadata": {
    "collapsed": false,
    "ExecuteTime": {
     "end_time": "2023-09-11T03:12:37.544519165Z",
     "start_time": "2023-09-11T03:12:37.463463725Z"
    }
   },
   "id": "9e8d15fe643d6618"
  },
  {
   "cell_type": "code",
   "execution_count": 46,
   "outputs": [
    {
     "data": {
      "text/plain": "3268"
     },
     "execution_count": 46,
     "metadata": {},
     "output_type": "execute_result"
    }
   ],
   "source": [
    "len(all_imgs)"
   ],
   "metadata": {
    "collapsed": false,
    "ExecuteTime": {
     "end_time": "2023-09-11T03:03:21.672677813Z",
     "start_time": "2023-09-11T03:03:21.612464983Z"
    }
   },
   "id": "19553b2c47a1ccae"
  },
  {
   "cell_type": "code",
   "execution_count": null,
   "outputs": [],
   "source": [],
   "metadata": {
    "collapsed": false
   },
   "id": "93039b9a4ee08260"
  }
 ],
 "metadata": {
  "kernelspec": {
   "display_name": "Python 3",
   "language": "python",
   "name": "python3"
  },
  "language_info": {
   "codemirror_mode": {
    "name": "ipython",
    "version": 2
   },
   "file_extension": ".py",
   "mimetype": "text/x-python",
   "name": "python",
   "nbconvert_exporter": "python",
   "pygments_lexer": "ipython2",
   "version": "2.7.6"
  }
 },
 "nbformat": 4,
 "nbformat_minor": 5
}
